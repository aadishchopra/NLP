{
  "cells": [
    {
      "cell_type": "markdown",
      "metadata": {
        "id": "view-in-github",
        "colab_type": "text"
      },
      "source": [
        "<a href=\"https://colab.research.google.com/github/aadishchopra/NLP/blob/main/TF_Basics.ipynb\" target=\"_parent\"><img src=\"https://colab.research.google.com/assets/colab-badge.svg\" alt=\"Open In Colab\"/></a>"
      ]
    },
    {
      "cell_type": "markdown",
      "metadata": {
        "id": "5rmpybwysXGV"
      },
      "source": [
        "Following the Tensor Flow guide\n"
      ]
    },
    {
      "cell_type": "markdown",
      "metadata": {
        "id": "hrXv0rU9sIma"
      },
      "source": [
        "# TensorFlow basics"
      ]
    },
    {
      "cell_type": "markdown",
      "metadata": {
        "id": "iJyZUDbzBTIG"
      },
      "source": [
        "This guide provides a quick overview of _TensorFlow basics_. Each section of this doc is an overview of a larger topic—you can find links to full guides at the end of each section.\n",
        "\n",
        "TensorFlow is an end-to-end platform for machine learning. It supports the following:\n",
        "\n",
        "* Multidimensional-array based numeric computation (similar to <a href=\"https://numpy.org/\" class=\"external\">NumPy</a>.)\n",
        "* GPU and distributed processing\n",
        "* Automatic differentiation\n",
        "* Model construction, training, and export\n",
        "* And more"
      ]
    },
    {
      "cell_type": "markdown",
      "metadata": {
        "id": "gvLegMMvBZYg"
      },
      "source": [
        "## Tensors\n",
        "\n",
        "TensorFlow operates on multidimensional arrays or _tensors_ represented as `tf.Tensor` objects. Here is a two-dimensional tensor:"
      ]
    },
    {
      "cell_type": "code",
      "execution_count": 35,
      "metadata": {
        "id": "6ZqX5RnbBS1f",
        "colab": {
          "base_uri": "https://localhost:8080/"
        },
        "outputId": "1221c884-16a0-4372-df64-67fbf8c4a712"
      },
      "outputs": [
        {
          "output_type": "stream",
          "name": "stdout",
          "text": [
            "tf.Tensor(\n",
            "[[1 2 3]\n",
            " [4 5 6]], shape=(2, 3), dtype=int32)\n",
            "(2, 3)\n",
            "<dtype: 'int32'>\n"
          ]
        }
      ],
      "source": [
        "import tensorflow as tf\n",
        "\n",
        "\n",
        "#notice the dots after the integers. The data type gets changed from float32 to int32\n",
        "x = tf.constant([[1, 2, 3],\n",
        "                 [4, 5, 6]])\n",
        "\n",
        "\n",
        "#help(tf.constant)\n",
        "\n",
        "print(x)\n",
        "print(x.shape)\n",
        "print(x.dtype)"
      ]
    },
    {
      "cell_type": "markdown",
      "metadata": {
        "id": "k-AOMqevQGN4"
      },
      "source": [
        "The most important attributes of a `tf.Tensor` are its `shape` and `dtype`:\n",
        "\n",
        "* `Tensor.shape`: tells you the size of the tensor along each of its axes.\n",
        "* `Tensor.dtype`: tells you the type of all the elements in the tensor."
      ]
    },
    {
      "cell_type": "markdown",
      "metadata": {
        "id": "bUkKeNWZCIJO"
      },
      "source": [
        "TensorFlow implements standard mathematical operations on tensors, as well as many operations specialized for machine learning.\n",
        "\n",
        "For example:"
      ]
    },
    {
      "cell_type": "code",
      "execution_count": 36,
      "metadata": {
        "id": "BM7xXNDsBfN5",
        "colab": {
          "base_uri": "https://localhost:8080/"
        },
        "outputId": "4a56d63b-9da4-4d25-e873-b3ab41ad49e4"
      },
      "outputs": [
        {
          "output_type": "execute_result",
          "data": {
            "text/plain": [
              "<tf.Tensor: shape=(2, 3), dtype=int32, numpy=\n",
              "array([[ 2,  4,  6],\n",
              "       [ 8, 10, 12]], dtype=int32)>"
            ]
          },
          "metadata": {},
          "execution_count": 36
        }
      ],
      "source": [
        "x + x"
      ]
    },
    {
      "cell_type": "code",
      "execution_count": 37,
      "metadata": {
        "id": "ZLGqscTxB61v",
        "colab": {
          "base_uri": "https://localhost:8080/"
        },
        "outputId": "74225e8b-8054-4f95-ffe3-8e4af42830f2"
      },
      "outputs": [
        {
          "output_type": "execute_result",
          "data": {
            "text/plain": [
              "<tf.Tensor: shape=(2, 3), dtype=int32, numpy=\n",
              "array([[ 5, 10, 15],\n",
              "       [20, 25, 30]], dtype=int32)>"
            ]
          },
          "metadata": {},
          "execution_count": 37
        }
      ],
      "source": [
        "5 * x"
      ]
    },
    {
      "cell_type": "code",
      "execution_count": 38,
      "metadata": {
        "id": "2ImJHd8VfnWq",
        "colab": {
          "base_uri": "https://localhost:8080/"
        },
        "outputId": "5d31c4e0-5466-4787-d5e7-f17be632baae"
      },
      "outputs": [
        {
          "output_type": "execute_result",
          "data": {
            "text/plain": [
              "<tf.Tensor: shape=(2, 2), dtype=int32, numpy=\n",
              "array([[14, 32],\n",
              "       [32, 77]], dtype=int32)>"
            ]
          },
          "metadata": {},
          "execution_count": 38
        }
      ],
      "source": [
        "x @ tf.transpose(x)"
      ]
    },
    {
      "cell_type": "code",
      "source": [
        "# Error\n",
        "# x @ x"
      ],
      "metadata": {
        "id": "cs5h_WVz0dHC"
      },
      "execution_count": 39,
      "outputs": []
    },
    {
      "cell_type": "code",
      "execution_count": 40,
      "metadata": {
        "id": "U9JZD6TYCZWu",
        "colab": {
          "base_uri": "https://localhost:8080/"
        },
        "outputId": "f63fad9b-fcb6-4d80-ca29-c27096c6be20"
      },
      "outputs": [
        {
          "output_type": "execute_result",
          "data": {
            "text/plain": [
              "<tf.Tensor: shape=(2, 9), dtype=int32, numpy=\n",
              "array([[1, 2, 3, 1, 2, 3, 1, 2, 3],\n",
              "       [4, 5, 6, 4, 5, 6, 4, 5, 6]], dtype=int32)>"
            ]
          },
          "metadata": {},
          "execution_count": 40
        }
      ],
      "source": [
        "# like rbind in R\n",
        "\n",
        "tf.concat([x, x, x], axis=0)\n",
        "\n",
        "# axis=1 is for columns\n",
        "tf.concat([x, x, x], axis=1)\n",
        "\n",
        "\n"
      ]
    },
    {
      "cell_type": "code",
      "execution_count": 41,
      "metadata": {
        "id": "seGBLeD9P_PI",
        "colab": {
          "base_uri": "https://localhost:8080/"
        },
        "outputId": "73a73d47-2b8b-4d2b-d7b7-cf61345c29a4"
      },
      "outputs": [
        {
          "output_type": "execute_result",
          "data": {
            "text/plain": [
              "<tf.Tensor: shape=(2, 3), dtype=float32, numpy=\n",
              "array([[0.09003057, 0.24472848, 0.66524094],\n",
              "       [0.09003057, 0.24472848, 0.66524094]], dtype=float32)>"
            ]
          },
          "metadata": {},
          "execution_count": 41
        }
      ],
      "source": [
        "#Error . \n",
        "x = tf.constant([[1., 2, 3],\n",
        "                 [4, 5, 6]])\n",
        "#softmax = tf.exp(logits) / tf.reduce_sum(tf.exp(logits), axis, keepdims=True)\n",
        "tf.nn.softmax(x, axis=-1)\n"
      ]
    },
    {
      "cell_type": "code",
      "execution_count": 42,
      "metadata": {
        "id": "YZNZRv1ECjf8",
        "colab": {
          "base_uri": "https://localhost:8080/"
        },
        "outputId": "39ed92c1-76cb-409f-ada7-7a1dfc16872a"
      },
      "outputs": [
        {
          "output_type": "execute_result",
          "data": {
            "text/plain": [
              "<tf.Tensor: shape=(), dtype=float32, numpy=21.0>"
            ]
          },
          "metadata": {},
          "execution_count": 42
        }
      ],
      "source": [
        "tf.reduce_sum(x)"
      ]
    },
    {
      "cell_type": "markdown",
      "metadata": {
        "id": "TNHnIjOVLJfA"
      },
      "source": [
        "Note: Typically, anywhere a TensorFlow function expects a `Tensor` as input, the function will also accept anything that can be converted to a `Tensor` using `tf.convert_to_tensor`. See below for an example."
      ]
    },
    {
      "cell_type": "code",
      "execution_count": 43,
      "metadata": {
        "id": "i_XKgjDsL4GE",
        "colab": {
          "base_uri": "https://localhost:8080/"
        },
        "outputId": "02c05a3a-bb03-4844-a9b7-2bdc57935e50"
      },
      "outputs": [
        {
          "output_type": "execute_result",
          "data": {
            "text/plain": [
              "<tf.Tensor: shape=(3,), dtype=int32, numpy=array([1, 2, 3], dtype=int32)>"
            ]
          },
          "metadata": {},
          "execution_count": 43
        }
      ],
      "source": [
        "tf.convert_to_tensor([1,2,3])"
      ]
    },
    {
      "cell_type": "code",
      "execution_count": 44,
      "metadata": {
        "id": "wTBt-JUqLJDJ",
        "colab": {
          "base_uri": "https://localhost:8080/"
        },
        "outputId": "0d3ee5a7-f920-4d7e-d12c-6bf0ba8f605f"
      },
      "outputs": [
        {
          "output_type": "execute_result",
          "data": {
            "text/plain": [
              "<tf.Tensor: shape=(), dtype=int32, numpy=6>"
            ]
          },
          "metadata": {},
          "execution_count": 44
        }
      ],
      "source": [
        "tf.reduce_sum([1,2,3])"
      ]
    },
    {
      "cell_type": "markdown",
      "metadata": {
        "id": "8-mi5031DVxz"
      },
      "source": [
        "Running large calculations on CPU can be slow. When properly configured, TensorFlow can use accelerator hardware like GPUs to execute operations very quickly."
      ]
    },
    {
      "cell_type": "code",
      "execution_count": 45,
      "metadata": {
        "id": "m97Gv5H6Dz0G",
        "colab": {
          "base_uri": "https://localhost:8080/"
        },
        "outputId": "04073ea3-5e27-4dd6-ab53-bec5f7b59dfd"
      },
      "outputs": [
        {
          "output_type": "stream",
          "name": "stdout",
          "text": [
            "TensorFlow **IS NOT** using the GPU\n"
          ]
        }
      ],
      "source": [
        "if tf.config.list_physical_devices('GPU'):\n",
        "  print(\"TensorFlow **IS** using the GPU\")\n",
        "else:\n",
        "  print(\"TensorFlow **IS NOT** using the GPU\")"
      ]
    },
    {
      "cell_type": "code",
      "source": [
        "tf.config.list_physical_devices()"
      ],
      "metadata": {
        "colab": {
          "base_uri": "https://localhost:8080/"
        },
        "id": "x_PSk_1L2zEY",
        "outputId": "1e73c7b0-d617-47db-b00f-1b987a775249"
      },
      "execution_count": 46,
      "outputs": [
        {
          "output_type": "execute_result",
          "data": {
            "text/plain": [
              "[PhysicalDevice(name='/physical_device:CPU:0', device_type='CPU')]"
            ]
          },
          "metadata": {},
          "execution_count": 46
        }
      ]
    },
    {
      "cell_type": "markdown",
      "metadata": {
        "id": "ln2FkLOqMX92"
      },
      "source": [
        "Refer to the [Tensor guide](tensor.ipynb) for details."
      ]
    },
    {
      "cell_type": "markdown",
      "metadata": {
        "id": "oVbomvMyEIVF"
      },
      "source": [
        "## Variables\n",
        "\n",
        "# **Normal `tf.Tensor` objects are immutable. To store model weights (or other mutable state) in TensorFlow use a `tf.Variable`.**"
      ]
    },
    {
      "cell_type": "code",
      "execution_count": 47,
      "metadata": {
        "id": "SO8_bP4UEzxS"
      },
      "outputs": [],
      "source": [
        "var = tf.Variable([0.0, 0.0, 0.0])"
      ]
    },
    {
      "cell_type": "code",
      "execution_count": 48,
      "metadata": {
        "id": "aDLYFvu5FAFa",
        "colab": {
          "base_uri": "https://localhost:8080/"
        },
        "outputId": "7b872c52-f372-40be-cff7-f69cbdc72cec"
      },
      "outputs": [
        {
          "output_type": "execute_result",
          "data": {
            "text/plain": [
              "<tf.Variable 'UnreadVariable' shape=(3,) dtype=float32, numpy=array([1., 2., 3.], dtype=float32)>"
            ]
          },
          "metadata": {},
          "execution_count": 48
        }
      ],
      "source": [
        "var.assign([1, 2, 3])"
      ]
    },
    {
      "cell_type": "code",
      "execution_count": 49,
      "metadata": {
        "id": "9EpiOmxXFDSS",
        "colab": {
          "base_uri": "https://localhost:8080/"
        },
        "outputId": "b8bc7e48-23b5-4d0d-8662-d095592d5447"
      },
      "outputs": [
        {
          "output_type": "execute_result",
          "data": {
            "text/plain": [
              "<tf.Variable 'UnreadVariable' shape=(3,) dtype=float32, numpy=array([2., 3., 4.], dtype=float32)>"
            ]
          },
          "metadata": {},
          "execution_count": 49
        }
      ],
      "source": [
        "var.assign_add([1, 1, 1])"
      ]
    },
    {
      "cell_type": "markdown",
      "metadata": {
        "id": "tlvTpi1CMedC"
      },
      "source": [
        "Refer to the [Variables guide](variable.ipynb) for details."
      ]
    },
    {
      "cell_type": "markdown",
      "metadata": {
        "id": "rG1Dhv2QFkV3"
      },
      "source": [
        "## Automatic differentiation\n",
        "\n",
        "<a href=\"https://en.wikipedia.org/wiki/Gradient_descent\" class=\"external\">_Gradient descent_</a> and related algorithms are a cornerstone of modern machine learning.\n",
        "\n",
        "To enable this, TensorFlow implements automatic differentiation (autodiff), which uses calculus to compute gradients. Typically you'll use this to calculate the gradient of a model's _error_ or _loss_ with respect to its weights."
      ]
    },
    {
      "cell_type": "code",
      "execution_count": 50,
      "metadata": {
        "id": "cYKOi-z4GY9Y"
      },
      "outputs": [],
      "source": [
        "x = tf.Variable(1.0)\n",
        "\n",
        "def f(x):\n",
        "  y = x**2 + 2*x - 5\n",
        "  return y"
      ]
    },
    {
      "cell_type": "code",
      "source": [
        "x=tf.Variable(10.0)\n",
        "def f(x):\n",
        "  y=x**3 + x - 1\n",
        "  return y\n"
      ],
      "metadata": {
        "id": "KMLBXM1F4q4b"
      },
      "execution_count": 51,
      "outputs": []
    },
    {
      "cell_type": "markdown",
      "metadata": {
        "id": "ozLLop0cHeYl"
      },
      "source": [
        "At `x = 1.0`, `y = f(x) = (1**2 + 2*1 - 5) = -2`.\n",
        "\n",
        "The derivative of `y` is `y' = f'(x) = (2*x + 2) = 4`. TensorFlow can calculate this automatically:"
      ]
    },
    {
      "cell_type": "code",
      "execution_count": 52,
      "metadata": {
        "id": "N02NfWpHGvw8",
        "colab": {
          "base_uri": "https://localhost:8080/"
        },
        "outputId": "941d5425-b09f-4d14-b780-88ac3efa8143"
      },
      "outputs": [
        {
          "output_type": "execute_result",
          "data": {
            "text/plain": [
              "<tf.Tensor: shape=(), dtype=float32, numpy=301.0>"
            ]
          },
          "metadata": {},
          "execution_count": 52
        }
      ],
      "source": [
        "with tf.GradientTape() as tape:\n",
        "  y = f(x)\n",
        "g_x = tape.gradient(y, x)  # g(x) = dy/dx\n",
        "\n",
        "g_x"
      ]
    },
    {
      "cell_type": "markdown",
      "source": [
        "# 2nd order differentiation"
      ],
      "metadata": {
        "id": "d8I90LGHsc1f"
      }
    },
    {
      "cell_type": "code",
      "source": [
        "# Creating my own example with the help of documentation\n",
        "with tf.GradientTape() as tape:\n",
        "  with tf.GradientTape() as tape2:\n",
        "    y=f(x)\n",
        "    g_x=tape.gradient(y, x)  # g(x) = dy/dx\n",
        "g_prime_x=tape2.gradient(g_x, x)  # g(x) = d2y/dx\n",
        "\n",
        "print(\"3x^2+1 = 3*10^2 + 1 is equal to tensor of value 301.0 \",g_x) # 3x^2+1 = 3*10^2 + 1  \n",
        "print(\"6x = 6*10\",g_prime_x)  # 6x = 6*10\n",
        "\n",
        "\n"
      ],
      "metadata": {
        "colab": {
          "base_uri": "https://localhost:8080/"
        },
        "id": "mBBsqhEi5Aj1",
        "outputId": "3bf3b48d-03f1-47db-8efe-2e68661f670c"
      },
      "execution_count": 53,
      "outputs": [
        {
          "output_type": "stream",
          "name": "stdout",
          "text": [
            "3x^2+1 = 3*10^2 + 1 is equal to tensor of value 301.0  tf.Tensor(301.0, shape=(), dtype=float32)\n",
            "6x = 6*10 tf.Tensor(60.0, shape=(), dtype=float32)\n"
          ]
        }
      ]
    },
    {
      "cell_type": "markdown",
      "metadata": {
        "id": "s-DVYJfcIRPd"
      },
      "source": [
        "This simplified example only takes the derivative with respect to a single scalar (`x`), but TensorFlow can compute the gradient with respect to any number of non-scalar tensors simultaneously."
      ]
    },
    {
      "cell_type": "markdown",
      "metadata": {
        "id": "ECK3I9bUMk_r"
      },
      "source": [
        "Refer to the [Autodiff guide](autodiff.ipynb) for details."
      ]
    },
    {
      "cell_type": "markdown",
      "metadata": {
        "id": "VglUM4M3KhNz"
      },
      "source": [
        "## Graphs and tf.function\n",
        "\n",
        "While you can use TensorFlow interactively like any Python library, TensorFlow also provides tools for:\n",
        "\n",
        "* **Performance optimization**: to speed up training and inference.\n",
        "* **Export**: so you can save your model when it's done training.\n",
        "\n",
        "These require that you use `tf.function` to separate your pure-TensorFlow code from Python."
      ]
    },
    {
      "cell_type": "code",
      "execution_count": 54,
      "metadata": {
        "id": "VitACyZWKJD_"
      },
      "outputs": [],
      "source": [
        "@tf.function\n",
        "def my_func(x):\n",
        "  print('Tracing.\\n')\n",
        "  return tf.reduce_sum(x)"
      ]
    },
    {
      "cell_type": "markdown",
      "metadata": {
        "id": "fBYDh-huNUBZ"
      },
      "source": [
        "The first time you run the `tf.function`, although it executes in Python, it captures a complete, optimized graph representing the TensorFlow computations done within the function."
      ]
    },
    {
      "cell_type": "code",
      "execution_count": 55,
      "metadata": {
        "id": "vkOFSEkoM1bd",
        "colab": {
          "base_uri": "https://localhost:8080/"
        },
        "outputId": "b5417c35-8a63-4420-c1f6-3d2f02ac1109"
      },
      "outputs": [
        {
          "output_type": "stream",
          "name": "stdout",
          "text": [
            "Tracing.\n",
            "\n"
          ]
        },
        {
          "output_type": "execute_result",
          "data": {
            "text/plain": [
              "<tf.Tensor: shape=(), dtype=float32, numpy=6.0>"
            ]
          },
          "metadata": {},
          "execution_count": 55
        }
      ],
      "source": [
        "#Although in the example the first example used has a dtype of int32. I used float32 to show that once the data\n",
        "#type is converted to float32 tf does not revert back to a new tf graph. And therefor in none of the examples\n",
        "# \"tracing\" is print\n",
        "x = tf.constant([1.0, 2.0, 3.0])\n",
        "my_func(x)"
      ]
    },
    {
      "cell_type": "markdown",
      "metadata": {
        "id": "a3aWzt-rNsBa"
      },
      "source": [
        "On subsequent calls TensorFlow only executes the optimized graph, skipping any non-TensorFlow steps. Below, note that `my_func` doesn't print _tracing_ since `print` is a Python function, not a TensorFlow function."
      ]
    },
    {
      "cell_type": "code",
      "execution_count": 56,
      "metadata": {
        "id": "23dMHWwwNIoa",
        "colab": {
          "base_uri": "https://localhost:8080/"
        },
        "outputId": "2a408c55-10d1-4dcf-bad8-c03938689f07"
      },
      "outputs": [
        {
          "output_type": "stream",
          "name": "stdout",
          "text": [
            "Tracing.\n",
            "\n"
          ]
        },
        {
          "output_type": "execute_result",
          "data": {
            "text/plain": [
              "<tf.Tensor: shape=(), dtype=int32, numpy=27>"
            ]
          },
          "metadata": {},
          "execution_count": 56
        }
      ],
      "source": [
        "x = tf.constant([10, 9, 8])\n",
        "my_func(x)"
      ]
    },
    {
      "cell_type": "markdown",
      "metadata": {
        "id": "nSeTti6zki0n"
      },
      "source": [
        "A graph may not be reusable for inputs with a different _signature_ (`shape` and `dtype`), so a new graph is generated instead:"
      ]
    },
    {
      "cell_type": "code",
      "execution_count": 57,
      "metadata": {
        "id": "OWffqyhqlVPf",
        "colab": {
          "base_uri": "https://localhost:8080/"
        },
        "outputId": "3905481b-ac3c-4963-a81b-dcd5eb286e42"
      },
      "outputs": [
        {
          "output_type": "execute_result",
          "data": {
            "text/plain": [
              "<tf.Tensor: shape=(), dtype=float32, numpy=27.3>"
            ]
          },
          "metadata": {},
          "execution_count": 57
        }
      ],
      "source": [
        "x = tf.constant([10.0, 9.1, 8.2], dtype=tf.float32)\n",
        "my_func(x)"
      ]
    },
    {
      "cell_type": "markdown",
      "metadata": {
        "id": "UWknAA_zNTOa"
      },
      "source": [
        "These captured graphs provide two benefits:\n",
        "\n",
        "* In many cases they provide a significant speedup in execution (though not this trivial example).\n",
        "* You can export these graphs, using `tf.saved_model`, to run on other systems like a [server](https://www.tensorflow.org/tfx/serving/docker) or a [mobile device](https://www.tensorflow.org/lite/guide), no Python installation required."
      ]
    },
    {
      "cell_type": "markdown",
      "metadata": {
        "id": "hLUJ6f2eMsA8"
      },
      "source": [
        "Refer to [Intro to graphs](intro_to_graphs.ipynb) for more details."
      ]
    },
    {
      "cell_type": "markdown",
      "metadata": {
        "id": "t_36xPDPPBqp"
      },
      "source": [
        "## Modules, layers, and models"
      ]
    },
    {
      "cell_type": "markdown",
      "metadata": {
        "id": "oDaT7kCpUgnJ"
      },
      "source": [
        "`tf.Module` is a class for managing your `tf.Variable` objects, and the `tf.function` objects that operate on them. The `tf.Module` class is necessary to support two significant features:\n",
        "\n",
        "1. You can save and restore the values of your variables using `tf.train.Checkpoint`. This is useful during training as it is quick to save and restore a model's state.\n",
        "2. You can import and export the `tf.Variable` values _and_ the `tf.function` graphs using `tf.saved_model`. This allows you to run your model independently of the Python program that created it.\n",
        "\n",
        "Here is a complete example exporting a simple `tf.Module` object:"
      ]
    },
    {
      "cell_type": "code",
      "execution_count": 58,
      "metadata": {
        "id": "1MqEcZOqPBDV"
      },
      "outputs": [],
      "source": [
        "class MyModule(tf.Module):\n",
        "  def __init__(self, weights):\n",
        "    self.weight = tf.Variable(weights)\n",
        "\n",
        "  @tf.function\n",
        "  def activation(self, inputs,bias):\n",
        "    print('tracing')\n",
        "    return inputs * self.weight + bias"
      ]
    },
    {
      "cell_type": "code",
      "execution_count": 59,
      "metadata": {
        "id": "la2G82HfVfU0",
        "colab": {
          "base_uri": "https://localhost:8080/"
        },
        "outputId": "08f6ee33-aea2-447f-e93a-8cb310bb6686"
      },
      "outputs": [
        {
          "output_type": "stream",
          "name": "stdout",
          "text": [
            "tracing\n"
          ]
        },
        {
          "output_type": "execute_result",
          "data": {
            "text/plain": [
              "<tf.Tensor: shape=(3,), dtype=int32, numpy=array([ 4,  7, 10], dtype=int32)>"
            ]
          },
          "metadata": {},
          "execution_count": 59
        }
      ],
      "source": [
        "mod = MyModule(weights=3)\n",
        "mod.activation(inputs = tf.constant([1, 2, 3]),bias=tf.constant(1))"
      ]
    },
    {
      "cell_type": "code",
      "source": [
        "# Can verify that it didn't print tracing. \n",
        "mod.activation(inputs = tf.constant([5, 2, 3]),bias=tf.constant(1))"
      ],
      "metadata": {
        "colab": {
          "base_uri": "https://localhost:8080/"
        },
        "id": "sTRPcklMx_gF",
        "outputId": "60d465d3-2333-442d-9f5d-1a255aaba5c0"
      },
      "execution_count": 60,
      "outputs": [
        {
          "output_type": "execute_result",
          "data": {
            "text/plain": [
              "<tf.Tensor: shape=(3,), dtype=int32, numpy=array([16,  7, 10], dtype=int32)>"
            ]
          },
          "metadata": {},
          "execution_count": 60
        }
      ]
    },
    {
      "cell_type": "code",
      "execution_count": 61,
      "metadata": {
        "id": "1MlfbEMjVzG4",
        "colab": {
          "base_uri": "https://localhost:8080/"
        },
        "outputId": "2320fbc6-8693-4d4b-b9a4-a0918add4f56"
      },
      "outputs": [
        {
          "output_type": "stream",
          "name": "stdout",
          "text": [
            "tracing\n"
          ]
        }
      ],
      "source": [
        "save_path = './saved'\n",
        "tf.saved_model.save(mod, save_path)"
      ]
    },
    {
      "cell_type": "code",
      "source": [
        "  '''\n",
        "class Dense(tf.Module):\n",
        "  def __init__(self, input_dim, output_size, name=None):\n",
        "    super().__init__(name=name)\n",
        "    self.w = tf.Variable(\n",
        "    tf.random.normal([input_dim, output_size]), name='w')\n",
        "    self.b = tf.Variable(tf.zeros([output_size]), name='b')\n",
        "  def __call__(self, x):\n",
        "    y = tf.matmul(x, self.w) + self.b\n",
        "    return tf.nn.relu(y)\n",
        "  '''"
      ],
      "metadata": {
        "id": "mY2jrD7SwxJd",
        "colab": {
          "base_uri": "https://localhost:8080/",
          "height": 70
        },
        "outputId": "490c16fa-8751-4d55-9884-5fb8d3454edb"
      },
      "execution_count": 62,
      "outputs": [
        {
          "output_type": "execute_result",
          "data": {
            "text/plain": [
              "\"\\nclass Dense(tf.Module):\\ndef __init__(self, input_dim, output_size, name=None):\\n  super().__init__(name=name)\\n  self.w = tf.Variable(\\n  tf.random.normal([input_dim, output_size]), name='w')\\n  self.b = tf.Variable(tf.zeros([output_size]), name='b')\\ndef __call__(self, x):\\n  y = tf.matmul(x, self.w) + self.b\\n  return tf.nn.relu(y)\\n\""
            ],
            "application/vnd.google.colaboratory.intrinsic+json": {
              "type": "string"
            }
          },
          "metadata": {},
          "execution_count": 62
        }
      ]
    },
    {
      "cell_type": "markdown",
      "metadata": {
        "id": "GaSJX7zQXCm4"
      },
      "source": [
        "Save the `Module`:"
      ]
    },
    {
      "cell_type": "markdown",
      "metadata": {
        "id": "LgfoftD4XGJW"
      },
      "source": [
        "The resulting SavedModel is independent of the code that created it. You can load a SavedModel from Python, other language bindings, or [TensorFlow Serving](https://www.tensorflow.org/tfx/serving/docker). You can also convert it to run with [TensorFlow Lite](https://www.tensorflow.org/lite/guide) or [TensorFlow JS](https://www.tensorflow.org/js/guide)."
      ]
    },
    {
      "cell_type": "code",
      "execution_count": 63,
      "metadata": {
        "id": "pWuLOIKBWZYG",
        "colab": {
          "base_uri": "https://localhost:8080/"
        },
        "outputId": "2482c5fd-2a8a-41d7-e241-c8b4365b55bc"
      },
      "outputs": [
        {
          "output_type": "execute_result",
          "data": {
            "text/plain": [
              "<tf.Tensor: shape=(3,), dtype=int32, numpy=array([ 5,  8, 11], dtype=int32)>"
            ]
          },
          "metadata": {},
          "execution_count": 63
        }
      ],
      "source": [
        "reloaded = tf.saved_model.load(save_path)\n",
        "type(reloaded) # Loads the object\n",
        "reloaded.activation(tf.constant([1, 2, 3]),bias=2)"
      ]
    },
    {
      "cell_type": "markdown",
      "metadata": {
        "id": "nxU6P1RGwHyC"
      },
      "source": [
        "The `tf.keras.layers.Layer` and `tf.keras.Model` classes build on `tf.Module` providing additional functionality and convenience methods for building, training, and saving models. Some of these are demonstrated in the next section."
      ]
    },
    {
      "cell_type": "markdown",
      "metadata": {
        "id": "tQzt3yaWMzLf"
      },
      "source": [
        "Refer to [Intro to modules](intro_to_modules.ipynb) for details."
      ]
    },
    {
      "cell_type": "markdown",
      "metadata": {
        "id": "Rk1IEG5aav7X"
      },
      "source": [
        "## Training loops\n",
        "\n",
        "Now put this all together to build a basic model and train it from scratch.\n",
        "\n",
        "First, create some example data. This generates a cloud of points that loosely follows a quadratic curve:"
      ]
    },
    {
      "cell_type": "code",
      "execution_count": 64,
      "metadata": {
        "id": "VcuFr7KPRPzn"
      },
      "outputs": [],
      "source": [
        "import matplotlib\n",
        "from matplotlib import pyplot as plt\n",
        "\n",
        "#controls the figure size. This way we can configure it throughout the session for every figure generated using \n",
        "#matplotlib\n",
        "matplotlib.rcParams['figure.figsize'] = [3, 3]"
      ]
    },
    {
      "cell_type": "code",
      "source": [
        "#               from, to, how many \n",
        "# how many determines the spacing between the two extremities\n",
        "# equivalent to other python functions\n",
        "#x = tf.linspace(-2, 2, 201)\n",
        "\n",
        "#generates 201 random numbers and follows a normal distribution\n",
        "#tf.random.normal(shape=[201])"
      ],
      "metadata": {
        "id": "OWClfHGQqkGl"
      },
      "execution_count": 65,
      "outputs": []
    },
    {
      "cell_type": "code",
      "execution_count": 66,
      "metadata": {
        "id": "sXN9E_xf-GiP",
        "colab": {
          "base_uri": "https://localhost:8080/",
          "height": 291
        },
        "outputId": "d1cb2c07-3f11-4c5d-cf0b-f4a87c86dddc"
      },
      "outputs": [
        {
          "output_type": "display_data",
          "data": {
            "text/plain": [
              "<Figure size 300x300 with 1 Axes>"
            ],
            "image/png": "[encoded data removed]"
          },
          "metadata": {}
        }
      ],
      "source": [
        "x = tf.linspace(-2, 2, 201)\n",
        "x = tf.cast(x, tf.float32)\n",
        "\n",
        "def f(x):\n",
        "  y = x**2 + 2*x - 5\n",
        "  return y\n",
        "\n",
        "# this is done to introduce the jiterriness\n",
        "y = f(x) + tf.random.normal(shape=[201])\n",
        "\n",
        "plt.plot(x.numpy(), y.numpy(), '.', label='Data')\n",
        "plt.plot(x, f(x), label='Ground truth')\n",
        "plt.legend();"
      ]
    },
    {
      "cell_type": "markdown",
      "metadata": {
        "id": "De5LldboSWcW"
      },
      "source": [
        "Create a quadratic model with randomly initialized weights and a bias:"
      ]
    },
    {
      "cell_type": "code",
      "execution_count": 67,
      "metadata": {
        "id": "Pypd0GB4SRhf",
        "colab": {
          "base_uri": "https://localhost:8080/",
          "height": 87
        },
        "outputId": "0a3cad05-b161-42e9-b7c7-c17211fa66d2"
      },
      "outputs": [
        {
          "output_type": "execute_result",
          "data": {
            "text/plain": [
              "'\\nclass Model(tf.Module):\\n\\n  def __init__(self):\\n    # Randomly generate weight and bias terms\\n    rand_init = tf.random.uniform(shape=[3], minval=0., maxval=5., seed=22)\\n    # Initialize model parameters\\n    self.w_q = tf.Variable(rand_init[0])\\n    self.w_l = tf.Variable(rand_init[1])\\n    self.b = tf.Variable(rand_init[2])\\n  \\n  @tf.function\\n  def __call__(self, x):\\n    # Quadratic Model : quadratic_weight * x^2 + linear_weight * x + bias\\n    return self.w_q * (x**2) + self.w_l * x + self.b\\n'"
            ],
            "application/vnd.google.colaboratory.intrinsic+json": {
              "type": "string"
            }
          },
          "metadata": {},
          "execution_count": 67
        }
      ],
      "source": [
        "'''\n",
        "class Model(tf.Module):\n",
        "\n",
        "  def __init__(self):\n",
        "    # Randomly generate weight and bias terms\n",
        "    rand_init = tf.random.uniform(shape=[3], minval=0., maxval=5., seed=22)\n",
        "    # Initialize model parameters\n",
        "    self.w_q = tf.Variable(rand_init[0])\n",
        "    self.w_l = tf.Variable(rand_init[1])\n",
        "    self.b = tf.Variable(rand_init[2])\n",
        "  \n",
        "  @tf.function\n",
        "  def __call__(self, x):\n",
        "    # Quadratic Model : quadratic_weight * x^2 + linear_weight * x + bias\n",
        "    return self.w_q * (x**2) + self.w_l * x + self.b\n",
        "'''    "
      ]
    },
    {
      "cell_type": "code",
      "source": [
        "class Model(tf.Module):\n",
        "  def __init__(self, name=None):\n",
        "    super().__init__(name)\n",
        "    self.initialized=tf.random.uniform([3],0.0,5.0)\n",
        "    # without tf.Variables model will not be able to update weights. \n",
        "    self.w_q2=tf.Variable(self.initialized[0])\n",
        "    self.w_q1=tf.Variable(self.initialized[1])\n",
        "    self.b=tf.Variable(self.initialized[2])\n",
        "  @tf.function\n",
        "  def __call__(self,x):\n",
        "    return self.w_q2*(x**2) + self.w_q1*x +self.b"
      ],
      "metadata": {
        "id": "qQccJ3kQtfjm"
      },
      "execution_count": 68,
      "outputs": []
    },
    {
      "cell_type": "markdown",
      "metadata": {
        "id": "36o7VjaesScg"
      },
      "source": [
        "First, observe your model's performance before training:"
      ]
    },
    {
      "cell_type": "code",
      "execution_count": 69,
      "metadata": {
        "id": "GkwToC5BWV1c"
      },
      "outputs": [],
      "source": [
        "quad_model = Model()"
      ]
    },
    {
      "cell_type": "code",
      "source": [
        "quad_model.variables"
      ],
      "metadata": {
        "colab": {
          "base_uri": "https://localhost:8080/"
        },
        "id": "UvT303pp54L1",
        "outputId": "7d89ccc3-931a-47fd-fd7d-ba7b79442009"
      },
      "execution_count": 70,
      "outputs": [
        {
          "output_type": "execute_result",
          "data": {
            "text/plain": [
              "(<tf.Variable 'Variable:0' shape=() dtype=float32, numpy=2.6907544>,\n",
              " <tf.Variable 'Variable:0' shape=() dtype=float32, numpy=1.2157804>,\n",
              " <tf.Variable 'Variable:0' shape=() dtype=float32, numpy=2.5396013>)"
            ]
          },
          "metadata": {},
          "execution_count": 70
        }
      ]
    },
    {
      "cell_type": "code",
      "source": [
        "t_v=quad_model.variables[0]\n",
        "# to show that assigning variables like this is just an update to the pointer\n",
        "t_v.assign_sub(2.0)"
      ],
      "metadata": {
        "colab": {
          "base_uri": "https://localhost:8080/"
        },
        "id": "r5brnUxZJrMs",
        "outputId": "21ad0cf5-718b-46ba-81a2-195726c39f5b"
      },
      "execution_count": 71,
      "outputs": [
        {
          "output_type": "execute_result",
          "data": {
            "text/plain": [
              "<tf.Variable 'UnreadVariable' shape=() dtype=float32, numpy=0.6907544>"
            ]
          },
          "metadata": {},
          "execution_count": 71
        }
      ]
    },
    {
      "cell_type": "markdown",
      "source": [
        "## Initial random weights:"
      ],
      "metadata": {
        "id": "BpIs45_DNRDG"
      }
    },
    {
      "cell_type": "code",
      "source": [
        "#changes take place here as well. This is optimal since later in the notebook when we will do \n",
        "# weight updates it will be very useful\n",
        "\n",
        "quad_model.variables"
      ],
      "metadata": {
        "colab": {
          "base_uri": "https://localhost:8080/"
        },
        "id": "DTRHQXmVKl8L",
        "outputId": "77996f9c-0421-4e59-d5c1-032b1613e854"
      },
      "execution_count": 72,
      "outputs": [
        {
          "output_type": "execute_result",
          "data": {
            "text/plain": [
              "(<tf.Variable 'Variable:0' shape=() dtype=float32, numpy=0.6907544>,\n",
              " <tf.Variable 'Variable:0' shape=() dtype=float32, numpy=1.2157804>,\n",
              " <tf.Variable 'Variable:0' shape=() dtype=float32, numpy=2.5396013>)"
            ]
          },
          "metadata": {},
          "execution_count": 72
        }
      ]
    },
    {
      "cell_type": "code",
      "execution_count": 73,
      "metadata": {
        "id": "ReWhH40wTY5F"
      },
      "outputs": [],
      "source": [
        "def plot_preds(x, y, f, model, title):\n",
        "  plt.figure()\n",
        "  plt.plot(x, y, '.', label='Data')\n",
        "  plt.plot(x, f(x), label='Ground truth')\n",
        "  plt.plot(x, model(x), label='Predictions')\n",
        "  plt.title(title)\n",
        "  plt.legend()"
      ]
    },
    {
      "cell_type": "code",
      "execution_count": 74,
      "metadata": {
        "id": "Y0JtXQat-nlk",
        "colab": {
          "base_uri": "https://localhost:8080/",
          "height": 314
        },
        "outputId": "710020a3-c221-4c5f-f917-a2b13f286b75"
      },
      "outputs": [
        {
          "output_type": "display_data",
          "data": {
            "text/plain": [
              "<Figure size 300x300 with 1 Axes>"
            ],
            "image/png": "[encoded data removed]"
          },
          "metadata": {}
        }
      ],
      "source": [
        "plot_preds(x, y, f, quad_model, 'Before training')"
      ]
    },
    {
      "cell_type": "markdown",
      "metadata": {
        "id": "hLzwD0-ascGf"
      },
      "source": [
        "Now, define a loss for your model:\n",
        "\n",
        "Given that this model is intended to predict continuous values, the mean squared error (MSE) is a good choice for the loss function. Given a vector of predictions, $\\hat{y}$, and a vector of true targets, $y$, the MSE is defined as the mean of the squared differences between the predicted values and the ground truth.\n",
        "\n",
        "$MSE = \\frac{1}{m}\\sum_{i=1}^{m}(\\hat{y}_i -y_i)^2$"
      ]
    },
    {
      "cell_type": "code",
      "execution_count": 75,
      "metadata": {
        "id": "eCtJ1uuCseZd"
      },
      "outputs": [],
      "source": [
        "def mse_loss(y_pred, y):\n",
        "  return tf.reduce_mean(tf.square(y_pred - y))"
      ]
    },
    {
      "cell_type": "markdown",
      "metadata": {
        "id": "7EWyDu3zot2w"
      },
      "source": [
        "Write a basic training loop for the model. The loop will make use of the MSE loss function and its gradients with respect to the input in order to iteratively update the model's parameters. Using mini-batches for training provides both memory efficienciy and faster convergence. The `tf.data.Dataset` API has useful functions for batching and shuffling."
      ]
    },
    {
      "cell_type": "code",
      "execution_count": 76,
      "metadata": {
        "id": "8kX_-zily2Ia"
      },
      "outputs": [],
      "source": [
        "batch_size = 32\n",
        "# similar to a zip function\n",
        "\n",
        "dataset = tf.data.Dataset.from_tensor_slices((x, y))\n",
        "dataset = dataset.shuffle(buffer_size=x.shape[0]).batch(batch_size)"
      ]
    },
    {
      "cell_type": "code",
      "source": [
        "for index,elem in enumerate(dataset):\n",
        "  print(elem)"
      ],
      "metadata": {
        "colab": {
          "base_uri": "https://localhost:8080/"
        },
        "id": "Eebngajm3UCN",
        "outputId": "85712219-bbd3-403f-cf44-37cc561bdd03"
      },
      "execution_count": 77,
      "outputs": [
        {
          "output_type": "stream",
          "name": "stdout",
          "text": [
            "(<tf.Tensor: shape=(32,), dtype=float32, numpy=\n",
            "array([ 1.5 ,  0.94, -0.34, -0.1 , -0.08, -1.24, -0.54,  0.9 , -0.5 ,\n",
            "        1.54,  1.1 ,  1.76, -0.7 , -0.94,  0.5 ,  1.44, -0.44,  1.68,\n",
            "        0.26,  1.86, -1.4 ,  1.72,  0.28, -0.8 ,  1.52, -1.34, -1.52,\n",
            "        0.88,  1.08, -0.14, -1.6 ,  1.24], dtype=float32)>, <tf.Tensor: shape=(32,), dtype=float32, numpy=\n",
            "array([ 0.8281929 , -1.0038394 , -7.276504  , -3.0748775 , -5.7707486 ,\n",
            "       -6.0878296 , -5.408897  , -3.4691536 , -4.221112  , -0.22178036,\n",
            "       -2.1561966 ,  0.553694  , -5.5909853 , -5.8934126 , -3.6240973 ,\n",
            "       -0.07549379, -4.571052  ,  0.63773763, -5.019687  ,  1.515085  ,\n",
            "       -4.341531  ,  1.661073  , -4.2667117 , -5.0370317 ,  1.2611811 ,\n",
            "       -7.6734533 , -4.557188  , -3.1121154 , -0.5001495 , -4.149915  ,\n",
            "       -2.5300293 , -2.3966842 ], dtype=float32)>)\n",
            "(<tf.Tensor: shape=(32,), dtype=float32, numpy=\n",
            "array([-0.06,  1.32, -1.7 , -0.02,  0.66,  0.46,  0.  , -0.66, -0.12,\n",
            "        0.02,  0.32, -1.74, -1.1 ,  0.8 , -1.66,  0.98, -0.36, -1.58,\n",
            "        0.44, -1.48, -0.48, -1.86,  1.94, -1.88,  1.9 , -1.84, -1.12,\n",
            "        1.6 ,  1.66, -1.72, -1.82, -1.92], dtype=float32)>, <tf.Tensor: shape=(32,), dtype=float32, numpy=\n",
            "array([-5.3619337 , -0.3313022 , -6.251423  , -5.9738903 , -2.5985239 ,\n",
            "       -4.5191393 , -3.8274677 , -5.9056067 , -4.7647533 , -4.345318  ,\n",
            "       -3.1857488 , -7.364398  , -5.2891235 , -2.0907495 , -5.075626  ,\n",
            "       -0.7280015 , -7.0260725 , -6.798836  , -6.1407948 , -4.2069    ,\n",
            "       -5.106915  , -4.9694734 ,  2.555542  , -4.3447156 ,  1.2113882 ,\n",
            "       -5.2616434 , -7.990201  , -0.04858792,  3.1090612 , -5.2954807 ,\n",
            "       -5.971832  , -5.992325  ], dtype=float32)>)\n",
            "(<tf.Tensor: shape=(32,), dtype=float32, numpy=\n",
            "array([-2.  ,  1.2 ,  0.58,  0.72,  0.82,  1.7 , -0.64,  0.3 ,  1.8 ,\n",
            "       -1.04, -0.2 , -0.3 , -0.04,  0.2 ,  1.74,  0.54, -1.06,  1.48,\n",
            "       -1.28, -0.82,  0.92,  0.42,  1.26,  0.06, -1.54, -1.68, -1.56,\n",
            "       -0.86, -1.64, -0.4 ,  1.12,  2.  ], dtype=float32)>, <tf.Tensor: shape=(32,), dtype=float32, numpy=\n",
            "array([-6.134792  , -1.1943401 , -4.287068  , -1.4666712 , -2.9633188 ,\n",
            "        1.4412677 , -5.7012076 , -4.2283974 ,  1.79809   , -5.403148  ,\n",
            "       -6.6931276 , -6.1049247 , -5.1704097 , -5.0265074 ,  2.7266445 ,\n",
            "       -4.4814124 , -5.7196217 , -1.2623111 , -4.5361185 , -6.3171105 ,\n",
            "       -2.3248045 , -2.9780226 , -0.8721514 , -5.2655125 , -4.4867105 ,\n",
            "       -4.6943836 , -5.768257  , -4.6472607 , -5.488925  , -4.666164  ,\n",
            "       -0.06649709,  4.327004  ], dtype=float32)>)\n",
            "(<tf.Tensor: shape=(32,), dtype=float32, numpy=\n",
            "array([ 0.78,  1.46,  0.76,  1.34, -1.8 ,  0.74, -1.18, -0.16, -1.08,\n",
            "       -1.94,  1.3 , -1.5 ,  0.6 , -1.26, -0.9 , -1.42, -1.76, -0.88,\n",
            "        1.  , -1.78, -1.98, -0.28,  0.52,  0.14,  1.42,  1.36,  1.14,\n",
            "        1.02,  1.16,  0.12,  0.22,  1.18], dtype=float32)>, <tf.Tensor: shape=(32,), dtype=float32, numpy=\n",
            "array([-2.437871  , -0.44355747, -2.8751078 ,  0.48288167, -3.7673163 ,\n",
            "       -3.1761842 , -5.88949   , -5.272156  , -5.5266337 , -4.6993484 ,\n",
            "       -3.017598  , -4.84203   , -3.2503126 , -7.293749  , -5.1967607 ,\n",
            "       -5.8178887 , -5.3156395 , -4.9291    , -1.4974506 , -4.6022525 ,\n",
            "       -7.0637627 , -5.3244123 , -4.7406273 , -5.721891  , -0.6079011 ,\n",
            "       -0.40065634, -1.6256044 , -3.9101577 , -1.1968429 , -5.323109  ,\n",
            "       -3.6829767 , -0.11685562], dtype=float32)>)\n",
            "(<tf.Tensor: shape=(32,), dtype=float32, numpy=\n",
            "array([ 0.24, -0.56, -0.58,  0.36,  1.56, -1.14, -0.68, -1.46,  1.4 ,\n",
            "        0.34,  0.04,  1.96,  1.84, -0.42, -1.38, -1.22, -1.32,  1.04,\n",
            "       -0.46,  1.38, -0.98, -0.76, -0.18,  1.78, -0.26,  1.98, -1.3 ,\n",
            "        0.1 , -0.96,  1.06,  0.86,  0.56], dtype=float32)>, <tf.Tensor: shape=(32,), dtype=float32, numpy=\n",
            "array([-2.6961355 , -6.2767186 , -4.762343  , -3.4541845 ,  0.14147323,\n",
            "       -6.0930667 , -3.8650186 , -6.279198  ,  0.4482965 , -5.3347893 ,\n",
            "       -4.4749784 ,  3.6877322 ,  1.3313221 , -7.3192663 , -5.672283  ,\n",
            "       -5.9226117 , -4.329906  , -0.6657946 , -6.8564115 ,  0.10143498,\n",
            "       -5.36661   , -5.701354  , -5.8678055 ,  2.0580857 , -4.42498   ,\n",
            "        3.159771  , -7.23377   , -6.3520465 , -6.676863  , -2.5225995 ,\n",
            "       -2.1986506 , -3.6910167 ], dtype=float32)>)\n",
            "(<tf.Tensor: shape=(32,), dtype=float32, numpy=\n",
            "array([-1.16, -1.44,  1.58,  0.62,  1.62, -0.38, -0.74, -0.78, -0.52,\n",
            "        1.88, -1.62, -1.96,  0.84, -0.84,  0.08, -0.72,  0.7 ,  0.16,\n",
            "        1.82,  0.96,  0.18, -0.92, -1.02,  1.64, -0.32, -0.62,  0.4 ,\n",
            "       -1.36,  0.48,  0.38,  1.28,  1.22], dtype=float32)>, <tf.Tensor: shape=(32,), dtype=float32, numpy=\n",
            "array([-5.526909  , -3.8171248 , -0.46394777, -3.5024796 ,  2.4768348 ,\n",
            "       -6.2607846 , -5.8103404 , -4.2524624 , -4.5920925 ,  2.476369  ,\n",
            "       -3.830662  , -4.535384  , -2.0484457 , -5.236531  , -3.5494962 ,\n",
            "       -7.0936446 , -6.0069838 , -3.413126  ,  2.1871903 , -3.2405992 ,\n",
            "       -3.582183  , -6.551116  , -6.9017425 ,  1.0234125 , -7.1379113 ,\n",
            "       -6.8723125 , -3.7698622 , -6.8784027 , -3.7990296 , -3.5644403 ,\n",
            "       -0.668728  ,  1.0016146 ], dtype=float32)>)\n",
            "(<tf.Tensor: shape=(9,), dtype=float32, numpy=\n",
            "array([-0.22,  0.64, -1.9 ,  0.68, -1.  , -0.24, -0.6 , -1.2 ,  1.92],\n",
            "      dtype=float32)>, <tf.Tensor: shape=(9,), dtype=float32, numpy=\n",
            "array([-4.584339 , -3.6307707, -6.0381737, -3.0838394, -6.920346 ,\n",
            "       -7.3912754, -7.2358108, -6.3853455,  2.714576 ], dtype=float32)>)\n"
          ]
        }
      ]
    },
    {
      "cell_type": "code",
      "source": [
        "for x_batch, y_batch in dataset:\n",
        "  print(\"x batch\",x_batch)\n",
        "  print(\"y batch\",y_batch)"
      ],
      "metadata": {
        "colab": {
          "base_uri": "https://localhost:8080/"
        },
        "id": "KqownGl54_Mf",
        "outputId": "ec8aa4ea-027a-465d-d7ba-4fba7437e8c2"
      },
      "execution_count": 78,
      "outputs": [
        {
          "output_type": "stream",
          "name": "stdout",
          "text": [
            "x batch tf.Tensor(\n",
            "[ 1.84 -0.52  1.12 -0.2   1.22 -1.38 -1.78  0.06  1.82  0.36 -1.84 -0.02\n",
            " -0.28  0.9  -1.96  0.98 -1.94 -0.32 -1.08  0.74 -0.56 -1.04 -0.68 -0.7\n",
            " -1.76  1.2   1.7   1.42 -0.44  1.6  -1.58  0.52], shape=(32,), dtype=float32)\n",
            "y batch tf.Tensor(\n",
            "[ 1.3313221  -4.5920925  -0.06649709 -6.6931276   1.0016146  -5.672283\n",
            " -4.6022525  -5.2655125   2.1871903  -3.4541845  -5.2616434  -5.9738903\n",
            " -5.3244123  -3.4691536  -4.535384   -0.7280015  -4.6993484  -7.1379113\n",
            " -5.5266337  -3.1761842  -6.2767186  -5.403148   -3.8650186  -5.5909853\n",
            " -5.3156395  -1.1943401   1.4412677  -0.6079011  -4.571052   -0.04858792\n",
            " -6.798836   -4.7406273 ], shape=(32,), dtype=float32)\n",
            "x batch tf.Tensor(\n",
            "[-1.24 -1.4   1.06 -0.36  1.38  0.56  1.18 -1.66  1.62  1.8   0.02 -1.62\n",
            " -1.32 -1.72 -0.22 -1.86  1.9   0.54 -0.88  1.88 -0.62  1.34  0.86 -0.12\n",
            "  0.82 -1.34  1.74  1.16 -1.92 -1.6   0.3   1.28], shape=(32,), dtype=float32)\n",
            "y batch tf.Tensor(\n",
            "[-6.0878296  -4.341531   -2.5225995  -7.0260725   0.10143498 -3.6910167\n",
            " -0.11685562 -5.075626    2.4768348   1.79809    -4.345318   -3.830662\n",
            " -4.329906   -5.2954807  -4.584339   -4.9694734   1.2113882  -4.4814124\n",
            " -4.9291      2.476369   -6.8723125   0.48288167 -2.1986506  -4.7647533\n",
            " -2.9633188  -7.6734533   2.7266445  -1.1968429  -5.992325   -2.5300293\n",
            " -4.2283974  -0.668728  ], shape=(32,), dtype=float32)\n",
            "x batch tf.Tensor(\n",
            "[-0.04  0.96  1.58  1.08 -0.16  1.5  -1.2  -1.46 -0.54 -0.6  -0.84 -0.58\n",
            " -1.28  0.46  1.94  1.4   0.34  0.24  0.8   1.32 -1.48  0.66  0.22  0.44\n",
            "  1.14 -0.96  0.88  0.58 -1.56  0.94 -2.   -0.4 ], shape=(32,), dtype=float32)\n",
            "y batch tf.Tensor(\n",
            "[-5.1704097  -3.2405992  -0.46394777 -0.5001495  -5.272156    0.8281929\n",
            " -6.3853455  -6.279198   -5.408897   -7.2358108  -5.236531   -4.762343\n",
            " -4.5361185  -4.5191393   2.555542    0.4482965  -5.3347893  -2.6961355\n",
            " -2.0907495  -0.3313022  -4.2069     -2.5985239  -3.6829767  -6.1407948\n",
            " -1.6256044  -6.676863   -3.1121154  -4.287068   -5.768257   -1.0038394\n",
            " -6.134792   -4.666164  ], shape=(32,), dtype=float32)\n",
            "x batch tf.Tensor(\n",
            "[-1.68 -0.82 -0.86 -1.98  1.56  0.18  0.08  1.44 -1.88  2.    1.64  0.32\n",
            " -0.94 -1.36  0.76  0.04 -1.3  -1.12 -1.    1.66  0.    0.2   0.7   1.1\n",
            " -0.66  0.28 -1.7   1.   -0.38 -0.72  1.04 -1.82], shape=(32,), dtype=float32)\n",
            "y batch tf.Tensor(\n",
            "[-4.6943836  -6.3171105  -4.6472607  -7.0637627   0.14147323 -3.582183\n",
            " -3.5494962  -0.07549379 -4.3447156   4.327004    1.0234125  -3.1857488\n",
            " -5.8934126  -6.8784027  -2.8751078  -4.4749784  -7.23377    -7.990201\n",
            " -6.920346    3.1090612  -3.8274677  -5.0265074  -6.0069838  -2.1561966\n",
            " -5.9056067  -4.2667117  -6.251423   -1.4974506  -6.2607846  -7.0936446\n",
            " -0.6657946  -5.971832  ], shape=(32,), dtype=float32)\n",
            "x batch tf.Tensor(\n",
            "[ 1.36 -0.74 -1.44 -1.16 -1.9   1.46 -0.06 -1.5   0.26  0.4  -1.8   0.38\n",
            "  0.84  1.3  -0.24 -1.22 -0.5  -1.18 -0.48 -0.08 -0.98 -0.9  -0.34 -1.26\n",
            " -0.42 -0.78  1.86 -1.52  0.62 -1.06 -1.74  1.48], shape=(32,), dtype=float32)\n",
            "y batch tf.Tensor(\n",
            "[-0.40065634 -5.8103404  -3.8171248  -5.526909   -6.0381737  -0.44355747\n",
            " -5.3619337  -4.84203    -5.019687   -3.7698622  -3.7673163  -3.5644403\n",
            " -2.0484457  -3.017598   -7.3912754  -5.9226117  -4.221112   -5.88949\n",
            " -5.106915   -5.7707486  -5.36661    -5.1967607  -7.276504   -7.293749\n",
            " -7.3192663  -4.2524624   1.515085   -4.557188   -3.5024796  -5.7196217\n",
            " -7.364398   -1.2623111 ], shape=(32,), dtype=float32)\n",
            "x batch tf.Tensor(\n",
            "[-0.26 -0.92 -1.42  1.76 -0.1   0.78  1.96  0.64  1.72  0.48 -1.64 -0.3\n",
            "  1.52 -0.64  0.6  -1.1  -0.8  -1.02 -0.14  0.1   0.14  0.5  -1.54  0.72\n",
            "  1.78  0.12  1.92  0.68 -0.46  1.24 -1.14  1.98], shape=(32,), dtype=float32)\n",
            "y batch tf.Tensor(\n",
            "[-4.42498   -6.551116  -5.8178887  0.553694  -3.0748775 -2.437871\n",
            "  3.6877322 -3.6307707  1.661073  -3.7990296 -5.488925  -6.1049247\n",
            "  1.2611811 -5.7012076 -3.2503126 -5.2891235 -5.0370317 -6.9017425\n",
            " -4.149915  -6.3520465 -5.721891  -3.6240973 -4.4867105 -1.4666712\n",
            "  2.0580857 -5.323109   2.714576  -3.0838394 -6.8564115 -2.3966842\n",
            " -6.0930667  3.159771 ], shape=(32,), dtype=float32)\n",
            "x batch tf.Tensor([ 0.92  1.68  0.16 -0.76  1.02 -0.18  1.26  1.54  0.42], shape=(9,), dtype=float32)\n",
            "y batch tf.Tensor(\n",
            "[-2.3248045   0.63773763 -3.413126   -5.701354   -3.9101577  -5.8678055\n",
            " -0.8721514  -0.22178036 -2.9780226 ], shape=(9,), dtype=float32)\n"
          ]
        }
      ]
    },
    {
      "cell_type": "code",
      "execution_count": 79,
      "metadata": {
        "id": "nOaES5gyTDtG",
        "colab": {
          "base_uri": "https://localhost:8080/",
          "height": 454
        },
        "outputId": "6a297f61-7681-442b-bcca-a43777f5da0f"
      },
      "outputs": [
        {
          "output_type": "stream",
          "name": "stdout",
          "text": [
            "Mean squared error for step 0: 26.210\n",
            "Mean squared error for step 10: 3.409\n",
            "Mean squared error for step 20: 1.856\n",
            "Mean squared error for step 30: 1.316\n",
            "Mean squared error for step 40: 1.128\n",
            "\n",
            "\n"
          ]
        },
        {
          "output_type": "display_data",
          "data": {
            "text/plain": [
              "<Figure size 300x300 with 1 Axes>"
            ],
            "image/png": "[encoded data removed]"
          },
          "metadata": {}
        }
      ],
      "source": [
        "# Set training parameters\n",
        "epochs = 50\n",
        "learning_rate = 0.01\n",
        "losses = []\n",
        "\n",
        "# Format training loop\n",
        "for epoch in range(epochs):\n",
        "  for x_batch, y_batch in dataset:\n",
        "    with tf.GradientTape() as tape:\n",
        "      #y=f(x)\n",
        "      batch_loss = mse_loss(quad_model(x_batch), y_batch)\n",
        "    # Update parameters with respect to the gradient calculations\n",
        "    #dy/dx\n",
        "    grads = tape.gradient(batch_loss, quad_model.variables)\n",
        "    #print(grads)\n",
        "    for g,v in zip(grads, quad_model.variables):\n",
        "        # subtracting l*dy/dx. We want to move in the direction of minima based\n",
        "        #on the learning rate. We don't want to get caught by local minima\n",
        "        v.assign_sub(learning_rate*g)\n",
        "  # Keep track of model loss per epoch\n",
        "  # loss per each epoch\n",
        "  loss = mse_loss(quad_model(x), y)\n",
        "  losses.append(loss)\n",
        "  if epoch % 10 == 0:\n",
        "    print(f'Mean squared error for step {epoch}: {loss.numpy():0.3f}')\n",
        "\n",
        "# Plot model results\n",
        "print(\"\\n\")\n",
        "plt.plot(range(epochs), losses)\n",
        "plt.xlabel(\"Epoch\")\n",
        "plt.ylabel(\"Mean Squared Error (MSE)\")\n",
        "plt.title('MSE loss vs training iterations');"
      ]
    },
    {
      "cell_type": "markdown",
      "metadata": {
        "id": "dW5B2TTRsvxE"
      },
      "source": [
        "Now, observe your model's performance after training:"
      ]
    },
    {
      "cell_type": "code",
      "execution_count": 80,
      "metadata": {
        "id": "Qcvzyg3eYLh8",
        "colab": {
          "base_uri": "https://localhost:8080/",
          "height": 314
        },
        "outputId": "d2c2adac-7efb-4a9b-884d-5b4423caa1f1"
      },
      "outputs": [
        {
          "output_type": "display_data",
          "data": {
            "text/plain": [
              "<Figure size 300x300 with 1 Axes>"
            ],
            "image/png": "[encoded data removed]"
          },
          "metadata": {}
        }
      ],
      "source": [
        "plot_preds(x, y, f, quad_model, 'After training')"
      ]
    },
    {
      "cell_type": "markdown",
      "source": [
        "## After final update, the weights are now as follows:"
      ],
      "metadata": {
        "id": "gNog80wGNEP3"
      }
    },
    {
      "cell_type": "code",
      "source": [
        "\n",
        "quad_model.variables"
      ],
      "metadata": {
        "colab": {
          "base_uri": "https://localhost:8080/"
        },
        "id": "pe5fKT1kMsSq",
        "outputId": "59f2e5c9-093b-4187-8fe2-b58ee1dec0be"
      },
      "execution_count": 81,
      "outputs": [
        {
          "output_type": "execute_result",
          "data": {
            "text/plain": [
              "(<tf.Variable 'Variable:0' shape=() dtype=float32, numpy=-4.6655107>,\n",
              " <tf.Variable 'Variable:0' shape=() dtype=float32, numpy=1.9641143>,\n",
              " <tf.Variable 'Variable:0' shape=() dtype=float32, numpy=0.8905488>)"
            ]
          },
          "metadata": {},
          "execution_count": 81
        }
      ]
    },
    {
      "cell_type": "markdown",
      "metadata": {
        "id": "hbtmFJIXb6qm"
      },
      "source": [
        "That's working, but remember that implementations of common training utilities are available in the `tf.keras` module. So, consider using those before writing your own. To start with, the `Model.compile` and `Model.fit` methods implement a training loop for you:"
      ]
    },
    {
      "cell_type": "markdown",
      "metadata": {
        "id": "cjx23MiztFmT"
      },
      "source": [
        "Begin by creating a Sequential Model in Keras using `tf.keras.Sequential`. One of the simplest Keras layers is the dense layer, which can be instantiated with `tf.keras.layers.Dense`. The dense layer is able to learn multidimensional linear relationships of the form $\\mathrm{Y} = \\mathrm{W}\\mathrm{X} +  \\vec{b}$. In order to learn a nonlinear equation of the form, $w_1x^2 + w_2x + b$, the dense layer's input should be a data matrix with $x^2$ and $x$ as features. The lambda layer, `tf.keras.layers.Lambda`, can be used to perform this stacking transformation."
      ]
    },
    {
      "cell_type": "code",
      "execution_count": 82,
      "metadata": {
        "id": "5rt8HP2TZhEM"
      },
      "outputs": [],
      "source": [
        "new_model = tf.keras.Sequential([\n",
        "    tf.keras.layers.Lambda(lambda x: tf.stack([x, x**2], axis=1)),\n",
        "    tf.keras.layers.Dense(units=1, kernel_initializer=tf.random.normal)])"
      ]
    },
    {
      "cell_type": "code",
      "execution_count": 83,
      "metadata": {
        "id": "73kCo1BtP3rQ",
        "colab": {
          "base_uri": "https://localhost:8080/"
        },
        "outputId": "121319ce-94ce-4027-8e59-f3334774e5e6"
      },
      "outputs": [
        {
          "output_type": "stream",
          "name": "stderr",
          "text": [
            "WARNING:absl:Found untraced functions such as _update_step_xla while saving (showing 1 of 1). These functions will not be directly callable after loading.\n"
          ]
        }
      ],
      "source": [
        "new_model.compile(\n",
        "    loss=tf.keras.losses.MSE,\n",
        "    optimizer=tf.keras.optimizers.SGD(learning_rate=0.01))\n",
        "\n",
        "history = new_model.fit(x, y,\n",
        "                        epochs=100,\n",
        "                        batch_size=32,\n",
        "                        verbose=0)\n",
        "\n",
        "new_model.save('./my_new_model')"
      ]
    },
    {
      "cell_type": "markdown",
      "metadata": {
        "id": "u3q5d1SzvzTq"
      },
      "source": [
        "Observe your Keras model's performance after training:"
      ]
    },
    {
      "cell_type": "code",
      "execution_count": 84,
      "metadata": {
        "id": "Mo7zRV7XZjv7",
        "colab": {
          "base_uri": "https://localhost:8080/",
          "height": 333
        },
        "outputId": "85a09266-495b-4f48-98a5-2515ca7b355d"
      },
      "outputs": [
        {
          "output_type": "display_data",
          "data": {
            "text/plain": [
              "<Figure size 300x300 with 1 Axes>"
            ],
            "image/png": "[encoded data removed]"
          },
          "metadata": {}
        }
      ],
      "source": [
        "plt.plot(history.history['loss'])\n",
        "plt.xlabel('Epoch')\n",
        "plt.ylim([0, max(plt.ylim())])\n",
        "plt.ylabel('Loss [Mean Squared Error]')\n",
        "plt.title('Keras training progress');"
      ]
    },
    {
      "cell_type": "code",
      "execution_count": 85,
      "metadata": {
        "id": "bB44a9YsvnfK",
        "colab": {
          "base_uri": "https://localhost:8080/",
          "height": 314
        },
        "outputId": "92c1f22c-d0ae-4f30-c5ad-884b5e6df40f"
      },
      "outputs": [
        {
          "output_type": "display_data",
          "data": {
            "text/plain": [
              "<Figure size 300x300 with 1 Axes>"
            ],
            "image/png": "[encoded data removed]"
          },
          "metadata": {}
        }
      ],
      "source": [
        "plot_preds(x, y, f, new_model, 'After Training: Keras')"
      ]
    },
    {
      "cell_type": "markdown",
      "metadata": {
        "id": "ng-BY_eGS0bn"
      },
      "source": [
        "Refer to [Basic training loops](basic_training_loops.ipynb) and the [Keras guide](https://www.tensorflow.org/guide/keras) for more details."
      ]
    }
  ],
  "metadata": {
    "colab": {
      "provenance": [],
      "include_colab_link": true
    },
    "kernelspec": {
      "display_name": "Python 3",
      "name": "python3"
    }
  },
  "nbformat": 4,
  "nbformat_minor": 0
}