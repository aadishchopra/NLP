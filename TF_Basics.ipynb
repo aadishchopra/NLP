{
  "cells": [
    {
      "cell_type": "markdown",
      "metadata": {
        "id": "view-in-github",
        "colab_type": "text"
      },
      "source": [
        "<a href=\"https://colab.research.google.com/github/aadishchopra/NLP/blob/main/TF_Basics.ipynb\" target=\"_parent\"><img src=\"https://colab.research.google.com/assets/colab-badge.svg\" alt=\"Open In Colab\"/></a>"
      ]
    },
    {
      "cell_type": "markdown",
      "metadata": {
        "id": "5rmpybwysXGV"
      },
      "source": [
        "Following the Tensor Flow guide\n"
      ]
    },
    {
      "cell_type": "markdown",
      "metadata": {
        "id": "hrXv0rU9sIma"
      },
      "source": [
        "# TensorFlow basics"
      ]
    },
    {
      "cell_type": "markdown",
      "metadata": {
        "id": "iJyZUDbzBTIG"
      },
      "source": [
        "This guide provides a quick overview of _TensorFlow basics_. Each section of this doc is an overview of a larger topic—you can find links to full guides at the end of each section.\n",
        "\n",
        "TensorFlow is an end-to-end platform for machine learning. It supports the following:\n",
        "\n",
        "* Multidimensional-array based numeric computation (similar to <a href=\"https://numpy.org/\" class=\"external\">NumPy</a>.)\n",
        "* GPU and distributed processing\n",
        "* Automatic differentiation\n",
        "* Model construction, training, and export\n",
        "* And more"
      ]
    },
    {
      "cell_type": "markdown",
      "metadata": {
        "id": "gvLegMMvBZYg"
      },
      "source": [
        "## Tensors\n",
        "\n",
        "TensorFlow operates on multidimensional arrays or _tensors_ represented as `tf.Tensor` objects. Here is a two-dimensional tensor:"
      ]
    },
    {
      "cell_type": "code",
      "execution_count": 97,
      "metadata": {
        "id": "6ZqX5RnbBS1f",
        "colab": {
          "base_uri": "https://localhost:8080/"
        },
        "outputId": "06022b1e-3b53-4d9e-dd0a-29eeaa06a215"
      },
      "outputs": [
        {
          "output_type": "stream",
          "name": "stdout",
          "text": [
            "tf.Tensor(\n",
            "[[1 2 3]\n",
            " [4 5 6]], shape=(2, 3), dtype=int32)\n",
            "(2, 3)\n",
            "<dtype: 'int32'>\n"
          ]
        }
      ],
      "source": [
        "import tensorflow as tf\n",
        "\n",
        "\n",
        "#notice the dots after the integers. The data type gets changed from float32 to int32\n",
        "x = tf.constant([[1, 2, 3],\n",
        "                 [4, 5, 6]])\n",
        "\n",
        "\n",
        "#help(tf.constant)\n",
        "\n",
        "print(x)\n",
        "print(x.shape)\n",
        "print(x.dtype)"
      ]
    },
    {
      "cell_type": "markdown",
      "metadata": {
        "id": "k-AOMqevQGN4"
      },
      "source": [
        "The most important attributes of a `tf.Tensor` are its `shape` and `dtype`:\n",
        "\n",
        "* `Tensor.shape`: tells you the size of the tensor along each of its axes.\n",
        "* `Tensor.dtype`: tells you the type of all the elements in the tensor."
      ]
    },
    {
      "cell_type": "markdown",
      "metadata": {
        "id": "bUkKeNWZCIJO"
      },
      "source": [
        "TensorFlow implements standard mathematical operations on tensors, as well as many operations specialized for machine learning.\n",
        "\n",
        "For example:"
      ]
    },
    {
      "cell_type": "code",
      "execution_count": 98,
      "metadata": {
        "id": "BM7xXNDsBfN5",
        "colab": {
          "base_uri": "https://localhost:8080/"
        },
        "outputId": "452722c3-d271-45ec-adb8-cc22f60b6120"
      },
      "outputs": [
        {
          "output_type": "execute_result",
          "data": {
            "text/plain": [
              "<tf.Tensor: shape=(2, 3), dtype=int32, numpy=\n",
              "array([[ 2,  4,  6],\n",
              "       [ 8, 10, 12]], dtype=int32)>"
            ]
          },
          "metadata": {},
          "execution_count": 98
        }
      ],
      "source": [
        "x + x"
      ]
    },
    {
      "cell_type": "code",
      "execution_count": 99,
      "metadata": {
        "id": "ZLGqscTxB61v",
        "colab": {
          "base_uri": "https://localhost:8080/"
        },
        "outputId": "e8c9c922-d9cf-4952-81a9-7b3e7f607e70"
      },
      "outputs": [
        {
          "output_type": "execute_result",
          "data": {
            "text/plain": [
              "<tf.Tensor: shape=(2, 3), dtype=int32, numpy=\n",
              "array([[ 5, 10, 15],\n",
              "       [20, 25, 30]], dtype=int32)>"
            ]
          },
          "metadata": {},
          "execution_count": 99
        }
      ],
      "source": [
        "5 * x"
      ]
    },
    {
      "cell_type": "code",
      "execution_count": 100,
      "metadata": {
        "id": "2ImJHd8VfnWq",
        "colab": {
          "base_uri": "https://localhost:8080/"
        },
        "outputId": "1f5cbebd-ecbe-4bd3-a47f-ad5c92e1dd82"
      },
      "outputs": [
        {
          "output_type": "execute_result",
          "data": {
            "text/plain": [
              "<tf.Tensor: shape=(2, 2), dtype=int32, numpy=\n",
              "array([[14, 32],\n",
              "       [32, 77]], dtype=int32)>"
            ]
          },
          "metadata": {},
          "execution_count": 100
        }
      ],
      "source": [
        "x @ tf.transpose(x)"
      ]
    },
    {
      "cell_type": "code",
      "source": [
        "# Error\n",
        "# x @ x"
      ],
      "metadata": {
        "id": "cs5h_WVz0dHC"
      },
      "execution_count": 101,
      "outputs": []
    },
    {
      "cell_type": "code",
      "execution_count": 102,
      "metadata": {
        "id": "U9JZD6TYCZWu",
        "colab": {
          "base_uri": "https://localhost:8080/"
        },
        "outputId": "781aaca3-692c-4d50-9171-b93ba401482a"
      },
      "outputs": [
        {
          "output_type": "execute_result",
          "data": {
            "text/plain": [
              "<tf.Tensor: shape=(2, 9), dtype=int32, numpy=\n",
              "array([[1, 2, 3, 1, 2, 3, 1, 2, 3],\n",
              "       [4, 5, 6, 4, 5, 6, 4, 5, 6]], dtype=int32)>"
            ]
          },
          "metadata": {},
          "execution_count": 102
        }
      ],
      "source": [
        "# like rbind in R\n",
        "\n",
        "tf.concat([x, x, x], axis=0)\n",
        "\n",
        "# axis=1 is for columns\n",
        "tf.concat([x, x, x], axis=1)\n",
        "\n",
        "\n"
      ]
    },
    {
      "cell_type": "code",
      "execution_count": 103,
      "metadata": {
        "id": "seGBLeD9P_PI",
        "colab": {
          "base_uri": "https://localhost:8080/"
        },
        "outputId": "8e62e89b-9c16-44f5-878a-de327f3ab28b"
      },
      "outputs": [
        {
          "output_type": "execute_result",
          "data": {
            "text/plain": [
              "<tf.Tensor: shape=(2, 3), dtype=float32, numpy=\n",
              "array([[0.09003057, 0.24472848, 0.66524094],\n",
              "       [0.09003057, 0.24472848, 0.66524094]], dtype=float32)>"
            ]
          },
          "metadata": {},
          "execution_count": 103
        }
      ],
      "source": [
        "#Error . \n",
        "x = tf.constant([[1., 2, 3],\n",
        "                 [4, 5, 6]])\n",
        "#softmax = tf.exp(logits) / tf.reduce_sum(tf.exp(logits), axis, keepdims=True)\n",
        "tf.nn.softmax(x, axis=-1)\n"
      ]
    },
    {
      "cell_type": "code",
      "execution_count": 104,
      "metadata": {
        "id": "YZNZRv1ECjf8",
        "colab": {
          "base_uri": "https://localhost:8080/"
        },
        "outputId": "f1a05e53-d646-4ea9-b26b-9c012aec600c"
      },
      "outputs": [
        {
          "output_type": "execute_result",
          "data": {
            "text/plain": [
              "<tf.Tensor: shape=(), dtype=float32, numpy=21.0>"
            ]
          },
          "metadata": {},
          "execution_count": 104
        }
      ],
      "source": [
        "tf.reduce_sum(x)"
      ]
    },
    {
      "cell_type": "markdown",
      "metadata": {
        "id": "TNHnIjOVLJfA"
      },
      "source": [
        "Note: Typically, anywhere a TensorFlow function expects a `Tensor` as input, the function will also accept anything that can be converted to a `Tensor` using `tf.convert_to_tensor`. See below for an example."
      ]
    },
    {
      "cell_type": "code",
      "execution_count": 105,
      "metadata": {
        "id": "i_XKgjDsL4GE",
        "colab": {
          "base_uri": "https://localhost:8080/"
        },
        "outputId": "35cfc781-476b-41cd-dea9-1c3979968fbe"
      },
      "outputs": [
        {
          "output_type": "execute_result",
          "data": {
            "text/plain": [
              "<tf.Tensor: shape=(3,), dtype=int32, numpy=array([1, 2, 3], dtype=int32)>"
            ]
          },
          "metadata": {},
          "execution_count": 105
        }
      ],
      "source": [
        "tf.convert_to_tensor([1,2,3])"
      ]
    },
    {
      "cell_type": "code",
      "execution_count": 106,
      "metadata": {
        "id": "wTBt-JUqLJDJ",
        "colab": {
          "base_uri": "https://localhost:8080/"
        },
        "outputId": "2e214762-bfe9-45a8-baab-a6b886c8038f"
      },
      "outputs": [
        {
          "output_type": "execute_result",
          "data": {
            "text/plain": [
              "<tf.Tensor: shape=(), dtype=int32, numpy=6>"
            ]
          },
          "metadata": {},
          "execution_count": 106
        }
      ],
      "source": [
        "tf.reduce_sum([1,2,3])"
      ]
    },
    {
      "cell_type": "markdown",
      "metadata": {
        "id": "8-mi5031DVxz"
      },
      "source": [
        "Running large calculations on CPU can be slow. When properly configured, TensorFlow can use accelerator hardware like GPUs to execute operations very quickly."
      ]
    },
    {
      "cell_type": "code",
      "execution_count": 107,
      "metadata": {
        "id": "m97Gv5H6Dz0G",
        "colab": {
          "base_uri": "https://localhost:8080/"
        },
        "outputId": "086287b9-2cb3-4b20-b53e-35dedc8d5399"
      },
      "outputs": [
        {
          "output_type": "stream",
          "name": "stdout",
          "text": [
            "TensorFlow **IS NOT** using the GPU\n"
          ]
        }
      ],
      "source": [
        "if tf.config.list_physical_devices('GPU'):\n",
        "  print(\"TensorFlow **IS** using the GPU\")\n",
        "else:\n",
        "  print(\"TensorFlow **IS NOT** using the GPU\")"
      ]
    },
    {
      "cell_type": "code",
      "source": [
        "tf.config.list_physical_devices()"
      ],
      "metadata": {
        "colab": {
          "base_uri": "https://localhost:8080/"
        },
        "id": "x_PSk_1L2zEY",
        "outputId": "c91f5e8e-5bad-4af9-e0ef-8341bedeea42"
      },
      "execution_count": 108,
      "outputs": [
        {
          "output_type": "execute_result",
          "data": {
            "text/plain": [
              "[PhysicalDevice(name='/physical_device:CPU:0', device_type='CPU')]"
            ]
          },
          "metadata": {},
          "execution_count": 108
        }
      ]
    },
    {
      "cell_type": "markdown",
      "metadata": {
        "id": "ln2FkLOqMX92"
      },
      "source": [
        "Refer to the [Tensor guide](tensor.ipynb) for details."
      ]
    },
    {
      "cell_type": "markdown",
      "metadata": {
        "id": "oVbomvMyEIVF"
      },
      "source": [
        "## Variables\n",
        "\n",
        "# **Normal `tf.Tensor` objects are immutable. To store model weights (or other mutable state) in TensorFlow use a `tf.Variable`.**"
      ]
    },
    {
      "cell_type": "code",
      "execution_count": 109,
      "metadata": {
        "id": "SO8_bP4UEzxS"
      },
      "outputs": [],
      "source": [
        "var = tf.Variable([0.0, 0.0, 0.0])"
      ]
    },
    {
      "cell_type": "code",
      "execution_count": 110,
      "metadata": {
        "id": "aDLYFvu5FAFa",
        "colab": {
          "base_uri": "https://localhost:8080/"
        },
        "outputId": "6164933f-07ff-467f-b0ae-1b18b37b038c"
      },
      "outputs": [
        {
          "output_type": "execute_result",
          "data": {
            "text/plain": [
              "<tf.Variable 'UnreadVariable' shape=(3,) dtype=float32, numpy=array([1., 2., 3.], dtype=float32)>"
            ]
          },
          "metadata": {},
          "execution_count": 110
        }
      ],
      "source": [
        "var.assign([1, 2, 3])"
      ]
    },
    {
      "cell_type": "code",
      "execution_count": 111,
      "metadata": {
        "id": "9EpiOmxXFDSS",
        "colab": {
          "base_uri": "https://localhost:8080/"
        },
        "outputId": "c4227a38-86d9-4a9a-8c08-accbd5264082"
      },
      "outputs": [
        {
          "output_type": "execute_result",
          "data": {
            "text/plain": [
              "<tf.Variable 'UnreadVariable' shape=(3,) dtype=float32, numpy=array([2., 3., 4.], dtype=float32)>"
            ]
          },
          "metadata": {},
          "execution_count": 111
        }
      ],
      "source": [
        "var.assign_add([1, 1, 1])"
      ]
    },
    {
      "cell_type": "markdown",
      "metadata": {
        "id": "tlvTpi1CMedC"
      },
      "source": [
        "Refer to the [Variables guide](variable.ipynb) for details."
      ]
    },
    {
      "cell_type": "markdown",
      "metadata": {
        "id": "rG1Dhv2QFkV3"
      },
      "source": [
        "## Automatic differentiation\n",
        "\n",
        "<a href=\"https://en.wikipedia.org/wiki/Gradient_descent\" class=\"external\">_Gradient descent_</a> and related algorithms are a cornerstone of modern machine learning.\n",
        "\n",
        "To enable this, TensorFlow implements automatic differentiation (autodiff), which uses calculus to compute gradients. Typically you'll use this to calculate the gradient of a model's _error_ or _loss_ with respect to its weights."
      ]
    },
    {
      "cell_type": "code",
      "execution_count": 112,
      "metadata": {
        "id": "cYKOi-z4GY9Y"
      },
      "outputs": [],
      "source": [
        "x = tf.Variable(1.0)\n",
        "\n",
        "def f(x):\n",
        "  y = x**2 + 2*x - 5\n",
        "  return y"
      ]
    },
    {
      "cell_type": "code",
      "source": [
        "x=tf.Variable(10.0)\n",
        "def f(x):\n",
        "  y=x**3 + x - 1\n",
        "  return y\n"
      ],
      "metadata": {
        "id": "KMLBXM1F4q4b"
      },
      "execution_count": 113,
      "outputs": []
    },
    {
      "cell_type": "markdown",
      "metadata": {
        "id": "ozLLop0cHeYl"
      },
      "source": [
        "At `x = 1.0`, `y = f(x) = (1**2 + 2*1 - 5) = -2`.\n",
        "\n",
        "The derivative of `y` is `y' = f'(x) = (2*x + 2) = 4`. TensorFlow can calculate this automatically:"
      ]
    },
    {
      "cell_type": "code",
      "execution_count": 114,
      "metadata": {
        "id": "N02NfWpHGvw8",
        "colab": {
          "base_uri": "https://localhost:8080/"
        },
        "outputId": "e7d87b44-5cca-434f-ab89-f3b040d2a8ae"
      },
      "outputs": [
        {
          "output_type": "execute_result",
          "data": {
            "text/plain": [
              "<tf.Tensor: shape=(), dtype=float32, numpy=301.0>"
            ]
          },
          "metadata": {},
          "execution_count": 114
        }
      ],
      "source": [
        "with tf.GradientTape() as tape:\n",
        "  y = f(x)\n",
        "g_x = tape.gradient(y, x)  # g(x) = dy/dx\n",
        "\n",
        "g_x"
      ]
    },
    {
      "cell_type": "markdown",
      "source": [
        "# 2nd order differentiation"
      ],
      "metadata": {
        "id": "d8I90LGHsc1f"
      }
    },
    {
      "cell_type": "code",
      "source": [
        "# Creating my own example with the help of documentation\n",
        "with tf.GradientTape() as tape:\n",
        "  with tf.GradientTape() as tape2:\n",
        "    y=f(x)\n",
        "    g_x=tape.gradient(y, x)  # g(x) = dy/dx\n",
        "g_prime_x=tape2.gradient(g_x, x)  # g(x) = d2y/dx\n",
        "\n",
        "print(\"3x^2+1 = 3*10^2 + 1 is equal to tensor of value 301.0 \",g_x) # 3x^2+1 = 3*10^2 + 1  \n",
        "print(\"6x = 6*10\",g_prime_x)  # 6x = 6*10\n",
        "\n",
        "\n"
      ],
      "metadata": {
        "colab": {
          "base_uri": "https://localhost:8080/"
        },
        "id": "mBBsqhEi5Aj1",
        "outputId": "8cd24739-e7e0-49c7-df19-4d8490aa0791"
      },
      "execution_count": 115,
      "outputs": [
        {
          "output_type": "stream",
          "name": "stdout",
          "text": [
            "3x^2+1 = 3*10^2 + 1 is equal to tensor of value 301.0  tf.Tensor(301.0, shape=(), dtype=float32)\n",
            "6x = 6*10 tf.Tensor(60.0, shape=(), dtype=float32)\n"
          ]
        }
      ]
    },
    {
      "cell_type": "markdown",
      "metadata": {
        "id": "s-DVYJfcIRPd"
      },
      "source": [
        "This simplified example only takes the derivative with respect to a single scalar (`x`), but TensorFlow can compute the gradient with respect to any number of non-scalar tensors simultaneously."
      ]
    },
    {
      "cell_type": "markdown",
      "metadata": {
        "id": "ECK3I9bUMk_r"
      },
      "source": [
        "Refer to the [Autodiff guide](autodiff.ipynb) for details."
      ]
    },
    {
      "cell_type": "markdown",
      "metadata": {
        "id": "VglUM4M3KhNz"
      },
      "source": [
        "## Graphs and tf.function\n",
        "\n",
        "While you can use TensorFlow interactively like any Python library, TensorFlow also provides tools for:\n",
        "\n",
        "* **Performance optimization**: to speed up training and inference.\n",
        "* **Export**: so you can save your model when it's done training.\n",
        "\n",
        "These require that you use `tf.function` to separate your pure-TensorFlow code from Python."
      ]
    },
    {
      "cell_type": "code",
      "execution_count": 116,
      "metadata": {
        "id": "VitACyZWKJD_"
      },
      "outputs": [],
      "source": [
        "@tf.function\n",
        "def my_func(x):\n",
        "  print('Tracing.\\n')\n",
        "  return tf.reduce_sum(x)"
      ]
    },
    {
      "cell_type": "markdown",
      "metadata": {
        "id": "fBYDh-huNUBZ"
      },
      "source": [
        "The first time you run the `tf.function`, although it executes in Python, it captures a complete, optimized graph representing the TensorFlow computations done within the function."
      ]
    },
    {
      "cell_type": "code",
      "execution_count": 117,
      "metadata": {
        "id": "vkOFSEkoM1bd",
        "colab": {
          "base_uri": "https://localhost:8080/"
        },
        "outputId": "9038d8fa-9176-462a-8368-9892712b28d6"
      },
      "outputs": [
        {
          "output_type": "stream",
          "name": "stdout",
          "text": [
            "Tracing.\n",
            "\n"
          ]
        },
        {
          "output_type": "execute_result",
          "data": {
            "text/plain": [
              "<tf.Tensor: shape=(), dtype=float32, numpy=6.0>"
            ]
          },
          "metadata": {},
          "execution_count": 117
        }
      ],
      "source": [
        "#Although in the example the first example used has a dtype of int32. I used float32 to show that once the data\n",
        "#type is converted to float32 tf does not revert back to a new tf graph. And therefor in none of the examples\n",
        "# \"tracing\" is print\n",
        "x = tf.constant([1.0, 2.0, 3.0])\n",
        "my_func(x)"
      ]
    },
    {
      "cell_type": "markdown",
      "metadata": {
        "id": "a3aWzt-rNsBa"
      },
      "source": [
        "On subsequent calls TensorFlow only executes the optimized graph, skipping any non-TensorFlow steps. Below, note that `my_func` doesn't print _tracing_ since `print` is a Python function, not a TensorFlow function."
      ]
    },
    {
      "cell_type": "code",
      "execution_count": 118,
      "metadata": {
        "id": "23dMHWwwNIoa",
        "colab": {
          "base_uri": "https://localhost:8080/"
        },
        "outputId": "54c4b556-4b59-4262-a134-86122417f051"
      },
      "outputs": [
        {
          "output_type": "stream",
          "name": "stdout",
          "text": [
            "Tracing.\n",
            "\n"
          ]
        },
        {
          "output_type": "execute_result",
          "data": {
            "text/plain": [
              "<tf.Tensor: shape=(), dtype=int32, numpy=27>"
            ]
          },
          "metadata": {},
          "execution_count": 118
        }
      ],
      "source": [
        "x = tf.constant([10, 9, 8])\n",
        "my_func(x)"
      ]
    },
    {
      "cell_type": "markdown",
      "metadata": {
        "id": "nSeTti6zki0n"
      },
      "source": [
        "A graph may not be reusable for inputs with a different _signature_ (`shape` and `dtype`), so a new graph is generated instead:"
      ]
    },
    {
      "cell_type": "code",
      "execution_count": 119,
      "metadata": {
        "id": "OWffqyhqlVPf",
        "colab": {
          "base_uri": "https://localhost:8080/"
        },
        "outputId": "c583a8d2-25b3-416c-ed02-31cd7fa91c65"
      },
      "outputs": [
        {
          "output_type": "execute_result",
          "data": {
            "text/plain": [
              "<tf.Tensor: shape=(), dtype=float32, numpy=27.3>"
            ]
          },
          "metadata": {},
          "execution_count": 119
        }
      ],
      "source": [
        "x = tf.constant([10.0, 9.1, 8.2], dtype=tf.float32)\n",
        "my_func(x)"
      ]
    },
    {
      "cell_type": "markdown",
      "metadata": {
        "id": "UWknAA_zNTOa"
      },
      "source": [
        "These captured graphs provide two benefits:\n",
        "\n",
        "* In many cases they provide a significant speedup in execution (though not this trivial example).\n",
        "* You can export these graphs, using `tf.saved_model`, to run on other systems like a [server](https://www.tensorflow.org/tfx/serving/docker) or a [mobile device](https://www.tensorflow.org/lite/guide), no Python installation required."
      ]
    },
    {
      "cell_type": "markdown",
      "metadata": {
        "id": "hLUJ6f2eMsA8"
      },
      "source": [
        "Refer to [Intro to graphs](intro_to_graphs.ipynb) for more details."
      ]
    },
    {
      "cell_type": "markdown",
      "metadata": {
        "id": "t_36xPDPPBqp"
      },
      "source": [
        "## Modules, layers, and models"
      ]
    },
    {
      "cell_type": "markdown",
      "metadata": {
        "id": "oDaT7kCpUgnJ"
      },
      "source": [
        "`tf.Module` is a class for managing your `tf.Variable` objects, and the `tf.function` objects that operate on them. The `tf.Module` class is necessary to support two significant features:\n",
        "\n",
        "1. You can save and restore the values of your variables using `tf.train.Checkpoint`. This is useful during training as it is quick to save and restore a model's state.\n",
        "2. You can import and export the `tf.Variable` values _and_ the `tf.function` graphs using `tf.saved_model`. This allows you to run your model independently of the Python program that created it.\n",
        "\n",
        "Here is a complete example exporting a simple `tf.Module` object:"
      ]
    },
    {
      "cell_type": "code",
      "execution_count": 120,
      "metadata": {
        "id": "1MqEcZOqPBDV"
      },
      "outputs": [],
      "source": [
        "class MyModule(tf.Module):\n",
        "  def __init__(self, weights):\n",
        "    self.weight = tf.Variable(weights)\n",
        "\n",
        "  @tf.function\n",
        "  def activation(self, inputs,bias):\n",
        "    print('tracing')\n",
        "    return inputs * self.weight + bias"
      ]
    },
    {
      "cell_type": "code",
      "execution_count": 121,
      "metadata": {
        "id": "la2G82HfVfU0",
        "colab": {
          "base_uri": "https://localhost:8080/"
        },
        "outputId": "28dfcab8-1ae8-450d-ce0d-375ea1760dac"
      },
      "outputs": [
        {
          "output_type": "stream",
          "name": "stdout",
          "text": [
            "tracing\n"
          ]
        },
        {
          "output_type": "execute_result",
          "data": {
            "text/plain": [
              "<tf.Tensor: shape=(3,), dtype=int32, numpy=array([ 4,  7, 10], dtype=int32)>"
            ]
          },
          "metadata": {},
          "execution_count": 121
        }
      ],
      "source": [
        "mod = MyModule(weights=3)\n",
        "mod.activation(inputs = tf.constant([1, 2, 3]),bias=tf.constant(1))"
      ]
    },
    {
      "cell_type": "code",
      "source": [
        "# Can verify that it didn't print tracing. \n",
        "mod.activation(inputs = tf.constant([5, 2, 3]),bias=tf.constant(1))"
      ],
      "metadata": {
        "colab": {
          "base_uri": "https://localhost:8080/"
        },
        "id": "sTRPcklMx_gF",
        "outputId": "af1a1b7f-6a84-41e7-e043-289f781b8398"
      },
      "execution_count": 122,
      "outputs": [
        {
          "output_type": "execute_result",
          "data": {
            "text/plain": [
              "<tf.Tensor: shape=(3,), dtype=int32, numpy=array([16,  7, 10], dtype=int32)>"
            ]
          },
          "metadata": {},
          "execution_count": 122
        }
      ]
    },
    {
      "cell_type": "code",
      "execution_count": 123,
      "metadata": {
        "id": "1MlfbEMjVzG4",
        "colab": {
          "base_uri": "https://localhost:8080/"
        },
        "outputId": "c09a305c-d0eb-4944-d160-aec564950d8b"
      },
      "outputs": [
        {
          "output_type": "stream",
          "name": "stdout",
          "text": [
            "tracing\n"
          ]
        }
      ],
      "source": [
        "save_path = './saved'\n",
        "tf.saved_model.save(mod, save_path)"
      ]
    },
    {
      "cell_type": "code",
      "source": [
        "  '''\n",
        "class Dense(tf.Module):\n",
        "  def __init__(self, input_dim, output_size, name=None):\n",
        "    super().__init__(name=name)\n",
        "    self.w = tf.Variable(\n",
        "    tf.random.normal([input_dim, output_size]), name='w')\n",
        "    self.b = tf.Variable(tf.zeros([output_size]), name='b')\n",
        "  def __call__(self, x):\n",
        "    y = tf.matmul(x, self.w) + self.b\n",
        "    return tf.nn.relu(y)\n",
        "  '''"
      ],
      "metadata": {
        "id": "mY2jrD7SwxJd",
        "colab": {
          "base_uri": "https://localhost:8080/",
          "height": 70
        },
        "outputId": "b89099a1-6a45-40eb-d993-d8d018a1939b"
      },
      "execution_count": 124,
      "outputs": [
        {
          "output_type": "execute_result",
          "data": {
            "text/plain": [
              "\"\\nclass Dense(tf.Module):\\ndef __init__(self, input_dim, output_size, name=None):\\n  super().__init__(name=name)\\n  self.w = tf.Variable(\\n  tf.random.normal([input_dim, output_size]), name='w')\\n  self.b = tf.Variable(tf.zeros([output_size]), name='b')\\ndef __call__(self, x):\\n  y = tf.matmul(x, self.w) + self.b\\n  return tf.nn.relu(y)\\n\""
            ],
            "application/vnd.google.colaboratory.intrinsic+json": {
              "type": "string"
            }
          },
          "metadata": {},
          "execution_count": 124
        }
      ]
    },
    {
      "cell_type": "markdown",
      "metadata": {
        "id": "GaSJX7zQXCm4"
      },
      "source": [
        "Save the `Module`:"
      ]
    },
    {
      "cell_type": "markdown",
      "metadata": {
        "id": "LgfoftD4XGJW"
      },
      "source": [
        "The resulting SavedModel is independent of the code that created it. You can load a SavedModel from Python, other language bindings, or [TensorFlow Serving](https://www.tensorflow.org/tfx/serving/docker). You can also convert it to run with [TensorFlow Lite](https://www.tensorflow.org/lite/guide) or [TensorFlow JS](https://www.tensorflow.org/js/guide)."
      ]
    },
    {
      "cell_type": "code",
      "execution_count": 125,
      "metadata": {
        "id": "pWuLOIKBWZYG",
        "colab": {
          "base_uri": "https://localhost:8080/"
        },
        "outputId": "6bc1ca1c-4f77-4613-c21d-b4c3695ca949"
      },
      "outputs": [
        {
          "output_type": "execute_result",
          "data": {
            "text/plain": [
              "<tf.Tensor: shape=(3,), dtype=int32, numpy=array([ 5,  8, 11], dtype=int32)>"
            ]
          },
          "metadata": {},
          "execution_count": 125
        }
      ],
      "source": [
        "reloaded = tf.saved_model.load(save_path)\n",
        "type(reloaded) # Loads the object\n",
        "reloaded.activation(tf.constant([1, 2, 3]),bias=2)"
      ]
    },
    {
      "cell_type": "markdown",
      "metadata": {
        "id": "nxU6P1RGwHyC"
      },
      "source": [
        "The `tf.keras.layers.Layer` and `tf.keras.Model` classes build on `tf.Module` providing additional functionality and convenience methods for building, training, and saving models. Some of these are demonstrated in the next section."
      ]
    },
    {
      "cell_type": "markdown",
      "metadata": {
        "id": "tQzt3yaWMzLf"
      },
      "source": [
        "Refer to [Intro to modules](intro_to_modules.ipynb) for details."
      ]
    },
    {
      "cell_type": "markdown",
      "metadata": {
        "id": "Rk1IEG5aav7X"
      },
      "source": [
        "## Training loops\n",
        "\n",
        "Now put this all together to build a basic model and train it from scratch.\n",
        "\n",
        "First, create some example data. This generates a cloud of points that loosely follows a quadratic curve:"
      ]
    },
    {
      "cell_type": "code",
      "execution_count": 126,
      "metadata": {
        "id": "VcuFr7KPRPzn"
      },
      "outputs": [],
      "source": [
        "import matplotlib\n",
        "from matplotlib import pyplot as plt\n",
        "\n",
        "#controls the figure size. This way we can configure it throughout the session for every figure generated using \n",
        "#matplotlib\n",
        "matplotlib.rcParams['figure.figsize'] = [3, 3]"
      ]
    },
    {
      "cell_type": "code",
      "source": [
        "#               from, to, how many \n",
        "# how many determines the spacing between the two extremities\n",
        "# equivalent to other python functions\n",
        "#x = tf.linspace(-2, 2, 201)\n",
        "\n",
        "#generates 201 random numbers and follows a normal distribution\n",
        "#tf.random.normal(shape=[201])"
      ],
      "metadata": {
        "id": "OWClfHGQqkGl"
      },
      "execution_count": 127,
      "outputs": []
    },
    {
      "cell_type": "code",
      "execution_count": 128,
      "metadata": {
        "id": "sXN9E_xf-GiP",
        "colab": {
          "base_uri": "https://localhost:8080/",
          "height": 291
        },
        "outputId": "5ca641d2-4bc4-430f-e2f3-fdb1c750b507"
      },
      "outputs": [
        {
          "output_type": "display_data",
          "data": {
            "text/plain": [
              "<Figure size 300x300 with 1 Axes>"
            ],
            "image/png": "[encoded data removed]"
          },
          "metadata": {}
        }
      ],
      "source": [
        "x = tf.linspace(-2, 2, 201)\n",
        "x = tf.cast(x, tf.float32)\n",
        "\n",
        "def f(x):\n",
        "  y = x**2 + 2*x - 5\n",
        "  return y\n",
        "\n",
        "# this is done to introduce the jiterriness\n",
        "y = f(x) + tf.random.normal(shape=[201])\n",
        "\n",
        "plt.plot(x.numpy(), y.numpy(), '.', label='Data')\n",
        "plt.plot(x, f(x), label='Ground truth')\n",
        "plt.legend();"
      ]
    },
    {
      "cell_type": "markdown",
      "metadata": {
        "id": "De5LldboSWcW"
      },
      "source": [
        "Create a quadratic model with randomly initialized weights and a bias:"
      ]
    },
    {
      "cell_type": "code",
      "execution_count": 129,
      "metadata": {
        "id": "Pypd0GB4SRhf",
        "colab": {
          "base_uri": "https://localhost:8080/",
          "height": 87
        },
        "outputId": "552fd991-8326-4f84-e81a-eaef488727cf"
      },
      "outputs": [
        {
          "output_type": "execute_result",
          "data": {
            "text/plain": [
              "'\\nclass Model(tf.Module):\\n\\n  def __init__(self):\\n    # Randomly generate weight and bias terms\\n    rand_init = tf.random.uniform(shape=[3], minval=0., maxval=5., seed=22)\\n    # Initialize model parameters\\n    self.w_q = tf.Variable(rand_init[0])\\n    self.w_l = tf.Variable(rand_init[1])\\n    self.b = tf.Variable(rand_init[2])\\n  \\n  @tf.function\\n  def __call__(self, x):\\n    # Quadratic Model : quadratic_weight * x^2 + linear_weight * x + bias\\n    return self.w_q * (x**2) + self.w_l * x + self.b\\n'"
            ],
            "application/vnd.google.colaboratory.intrinsic+json": {
              "type": "string"
            }
          },
          "metadata": {},
          "execution_count": 129
        }
      ],
      "source": [
        "'''\n",
        "class Model(tf.Module):\n",
        "\n",
        "  def __init__(self):\n",
        "    # Randomly generate weight and bias terms\n",
        "    rand_init = tf.random.uniform(shape=[3], minval=0., maxval=5., seed=22)\n",
        "    # Initialize model parameters\n",
        "    self.w_q = tf.Variable(rand_init[0])\n",
        "    self.w_l = tf.Variable(rand_init[1])\n",
        "    self.b = tf.Variable(rand_init[2])\n",
        "  \n",
        "  @tf.function\n",
        "  def __call__(self, x):\n",
        "    # Quadratic Model : quadratic_weight * x^2 + linear_weight * x + bias\n",
        "    return self.w_q * (x**2) + self.w_l * x + self.b\n",
        "'''    "
      ]
    },
    {
      "cell_type": "code",
      "source": [
        "class Model(tf.Module):\n",
        "  def __init__(self, name=None):\n",
        "    super().__init__(name)\n",
        "    self.initialized=tf.random.uniform([3],0.0,5.0)\n",
        "    # without tf.Variables model will not be able to update weights. \n",
        "    self.w_q2=tf.Variable(self.initialized[0])\n",
        "    self.w_q1=tf.Variable(self.initialized[1])\n",
        "    self.b=tf.Variable(self.initialized[2])\n",
        "  @tf.function\n",
        "  def __call__(self,x):\n",
        "    return self.w_q2*(x**2) + self.w_q1*x +self.b"
      ],
      "metadata": {
        "id": "qQccJ3kQtfjm"
      },
      "execution_count": 130,
      "outputs": []
    },
    {
      "cell_type": "markdown",
      "metadata": {
        "id": "36o7VjaesScg"
      },
      "source": [
        "First, observe your model's performance before training:"
      ]
    },
    {
      "cell_type": "code",
      "execution_count": 131,
      "metadata": {
        "id": "GkwToC5BWV1c"
      },
      "outputs": [],
      "source": [
        "quad_model = Model()"
      ]
    },
    {
      "cell_type": "code",
      "source": [
        "quad_model.variables"
      ],
      "metadata": {
        "colab": {
          "base_uri": "https://localhost:8080/"
        },
        "id": "UvT303pp54L1",
        "outputId": "975c84a5-c48f-40ff-c0a4-0cdd92f22cd2"
      },
      "execution_count": 132,
      "outputs": [
        {
          "output_type": "execute_result",
          "data": {
            "text/plain": [
              "(<tf.Variable 'Variable:0' shape=() dtype=float32, numpy=0.51374376>,\n",
              " <tf.Variable 'Variable:0' shape=() dtype=float32, numpy=2.0627093>,\n",
              " <tf.Variable 'Variable:0' shape=() dtype=float32, numpy=4.5984726>)"
            ]
          },
          "metadata": {},
          "execution_count": 132
        }
      ]
    },
    {
      "cell_type": "code",
      "source": [
        "t_v=quad_model.variables[0]\n",
        "# to show that assigning variables like this is just an update to the pointer\n",
        "t_v.assign_sub(2.0)"
      ],
      "metadata": {
        "colab": {
          "base_uri": "https://localhost:8080/"
        },
        "id": "r5brnUxZJrMs",
        "outputId": "57ef5998-ba39-4f7e-d629-54abbe803276"
      },
      "execution_count": 133,
      "outputs": [
        {
          "output_type": "execute_result",
          "data": {
            "text/plain": [
              "<tf.Variable 'UnreadVariable' shape=() dtype=float32, numpy=-1.4862562>"
            ]
          },
          "metadata": {},
          "execution_count": 133
        }
      ]
    },
    {
      "cell_type": "markdown",
      "source": [
        "## Initial random weights:"
      ],
      "metadata": {
        "id": "BpIs45_DNRDG"
      }
    },
    {
      "cell_type": "code",
      "source": [
        "#changes take place here as well. This is optimal since later in the notebook when we will do \n",
        "# weight updates it will be very useful\n",
        "\n",
        "quad_model.variables"
      ],
      "metadata": {
        "colab": {
          "base_uri": "https://localhost:8080/"
        },
        "id": "DTRHQXmVKl8L",
        "outputId": "de96e0c9-fcbc-4916-ee76-0d059134e548"
      },
      "execution_count": 134,
      "outputs": [
        {
          "output_type": "execute_result",
          "data": {
            "text/plain": [
              "(<tf.Variable 'Variable:0' shape=() dtype=float32, numpy=-1.4862562>,\n",
              " <tf.Variable 'Variable:0' shape=() dtype=float32, numpy=2.0627093>,\n",
              " <tf.Variable 'Variable:0' shape=() dtype=float32, numpy=4.5984726>)"
            ]
          },
          "metadata": {},
          "execution_count": 134
        }
      ]
    },
    {
      "cell_type": "code",
      "execution_count": 135,
      "metadata": {
        "id": "ReWhH40wTY5F"
      },
      "outputs": [],
      "source": [
        "def plot_preds(x, y, f, model, title):\n",
        "  plt.figure()\n",
        "  plt.plot(x, y, '.', label='Data')\n",
        "  plt.plot(x, f(x), label='Ground truth')\n",
        "  plt.plot(x, model(x), label='Predictions')\n",
        "  plt.title(title)\n",
        "  plt.legend()"
      ]
    },
    {
      "cell_type": "code",
      "execution_count": 136,
      "metadata": {
        "id": "Y0JtXQat-nlk",
        "colab": {
          "base_uri": "https://localhost:8080/",
          "height": 314
        },
        "outputId": "64ea15fd-8bf4-495f-8d34-a7035c85ed96"
      },
      "outputs": [
        {
          "output_type": "display_data",
          "data": {
            "text/plain": [
              "<Figure size 300x300 with 1 Axes>"
            ],
            "image/png": "[encoded data removed]"
          },
          "metadata": {}
        }
      ],
      "source": [
        "plot_preds(x, y, f, quad_model, 'Before training')"
      ]
    },
    {
      "cell_type": "markdown",
      "metadata": {
        "id": "hLzwD0-ascGf"
      },
      "source": [
        "Now, define a loss for your model:\n",
        "\n",
        "Given that this model is intended to predict continuous values, the mean squared error (MSE) is a good choice for the loss function. Given a vector of predictions, $\\hat{y}$, and a vector of true targets, $y$, the MSE is defined as the mean of the squared differences between the predicted values and the ground truth.\n",
        "\n",
        "$MSE = \\frac{1}{m}\\sum_{i=1}^{m}(\\hat{y}_i -y_i)^2$"
      ]
    },
    {
      "cell_type": "code",
      "execution_count": 137,
      "metadata": {
        "id": "eCtJ1uuCseZd"
      },
      "outputs": [],
      "source": [
        "def mse_loss(y_pred, y):\n",
        "  return tf.reduce_mean(tf.square(y_pred - y))"
      ]
    },
    {
      "cell_type": "markdown",
      "metadata": {
        "id": "7EWyDu3zot2w"
      },
      "source": [
        "Write a basic training loop for the model. The loop will make use of the MSE loss function and its gradients with respect to the input in order to iteratively update the model's parameters. Using mini-batches for training provides both memory efficienciy and faster convergence. The `tf.data.Dataset` API has useful functions for batching and shuffling."
      ]
    },
    {
      "cell_type": "code",
      "execution_count": 138,
      "metadata": {
        "id": "8kX_-zily2Ia"
      },
      "outputs": [],
      "source": [
        "batch_size = 32\n",
        "# similar to a zip function\n",
        "\n",
        "dataset = tf.data.Dataset.from_tensor_slices((x, y))\n",
        "dataset = dataset.shuffle(buffer_size=x.shape[0]).batch(batch_size)"
      ]
    },
    {
      "cell_type": "code",
      "source": [
        "for index,elem in enumerate(dataset):\n",
        "  print(elem)"
      ],
      "metadata": {
        "colab": {
          "base_uri": "https://localhost:8080/"
        },
        "id": "Eebngajm3UCN",
        "outputId": "06aa5029-764e-4e1a-afd3-45320f1fe2e2"
      },
      "execution_count": 139,
      "outputs": [
        {
          "output_type": "stream",
          "name": "stdout",
          "text": [
            "(<tf.Tensor: shape=(32,), dtype=float32, numpy=\n",
            "array([-1.9 , -0.56,  0.66,  0.12,  1.9 , -1.94,  0.82, -1.32,  0.48,\n",
            "       -0.36,  1.76,  1.98,  0.46, -1.1 , -0.74,  1.72,  1.84,  1.4 ,\n",
            "        0.68, -0.08, -0.9 ,  0.58,  0.3 , -1.92,  0.9 ,  0.56,  1.1 ,\n",
            "       -1.12,  0.28,  0.22,  1.42,  1.2 ], dtype=float32)>, <tf.Tensor: shape=(32,), dtype=float32, numpy=\n",
            "array([-6.378829 , -5.707951 , -4.0114155, -4.5881095,  2.7776217,\n",
            "       -4.846761 , -2.4262183, -4.6016874, -5.9979453, -6.408515 ,\n",
            "        1.4476514,  3.1461227, -2.326789 , -4.9508505, -4.873827 ,\n",
            "        2.7577105,  1.6476799, -1.0737579, -3.3699932, -4.2752438,\n",
            "       -6.814226 , -4.342881 , -4.2321954, -4.9924984, -1.6163782,\n",
            "       -3.1037517, -1.954665 , -5.6543417, -4.353145 , -3.6201916,\n",
            "        1.1650957, -1.2945997], dtype=float32)>)\n",
            "(<tf.Tensor: shape=(32,), dtype=float32, numpy=\n",
            "array([-1.82, -0.82, -1.56,  0.5 , -1.34, -1.66,  0.6 , -0.5 , -0.86,\n",
            "        1.  ,  1.08, -1.06, -0.48,  0.2 , -1.54,  1.34, -0.28, -1.14,\n",
            "       -1.98, -0.72,  0.88,  0.7 , -1.28, -1.88,  1.74, -1.02,  1.46,\n",
            "        0.32,  0.54,  1.02,  1.24,  1.68], dtype=float32)>, <tf.Tensor: shape=(32,), dtype=float32, numpy=\n",
            "array([-3.359727  , -5.0351443 , -7.5521917 , -5.540039  , -5.1209893 ,\n",
            "       -4.3618183 , -3.084376  , -6.3369217 , -6.337546  , -1.5511435 ,\n",
            "       -2.02755   , -4.932092  , -5.220417  , -4.115821  , -4.8702254 ,\n",
            "        0.5134368 , -7.311755  , -6.972386  , -6.750859  , -6.3780794 ,\n",
            "       -3.2097461 , -3.61378   , -4.5265555 , -5.3880014 ,  2.352641  ,\n",
            "       -4.819331  , -0.87608844, -3.6503155 , -2.9637845 , -2.003582  ,\n",
            "       -1.7830522 ,  0.13743532], dtype=float32)>)\n",
            "(<tf.Tensor: shape=(32,), dtype=float32, numpy=\n",
            "array([-0.1 ,  1.78,  0.38,  0.98,  0.14,  1.88, -1.08, -0.26, -0.14,\n",
            "        0.76,  1.86, -1.7 , -0.32, -0.02, -1.6 , -1.76, -1.96, -1.84,\n",
            "        1.94,  0.24,  0.18,  1.6 ,  1.28, -0.6 , -1.64,  0.  , -2.  ,\n",
            "       -1.36, -0.52,  1.96,  0.84, -1.3 ], dtype=float32)>, <tf.Tensor: shape=(32,), dtype=float32, numpy=\n",
            "array([-6.0882745 ,  3.0419953 , -4.2847695 ,  0.2501521 , -5.3121247 ,\n",
            "        1.9399194 , -5.4618015 , -6.6484017 , -4.9844003 , -5.0743437 ,\n",
            "        0.754266  , -3.7466097 , -4.790851  , -4.40312   , -6.5323906 ,\n",
            "       -4.99654   , -4.536358  , -5.666458  ,  3.271275  , -5.3745794 ,\n",
            "       -3.8063488 , -2.091278  , -2.227079  , -7.2916794 , -5.091403  ,\n",
            "       -6.518606  , -4.215035  , -5.4836025 , -5.0986176 ,  0.61575174,\n",
            "        0.8283403 , -6.0941515 ], dtype=float32)>)\n",
            "(<tf.Tensor: shape=(32,), dtype=float32, numpy=\n",
            "array([-1.46, -0.58, -0.84,  1.26,  0.74, -0.78,  0.62, -1.5 ,  1.5 ,\n",
            "        1.48, -1.16,  1.06, -0.68, -0.92,  1.62,  1.36,  0.64,  0.96,\n",
            "       -1.26,  0.4 , -0.24, -1.68,  0.8 ,  1.3 , -0.2 , -0.04, -0.22,\n",
            "       -1.22, -0.38,  0.34, -1.4 ,  1.82], dtype=float32)>, <tf.Tensor: shape=(32,), dtype=float32, numpy=\n",
            "array([-4.655546  , -6.3965883 , -6.8127136 , -0.27109247, -1.3346643 ,\n",
            "       -6.678698  , -3.755456  , -6.0441256 ,  0.20451894,  0.53249353,\n",
            "       -4.7153673 , -1.1114111 , -6.60286   , -4.724628  ,  1.2488419 ,\n",
            "       -0.16537556, -5.68254   , -1.2186394 , -6.495768  , -3.4771023 ,\n",
            "       -3.3970463 , -3.9779108 , -2.230953  , -0.32725358, -3.9055874 ,\n",
            "       -6.5412107 , -6.478284  , -3.9266102 , -6.310532  , -3.6904552 ,\n",
            "       -6.988314  ,  0.67691875], dtype=float32)>)\n",
            "(<tf.Tensor: shape=(32,), dtype=float32, numpy=\n",
            "array([ 0.86,  0.92, -1.04, -0.66, -1.58, -0.94,  1.18,  1.56, -0.64,\n",
            "       -0.3 , -1.78,  1.92, -1.2 , -0.18,  0.44,  1.14,  1.22,  0.52,\n",
            "       -1.38, -1.  ,  0.26,  1.64,  1.54,  1.12,  0.08, -1.42, -1.86,\n",
            "        0.42,  0.16, -0.7 , -0.54,  0.04], dtype=float32)>, <tf.Tensor: shape=(32,), dtype=float32, numpy=\n",
            "array([-5.005331  , -2.9359763 , -5.4865932 , -5.1252456 , -6.410334  ,\n",
            "       -6.5796447 , -1.8070657 ,  0.6918906 , -6.1788263 , -4.588713  ,\n",
            "       -5.594046  ,  2.4615245 , -5.970308  , -5.3851743 , -3.2639596 ,\n",
            "       -1.0331652 , -1.1593028 , -3.9811385 , -6.248974  , -6.259686  ,\n",
            "       -5.3306646 ,  0.41013753,  0.8469605 , -1.6293019 , -4.41344   ,\n",
            "       -4.7685003 , -5.628138  , -4.7533073 , -3.641192  , -5.284358  ,\n",
            "       -7.007691  , -5.2666483 ], dtype=float32)>)\n",
            "(<tf.Tensor: shape=(32,), dtype=float32, numpy=\n",
            "array([-0.4 , -0.34,  2.  ,  1.04, -0.16,  0.36, -0.06,  1.7 , -1.52,\n",
            "        0.78,  1.32, -0.88,  1.44, -1.48,  1.16,  1.38,  0.06, -0.12,\n",
            "       -1.8 , -1.18, -0.98, -1.24,  1.58,  0.1 , -0.8 , -0.62, -0.96,\n",
            "        1.66, -0.44,  1.8 , -0.42, -1.44], dtype=float32)>, <tf.Tensor: shape=(32,), dtype=float32, numpy=\n",
            "array([-6.3703313 , -5.790724  ,  2.588675  , -1.2738979 , -5.181523  ,\n",
            "       -4.9320674 , -4.8050213 ,  0.4437806 , -6.5091367 , -3.090946  ,\n",
            "        0.5152879 , -6.4737372 , -0.29021528, -4.6116543 , -2.6561103 ,\n",
            "       -1.2889127 , -5.0693026 , -3.720179  , -6.030222  , -7.3131695 ,\n",
            "       -6.4475985 , -3.368353  ,  1.9138633 , -4.525897  , -4.8800755 ,\n",
            "       -5.1344113 , -5.905983  , -0.324746  , -6.347712  ,  2.2625086 ,\n",
            "       -7.7386026 , -6.0239377 ], dtype=float32)>)\n",
            "(<tf.Tensor: shape=(9,), dtype=float32, numpy=\n",
            "array([ 0.72,  0.02, -1.74, -1.62, -1.72,  0.94, -0.46, -0.76,  1.52],\n",
            "      dtype=float32)>, <tf.Tensor: shape=(9,), dtype=float32, numpy=\n",
            "array([-4.472728 , -3.0625224, -6.023075 , -5.6607413, -4.8064904,\n",
            "       -4.5937724, -7.19769  , -5.81408  ,  1.096875 ], dtype=float32)>)\n"
          ]
        }
      ]
    },
    {
      "cell_type": "code",
      "source": [
        "for x_batch, y_batch in dataset:\n",
        "  print(\"x batch\",x_batch)\n",
        "  print(\"y batch\",y_batch)"
      ],
      "metadata": {
        "colab": {
          "base_uri": "https://localhost:8080/"
        },
        "id": "KqownGl54_Mf",
        "outputId": "6692af01-9847-44fb-b665-d2e9caa074c5"
      },
      "execution_count": 140,
      "outputs": [
        {
          "output_type": "stream",
          "name": "stdout",
          "text": [
            "x batch tf.Tensor(\n",
            "[ 0.82 -0.78 -0.88 -1.24  0.06 -0.6  -0.48  0.22 -0.3   1.66 -1.68 -0.22\n",
            "  1.88 -1.16 -1.72  1.54 -0.14  0.28  0.14 -0.7   1.9   0.46 -1.64 -1.18\n",
            "  1.26 -1.76  1.46 -1.02  0.12  1.36 -0.42  1.98], shape=(32,), dtype=float32)\n",
            "y batch tf.Tensor(\n",
            "[-2.4262183  -6.678698   -6.4737372  -3.368353   -5.0693026  -7.2916794\n",
            " -5.220417   -3.6201916  -4.588713   -0.324746   -3.9779108  -6.478284\n",
            "  1.9399194  -4.7153673  -4.8064904   0.8469605  -4.9844003  -4.353145\n",
            " -5.3121247  -5.284358    2.7776217  -2.326789   -5.091403   -7.3131695\n",
            " -0.27109247 -4.99654    -0.87608844 -4.819331   -4.5881095  -0.16537556\n",
            " -7.7386026   3.1461227 ], shape=(32,), dtype=float32)\n",
            "x batch tf.Tensor(\n",
            "[-0.52 -0.8  -0.96  1.72 -0.58 -0.02  0.56  1.14  1.48 -0.4  -0.28  0.8\n",
            " -2.    1.92  1.86  0.72 -1.3   0.6   0.2   0.48 -1.58 -1.32 -0.34  0.7\n",
            " -0.82  0.94  1.44 -1.74  0.88  0.04  1.58 -1.48], shape=(32,), dtype=float32)\n",
            "y batch tf.Tensor(\n",
            "[-5.0986176  -4.8800755  -5.905983    2.7577105  -6.3965883  -4.40312\n",
            " -3.1037517  -1.0331652   0.53249353 -6.3703313  -7.311755   -2.230953\n",
            " -4.215035    2.4615245   0.754266   -4.472728   -6.0941515  -3.084376\n",
            " -4.115821   -5.9979453  -6.410334   -4.6016874  -5.790724   -3.61378\n",
            " -5.0351443  -4.5937724  -0.29021528 -6.023075   -3.2097461  -5.2666483\n",
            "  1.9138633  -4.6116543 ], shape=(32,), dtype=float32)\n",
            "x batch tf.Tensor(\n",
            "[ 0.34 -1.9   1.   -0.18 -1.1   1.18  0.32  0.78  1.74  1.2  -0.5   0.42\n",
            " -1.88 -1.92 -1.94  0.38 -0.46  1.82  0.24  0.   -0.76  2.    1.1  -1.36\n",
            "  1.52  1.02  0.36  0.64 -0.54 -0.86  1.06  1.24], shape=(32,), dtype=float32)\n",
            "y batch tf.Tensor(\n",
            "[-3.6904552  -6.378829   -1.5511435  -5.3851743  -4.9508505  -1.8070657\n",
            " -3.6503155  -3.090946    2.352641   -1.2945997  -6.3369217  -4.7533073\n",
            " -5.3880014  -4.9924984  -4.846761   -4.2847695  -7.19769     0.67691875\n",
            " -5.3745794  -6.518606   -5.81408     2.588675   -1.954665   -5.4836025\n",
            "  1.096875   -2.003582   -4.9320674  -5.68254    -7.007691   -6.337546\n",
            " -1.1114111  -1.7830522 ], shape=(32,), dtype=float32)\n",
            "x batch tf.Tensor(\n",
            "[ 1.38 -1.82 -1.34  0.68  0.9  -0.62  1.94 -1.56  0.16 -1.08 -0.26 -1.14\n",
            " -0.38  0.84  0.3  -1.22 -1.44  0.62 -1.2  -1.7  -1.54  1.68 -0.04 -1.84\n",
            "  1.22  0.96  1.3   0.76 -1.96  1.56 -1.6   1.76], shape=(32,), dtype=float32)\n",
            "y batch tf.Tensor(\n",
            "[-1.2889127  -3.359727   -5.1209893  -3.3699932  -1.6163782  -5.1344113\n",
            "  3.271275   -7.5521917  -3.641192   -5.4618015  -6.6484017  -6.972386\n",
            " -6.310532    0.8283403  -4.2321954  -3.9266102  -6.0239377  -3.755456\n",
            " -5.970308   -3.7466097  -4.8702254   0.13743532 -6.5412107  -5.666458\n",
            " -1.1593028  -1.2186394  -0.32725358 -5.0743437  -4.536358    0.6918906\n",
            " -6.5323906   1.4476514 ], shape=(32,), dtype=float32)\n",
            "x batch tf.Tensor(\n",
            "[-0.56 -0.64 -1.26  1.08  1.6   0.1  -0.92 -1.28 -1.62 -1.06 -1.78 -0.2\n",
            " -1.42  1.12  0.66  1.32 -0.12  0.98 -0.08 -0.66  0.4   0.44 -0.74 -0.1\n",
            "  0.18  1.84  0.52 -1.    1.78  1.8  -1.8  -1.98], shape=(32,), dtype=float32)\n",
            "y batch tf.Tensor(\n",
            "[-5.707951  -6.1788263 -6.495768  -2.02755   -2.091278  -4.525897\n",
            " -4.724628  -4.5265555 -5.6607413 -4.932092  -5.594046  -3.9055874\n",
            " -4.7685003 -1.6293019 -4.0114155  0.5152879 -3.720179   0.2501521\n",
            " -4.2752438 -5.1252456 -3.4771023 -3.2639596 -4.873827  -6.0882745\n",
            " -3.8063488  1.6476799 -3.9811385 -6.259686   3.0419953  2.2625086\n",
            " -6.030222  -6.750859 ], shape=(32,), dtype=float32)\n",
            "x batch tf.Tensor(\n",
            "[-1.86  1.42  1.28  1.64 -1.5   1.4   1.04  0.86 -0.32  0.58  0.74  1.5\n",
            " -0.44  0.02 -1.12  0.26 -0.36  1.7  -0.68  0.92  1.16  1.96 -0.9  -0.84\n",
            " -1.52  0.5  -1.38  1.62 -0.06 -1.04 -1.66 -0.16], shape=(32,), dtype=float32)\n",
            "y batch tf.Tensor(\n",
            "[-5.628138    1.1650957  -2.227079    0.41013753 -6.0441256  -1.0737579\n",
            " -1.2738979  -5.005331   -4.790851   -4.342881   -1.3346643   0.20451894\n",
            " -6.347712   -3.0625224  -5.6543417  -5.3306646  -6.408515    0.4437806\n",
            " -6.60286    -2.9359763  -2.6561103   0.61575174 -6.814226   -6.8127136\n",
            " -6.5091367  -5.540039   -6.248974    1.2488419  -4.8050213  -5.4865932\n",
            " -4.3618183  -5.181523  ], shape=(32,), dtype=float32)\n",
            "x batch tf.Tensor([-0.72 -0.24 -1.46  1.34 -0.98 -1.4   0.08 -0.94  0.54], shape=(9,), dtype=float32)\n",
            "y batch tf.Tensor(\n",
            "[-6.3780794 -3.3970463 -4.655546   0.5134368 -6.4475985 -6.988314\n",
            " -4.41344   -6.5796447 -2.9637845], shape=(9,), dtype=float32)\n"
          ]
        }
      ]
    },
    {
      "cell_type": "markdown",
      "source": [
        "## Change the learning rate to 1. You will notice that the algorithm is never able to converge. \n",
        "\n",
        "## Uncomment the print statements below to check how the weights are getting updated at each step"
      ],
      "metadata": {
        "id": "OktAlIdmQiWd"
      }
    },
    {
      "cell_type": "code",
      "execution_count": 141,
      "metadata": {
        "id": "nOaES5gyTDtG",
        "colab": {
          "base_uri": "https://localhost:8080/",
          "height": 559
        },
        "outputId": "4833ba2f-8b95-4f44-e0f4-56884ffd3366"
      },
      "outputs": [
        {
          "output_type": "stream",
          "name": "stdout",
          "text": [
            "Mean squared error for step 0: 30.174\n",
            "Mean squared error for step 10: 1.394\n",
            "Mean squared error for step 20: 1.172\n",
            "Mean squared error for step 30: 1.086\n",
            "Mean squared error for step 40: 1.059\n",
            "Mean squared error for step 50: 1.051\n",
            "Mean squared error for step 60: 1.049\n",
            "Mean squared error for step 70: 1.047\n",
            "Mean squared error for step 80: 1.046\n",
            "Mean squared error for step 90: 1.047\n",
            "\n",
            "\n"
          ]
        },
        {
          "output_type": "execute_result",
          "data": {
            "text/plain": [
              "Text(0.5, 1.0, 'MSE loss vs training iterations')"
            ]
          },
          "metadata": {},
          "execution_count": 141
        },
        {
          "output_type": "display_data",
          "data": {
            "text/plain": [
              "<Figure size 300x300 with 1 Axes>"
            ],
            "image/png": "[encoded data removed]"
          },
          "metadata": {}
        }
      ],
      "source": [
        "# Set training parameters\n",
        "epochs = 100\n",
        "# learning_rate = 1\n",
        "learning_rate = 0.01\n",
        "losses = []\n",
        "\n",
        "# Format training loop\n",
        "for epoch in range(epochs):\n",
        "  for x_batch, y_batch in dataset:\n",
        "    with tf.GradientTape() as tape:\n",
        "      #y=f(x)\n",
        "      batch_loss = mse_loss(quad_model(x_batch), y_batch)\n",
        "      #print(\"Batch Loss\",batch_loss)\n",
        "    # Update parameters with respect to the gradient calculations\n",
        "    #dy/dx\n",
        "    grads = tape.gradient(batch_loss, quad_model.variables)\n",
        "    #print(\"Grads\",grads)\n",
        "    #print(\"Before upating\",quad_model.variables)\n",
        "    #print(grads)\n",
        "    for g,v in zip(grads, quad_model.variables):\n",
        "        # subtracting l*dy/dx. We want to move in the direction of minima based\n",
        "        #on the learning rate. We don't want to get caught by local minima\n",
        "        v.assign_sub(learning_rate*g)\n",
        "      #  print(\"After updating\",quad_model.variables)\n",
        "  # Keep track of model loss per epoch\n",
        "  # loss per each epoch\n",
        "  loss = mse_loss(quad_model(x), y)\n",
        "  losses.append(loss)\n",
        "  if epoch % 10 == 0:\n",
        "    print(f'Mean squared error for step {epoch}: {loss.numpy():0.3f}')\n",
        "\n",
        "# Plot model results\n",
        "print(\"\\n\")\n",
        "plt.plot(range(epochs), losses)\n",
        "plt.xlabel(\"Epoch\")\n",
        "plt.ylabel(\"Mean Squared Error (MSE)\")\n",
        "plt.title('MSE loss vs training iterations')"
      ]
    },
    {
      "cell_type": "markdown",
      "metadata": {
        "id": "dW5B2TTRsvxE"
      },
      "source": [
        "Now, observe your model's performance after training:"
      ]
    },
    {
      "cell_type": "code",
      "execution_count": 148,
      "metadata": {
        "id": "Qcvzyg3eYLh8",
        "colab": {
          "base_uri": "https://localhost:8080/",
          "height": 314
        },
        "outputId": "5d3bedb3-b20c-4c37-cfd6-4b5049a38475"
      },
      "outputs": [
        {
          "output_type": "display_data",
          "data": {
            "text/plain": [
              "<Figure size 300x300 with 1 Axes>"
            ],
            "image/png": "[encoded data removed]"
          },
          "metadata": {}
        }
      ],
      "source": [
        "plot_preds(x, y, f, quad_model, 'After training')"
      ]
    },
    {
      "cell_type": "markdown",
      "source": [
        "## After final update, the weights are now as follows:"
      ],
      "metadata": {
        "id": "gNog80wGNEP3"
      }
    },
    {
      "cell_type": "code",
      "source": [
        "\n",
        "quad_model.variables"
      ],
      "metadata": {
        "colab": {
          "base_uri": "https://localhost:8080/"
        },
        "id": "pe5fKT1kMsSq",
        "outputId": "c91f39cf-7c54-47a1-ede5-b65bc606b122"
      },
      "execution_count": 143,
      "outputs": [
        {
          "output_type": "execute_result",
          "data": {
            "text/plain": [
              "(<tf.Variable 'Variable:0' shape=() dtype=float32, numpy=-5.0239763>,\n",
              " <tf.Variable 'Variable:0' shape=() dtype=float32, numpy=1.9194037>,\n",
              " <tf.Variable 'Variable:0' shape=() dtype=float32, numpy=1.0070442>)"
            ]
          },
          "metadata": {},
          "execution_count": 143
        }
      ]
    },
    {
      "cell_type": "markdown",
      "metadata": {
        "id": "hbtmFJIXb6qm"
      },
      "source": [
        "That's working, but remember that implementations of common training utilities are available in the `tf.keras` module. So, consider using those before writing your own. To start with, the `Model.compile` and `Model.fit` methods implement a training loop for you:"
      ]
    },
    {
      "cell_type": "markdown",
      "metadata": {
        "id": "cjx23MiztFmT"
      },
      "source": [
        "Begin by creating a Sequential Model in Keras using `tf.keras.Sequential`. One of the simplest Keras layers is the dense layer, which can be instantiated with `tf.keras.layers.Dense`. The dense layer is able to learn multidimensional linear relationships of the form $\\mathrm{Y} = \\mathrm{W}\\mathrm{X} +  \\vec{b}$. In order to learn a nonlinear equation of the form, $w_1x^2 + w_2x + b$, the dense layer's input should be a data matrix with $x^2$ and $x$ as features. The lambda layer, `tf.keras.layers.Lambda`, can be used to perform this stacking transformation."
      ]
    },
    {
      "cell_type": "code",
      "execution_count": 144,
      "metadata": {
        "id": "5rt8HP2TZhEM"
      },
      "outputs": [],
      "source": [
        "new_model = tf.keras.Sequential([\n",
        "    tf.keras.layers.Lambda(lambda x: tf.stack([x, x**2], axis=1)),\n",
        "    tf.keras.layers.Dense(units=1, kernel_initializer=tf.random.normal)])"
      ]
    },
    {
      "cell_type": "code",
      "execution_count": 145,
      "metadata": {
        "id": "73kCo1BtP3rQ",
        "colab": {
          "base_uri": "https://localhost:8080/"
        },
        "outputId": "b5341b1f-827f-4c4c-fcd6-f6d251be7924"
      },
      "outputs": [
        {
          "output_type": "stream",
          "name": "stderr",
          "text": [
            "WARNING:absl:Found untraced functions such as _update_step_xla while saving (showing 1 of 1). These functions will not be directly callable after loading.\n"
          ]
        }
      ],
      "source": [
        "new_model.compile(\n",
        "    loss=tf.keras.losses.MSE,\n",
        "    optimizer=tf.keras.optimizers.SGD(learning_rate=0.01))\n",
        "\n",
        "history = new_model.fit(x, y,\n",
        "                        epochs=100,\n",
        "                        batch_size=32,\n",
        "                        verbose=0)\n",
        "\n",
        "new_model.save('./my_new_model')"
      ]
    },
    {
      "cell_type": "markdown",
      "metadata": {
        "id": "u3q5d1SzvzTq"
      },
      "source": [
        "Observe your Keras model's performance after training:"
      ]
    },
    {
      "cell_type": "code",
      "execution_count": 146,
      "metadata": {
        "id": "Mo7zRV7XZjv7",
        "colab": {
          "base_uri": "https://localhost:8080/",
          "height": 333
        },
        "outputId": "a414f88f-310d-4a50-d923-6374cb623857"
      },
      "outputs": [
        {
          "output_type": "display_data",
          "data": {
            "text/plain": [
              "<Figure size 300x300 with 1 Axes>"
            ],
            "image/png": "[encoded data removed]"
          },
          "metadata": {}
        }
      ],
      "source": [
        "plt.plot(history.history['loss'])\n",
        "plt.xlabel('Epoch')\n",
        "plt.ylim([0, max(plt.ylim())])\n",
        "plt.ylabel('Loss [Mean Squared Error]')\n",
        "plt.title('Keras training progress');"
      ]
    },
    {
      "cell_type": "code",
      "execution_count": 147,
      "metadata": {
        "id": "bB44a9YsvnfK",
        "colab": {
          "base_uri": "https://localhost:8080/",
          "height": 314
        },
        "outputId": "aa8df02f-b53d-4a3b-eba4-170f1f08e1d7"
      },
      "outputs": [
        {
          "output_type": "display_data",
          "data": {
            "text/plain": [
              "<Figure size 300x300 with 1 Axes>"
            ],
            "image/png": "[encoded data removed]"
          },
          "metadata": {}
        }
      ],
      "source": [
        "plot_preds(x, y, f, new_model, 'After Training: Keras')"
      ]
    },
    {
      "cell_type": "markdown",
      "metadata": {
        "id": "ng-BY_eGS0bn"
      },
      "source": [
        "Refer to [Basic training loops](basic_training_loops.ipynb) and the [Keras guide](https://www.tensorflow.org/guide/keras) for more details."
      ]
    }
  ],
  "metadata": {
    "colab": {
      "provenance": [],
      "include_colab_link": true
    },
    "kernelspec": {
      "display_name": "Python 3",
      "name": "python3"
    }
  },
  "nbformat": 4,
  "nbformat_minor": 0
}