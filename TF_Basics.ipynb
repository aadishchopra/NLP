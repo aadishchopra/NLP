{
  "cells": [
    {
      "cell_type": "markdown",
      "metadata": {
        "id": "view-in-github",
        "colab_type": "text"
      },
      "source": [
        "<a href=\"https://colab.research.google.com/github/aadishchopra/NLP/blob/main/TF_Basics.ipynb\" target=\"_parent\"><img src=\"https://colab.research.google.com/assets/colab-badge.svg\" alt=\"Open In Colab\"/></a>"
      ]
    },
    {
      "cell_type": "markdown",
      "source": [
        "I have modified the code , wrote comments for understanding. At the end of the runbook I learned how to \n",
        "\n",
        "Create a neural network ( dense layers ) \n",
        "Update weights based on some loss function\n",
        "Use the keras functionality and it will take care of updating weights"
      ],
      "metadata": {
        "id": "DqBqSeuXWSpi"
      }
    },
    {
      "cell_type": "markdown",
      "metadata": {
        "id": "hrXv0rU9sIma"
      },
      "source": [
        "# TensorFlow basics"
      ]
    },
    {
      "cell_type": "markdown",
      "metadata": {
        "id": "iJyZUDbzBTIG"
      },
      "source": [
        "This guide provides a quick overview of _TensorFlow basics_. Each section of this doc is an overview of a larger topic—you can find links to full guides at the end of each section.\n",
        "\n",
        "TensorFlow is an end-to-end platform for machine learning. It supports the following:\n",
        "\n",
        "* Multidimensional-array based numeric computation (similar to <a href=\"https://numpy.org/\" class=\"external\">NumPy</a>.)\n",
        "* GPU and distributed processing\n",
        "* Automatic differentiation\n",
        "* Model construction, training, and export\n",
        "* And more"
      ]
    },
    {
      "cell_type": "markdown",
      "metadata": {
        "id": "gvLegMMvBZYg"
      },
      "source": [
        "## Tensors\n",
        "\n",
        "TensorFlow operates on multidimensional arrays or _tensors_ represented as `tf.Tensor` objects. Here is a two-dimensional tensor:"
      ]
    },
    {
      "cell_type": "code",
      "execution_count": 1,
      "metadata": {
        "id": "6ZqX5RnbBS1f",
        "colab": {
          "base_uri": "https://localhost:8080/"
        },
        "outputId": "9a31ee30-446c-447c-8e54-0f9b6d6b12b2"
      },
      "outputs": [
        {
          "output_type": "stream",
          "name": "stdout",
          "text": [
            "tf.Tensor(\n",
            "[[1 2 3]\n",
            " [4 5 6]], shape=(2, 3), dtype=int32)\n",
            "(2, 3)\n",
            "<dtype: 'int32'>\n"
          ]
        }
      ],
      "source": [
        "import tensorflow as tf\n",
        "\n",
        "\n",
        "#notice the dots after the integers. The data type gets changed from float32 to int32\n",
        "x = tf.constant([[1, 2, 3],\n",
        "                 [4, 5, 6]])\n",
        "\n",
        "\n",
        "#help(tf.constant)\n",
        "\n",
        "print(x)\n",
        "print(x.shape)\n",
        "print(x.dtype)"
      ]
    },
    {
      "cell_type": "markdown",
      "metadata": {
        "id": "k-AOMqevQGN4"
      },
      "source": [
        "The most important attributes of a `tf.Tensor` are its `shape` and `dtype`:\n",
        "\n",
        "* `Tensor.shape`: tells you the size of the tensor along each of its axes.\n",
        "* `Tensor.dtype`: tells you the type of all the elements in the tensor."
      ]
    },
    {
      "cell_type": "markdown",
      "metadata": {
        "id": "bUkKeNWZCIJO"
      },
      "source": [
        "TensorFlow implements standard mathematical operations on tensors, as well as many operations specialized for machine learning.\n",
        "\n",
        "For example:"
      ]
    },
    {
      "cell_type": "code",
      "execution_count": 2,
      "metadata": {
        "id": "BM7xXNDsBfN5",
        "colab": {
          "base_uri": "https://localhost:8080/"
        },
        "outputId": "37beffb1-3a1d-46ea-eb6f-8dc005cc3754"
      },
      "outputs": [
        {
          "output_type": "execute_result",
          "data": {
            "text/plain": [
              "<tf.Tensor: shape=(2, 3), dtype=int32, numpy=\n",
              "array([[ 2,  4,  6],\n",
              "       [ 8, 10, 12]], dtype=int32)>"
            ]
          },
          "metadata": {},
          "execution_count": 2
        }
      ],
      "source": [
        "x + x"
      ]
    },
    {
      "cell_type": "code",
      "execution_count": 3,
      "metadata": {
        "id": "ZLGqscTxB61v",
        "colab": {
          "base_uri": "https://localhost:8080/"
        },
        "outputId": "814817a5-384c-40a0-c821-f337d257e3cc"
      },
      "outputs": [
        {
          "output_type": "execute_result",
          "data": {
            "text/plain": [
              "<tf.Tensor: shape=(2, 3), dtype=int32, numpy=\n",
              "array([[ 5, 10, 15],\n",
              "       [20, 25, 30]], dtype=int32)>"
            ]
          },
          "metadata": {},
          "execution_count": 3
        }
      ],
      "source": [
        "5 * x"
      ]
    },
    {
      "cell_type": "code",
      "execution_count": 4,
      "metadata": {
        "id": "2ImJHd8VfnWq",
        "colab": {
          "base_uri": "https://localhost:8080/"
        },
        "outputId": "05832aa1-1631-4d64-8941-effa9b16a2b8"
      },
      "outputs": [
        {
          "output_type": "execute_result",
          "data": {
            "text/plain": [
              "<tf.Tensor: shape=(2, 2), dtype=int32, numpy=\n",
              "array([[14, 32],\n",
              "       [32, 77]], dtype=int32)>"
            ]
          },
          "metadata": {},
          "execution_count": 4
        }
      ],
      "source": [
        "x @ tf.transpose(x)"
      ]
    },
    {
      "cell_type": "code",
      "source": [
        "# Error\n",
        "# x @ x"
      ],
      "metadata": {
        "id": "cs5h_WVz0dHC"
      },
      "execution_count": 5,
      "outputs": []
    },
    {
      "cell_type": "code",
      "execution_count": 6,
      "metadata": {
        "id": "U9JZD6TYCZWu",
        "colab": {
          "base_uri": "https://localhost:8080/"
        },
        "outputId": "97385019-6250-4aa3-9ef6-9769304554bd"
      },
      "outputs": [
        {
          "output_type": "execute_result",
          "data": {
            "text/plain": [
              "<tf.Tensor: shape=(2, 9), dtype=int32, numpy=\n",
              "array([[1, 2, 3, 1, 2, 3, 1, 2, 3],\n",
              "       [4, 5, 6, 4, 5, 6, 4, 5, 6]], dtype=int32)>"
            ]
          },
          "metadata": {},
          "execution_count": 6
        }
      ],
      "source": [
        "# like rbind in R\n",
        "\n",
        "tf.concat([x, x, x], axis=0)\n",
        "\n",
        "# axis=1 is for columns\n",
        "tf.concat([x, x, x], axis=1)\n",
        "\n",
        "\n"
      ]
    },
    {
      "cell_type": "code",
      "execution_count": 7,
      "metadata": {
        "id": "seGBLeD9P_PI",
        "colab": {
          "base_uri": "https://localhost:8080/"
        },
        "outputId": "c1fad6fc-1b35-41e9-fafd-0fcf050ebd6f"
      },
      "outputs": [
        {
          "output_type": "execute_result",
          "data": {
            "text/plain": [
              "<tf.Tensor: shape=(2, 3), dtype=float32, numpy=\n",
              "array([[0.09003057, 0.24472848, 0.66524094],\n",
              "       [0.09003057, 0.24472848, 0.66524094]], dtype=float32)>"
            ]
          },
          "metadata": {},
          "execution_count": 7
        }
      ],
      "source": [
        "#Error . \n",
        "x = tf.constant([[1., 2, 3],\n",
        "                 [4, 5, 6]])\n",
        "#softmax = tf.exp(logits) / tf.reduce_sum(tf.exp(logits), axis, keepdims=True)\n",
        "tf.nn.softmax(x, axis=-1)\n"
      ]
    },
    {
      "cell_type": "code",
      "execution_count": 8,
      "metadata": {
        "id": "YZNZRv1ECjf8",
        "colab": {
          "base_uri": "https://localhost:8080/"
        },
        "outputId": "ae4a4879-f53e-48b3-ac66-c924b95cbc95"
      },
      "outputs": [
        {
          "output_type": "execute_result",
          "data": {
            "text/plain": [
              "<tf.Tensor: shape=(), dtype=float32, numpy=21.0>"
            ]
          },
          "metadata": {},
          "execution_count": 8
        }
      ],
      "source": [
        "tf.reduce_sum(x)"
      ]
    },
    {
      "cell_type": "markdown",
      "metadata": {
        "id": "TNHnIjOVLJfA"
      },
      "source": [
        "Note: Typically, anywhere a TensorFlow function expects a `Tensor` as input, the function will also accept anything that can be converted to a `Tensor` using `tf.convert_to_tensor`. See below for an example."
      ]
    },
    {
      "cell_type": "code",
      "execution_count": 9,
      "metadata": {
        "id": "i_XKgjDsL4GE",
        "colab": {
          "base_uri": "https://localhost:8080/"
        },
        "outputId": "43b36ceb-a799-4643-ba01-9731d459aff1"
      },
      "outputs": [
        {
          "output_type": "execute_result",
          "data": {
            "text/plain": [
              "<tf.Tensor: shape=(3,), dtype=int32, numpy=array([1, 2, 3], dtype=int32)>"
            ]
          },
          "metadata": {},
          "execution_count": 9
        }
      ],
      "source": [
        "tf.convert_to_tensor([1,2,3])"
      ]
    },
    {
      "cell_type": "code",
      "execution_count": 10,
      "metadata": {
        "id": "wTBt-JUqLJDJ",
        "colab": {
          "base_uri": "https://localhost:8080/"
        },
        "outputId": "061fc702-346a-47d6-a1f2-7fb34a0592ae"
      },
      "outputs": [
        {
          "output_type": "execute_result",
          "data": {
            "text/plain": [
              "<tf.Tensor: shape=(), dtype=int32, numpy=6>"
            ]
          },
          "metadata": {},
          "execution_count": 10
        }
      ],
      "source": [
        "tf.reduce_sum([1,2,3])"
      ]
    },
    {
      "cell_type": "markdown",
      "metadata": {
        "id": "8-mi5031DVxz"
      },
      "source": [
        "Running large calculations on CPU can be slow. When properly configured, TensorFlow can use accelerator hardware like GPUs to execute operations very quickly."
      ]
    },
    {
      "cell_type": "code",
      "execution_count": 11,
      "metadata": {
        "id": "m97Gv5H6Dz0G",
        "colab": {
          "base_uri": "https://localhost:8080/"
        },
        "outputId": "3b56db46-5f0b-4bb8-8ed7-cc431de979b0"
      },
      "outputs": [
        {
          "output_type": "stream",
          "name": "stdout",
          "text": [
            "TensorFlow **IS NOT** using the GPU\n"
          ]
        }
      ],
      "source": [
        "if tf.config.list_physical_devices('GPU'):\n",
        "  print(\"TensorFlow **IS** using the GPU\")\n",
        "else:\n",
        "  print(\"TensorFlow **IS NOT** using the GPU\")"
      ]
    },
    {
      "cell_type": "code",
      "source": [
        "tf.config.list_physical_devices()"
      ],
      "metadata": {
        "colab": {
          "base_uri": "https://localhost:8080/"
        },
        "id": "x_PSk_1L2zEY",
        "outputId": "0e9b1959-d8f0-4864-e339-3fe59fa06e50"
      },
      "execution_count": 12,
      "outputs": [
        {
          "output_type": "execute_result",
          "data": {
            "text/plain": [
              "[PhysicalDevice(name='/physical_device:CPU:0', device_type='CPU')]"
            ]
          },
          "metadata": {},
          "execution_count": 12
        }
      ]
    },
    {
      "cell_type": "markdown",
      "metadata": {
        "id": "ln2FkLOqMX92"
      },
      "source": [
        "Refer to the [Tensor guide](tensor.ipynb) for details."
      ]
    },
    {
      "cell_type": "markdown",
      "metadata": {
        "id": "oVbomvMyEIVF"
      },
      "source": [
        "## Variables\n",
        "\n",
        "# **Normal `tf.Tensor` objects are immutable. To store model weights (or other mutable state) in TensorFlow use a `tf.Variable`.**"
      ]
    },
    {
      "cell_type": "code",
      "execution_count": 13,
      "metadata": {
        "id": "SO8_bP4UEzxS"
      },
      "outputs": [],
      "source": [
        "var = tf.Variable([0.0, 0.0, 0.0])"
      ]
    },
    {
      "cell_type": "code",
      "execution_count": 14,
      "metadata": {
        "id": "aDLYFvu5FAFa",
        "colab": {
          "base_uri": "https://localhost:8080/"
        },
        "outputId": "9dbec323-8aba-4e1f-ff1e-fb704613817e"
      },
      "outputs": [
        {
          "output_type": "execute_result",
          "data": {
            "text/plain": [
              "<tf.Variable 'UnreadVariable' shape=(3,) dtype=float32, numpy=array([1., 2., 3.], dtype=float32)>"
            ]
          },
          "metadata": {},
          "execution_count": 14
        }
      ],
      "source": [
        "var.assign([1, 2, 3])"
      ]
    },
    {
      "cell_type": "code",
      "execution_count": 15,
      "metadata": {
        "id": "9EpiOmxXFDSS",
        "colab": {
          "base_uri": "https://localhost:8080/"
        },
        "outputId": "05f541e9-abc0-439e-fb7d-d2f543678cad"
      },
      "outputs": [
        {
          "output_type": "execute_result",
          "data": {
            "text/plain": [
              "<tf.Variable 'UnreadVariable' shape=(3,) dtype=float32, numpy=array([2., 3., 4.], dtype=float32)>"
            ]
          },
          "metadata": {},
          "execution_count": 15
        }
      ],
      "source": [
        "var.assign_add([1, 1, 1])"
      ]
    },
    {
      "cell_type": "markdown",
      "metadata": {
        "id": "tlvTpi1CMedC"
      },
      "source": [
        "Refer to the [Variables guide](variable.ipynb) for details."
      ]
    },
    {
      "cell_type": "markdown",
      "metadata": {
        "id": "rG1Dhv2QFkV3"
      },
      "source": [
        "## Automatic differentiation\n",
        "\n",
        "<a href=\"https://en.wikipedia.org/wiki/Gradient_descent\" class=\"external\">_Gradient descent_</a> and related algorithms are a cornerstone of modern machine learning.\n",
        "\n",
        "To enable this, TensorFlow implements automatic differentiation (autodiff), which uses calculus to compute gradients. Typically you'll use this to calculate the gradient of a model's _error_ or _loss_ with respect to its weights."
      ]
    },
    {
      "cell_type": "code",
      "execution_count": 16,
      "metadata": {
        "id": "cYKOi-z4GY9Y"
      },
      "outputs": [],
      "source": [
        "x = tf.Variable(1.0)\n",
        "\n",
        "def f(x):\n",
        "  y = x**2 + 2*x - 5\n",
        "  return y"
      ]
    },
    {
      "cell_type": "code",
      "source": [
        "x=tf.Variable(10.0)\n",
        "def f(x):\n",
        "  y=x**3 + x - 1\n",
        "  return y\n"
      ],
      "metadata": {
        "id": "KMLBXM1F4q4b"
      },
      "execution_count": 17,
      "outputs": []
    },
    {
      "cell_type": "markdown",
      "metadata": {
        "id": "ozLLop0cHeYl"
      },
      "source": [
        "At `x = 1.0`, `y = f(x) = (1**2 + 2*1 - 5) = -2`.\n",
        "\n",
        "The derivative of `y` is `y' = f'(x) = (2*x + 2) = 4`. TensorFlow can calculate this automatically:"
      ]
    },
    {
      "cell_type": "code",
      "execution_count": 18,
      "metadata": {
        "id": "N02NfWpHGvw8",
        "colab": {
          "base_uri": "https://localhost:8080/"
        },
        "outputId": "5016201f-adbc-4cf7-e8d6-e6ddc8b32313"
      },
      "outputs": [
        {
          "output_type": "execute_result",
          "data": {
            "text/plain": [
              "<tf.Tensor: shape=(), dtype=float32, numpy=301.0>"
            ]
          },
          "metadata": {},
          "execution_count": 18
        }
      ],
      "source": [
        "with tf.GradientTape() as tape:\n",
        "  y = f(x)\n",
        "g_x = tape.gradient(y, x)  # g(x) = dy/dx\n",
        "\n",
        "g_x"
      ]
    },
    {
      "cell_type": "markdown",
      "source": [
        "# 2nd order differentiation"
      ],
      "metadata": {
        "id": "d8I90LGHsc1f"
      }
    },
    {
      "cell_type": "code",
      "source": [
        "# Creating my own example with the help of documentation\n",
        "with tf.GradientTape() as tape:\n",
        "  with tf.GradientTape() as tape2:\n",
        "    y=f(x)\n",
        "    g_x=tape.gradient(y, x)  # g(x) = dy/dx\n",
        "g_prime_x=tape2.gradient(g_x, x)  # g(x) = d2y/dx\n",
        "\n",
        "print(\"3x^2+1 = 3*10^2 + 1 is equal to tensor of value 301.0 \",g_x) # 3x^2+1 = 3*10^2 + 1  \n",
        "print(\"6x = 6*10\",g_prime_x)  # 6x = 6*10\n",
        "\n",
        "\n"
      ],
      "metadata": {
        "colab": {
          "base_uri": "https://localhost:8080/"
        },
        "id": "mBBsqhEi5Aj1",
        "outputId": "fd3a36b4-f018-4016-9447-de3a01b36707"
      },
      "execution_count": 19,
      "outputs": [
        {
          "output_type": "stream",
          "name": "stdout",
          "text": [
            "3x^2+1 = 3*10^2 + 1 is equal to tensor of value 301.0  tf.Tensor(301.0, shape=(), dtype=float32)\n",
            "6x = 6*10 tf.Tensor(60.0, shape=(), dtype=float32)\n"
          ]
        }
      ]
    },
    {
      "cell_type": "markdown",
      "metadata": {
        "id": "s-DVYJfcIRPd"
      },
      "source": [
        "This simplified example only takes the derivative with respect to a single scalar (`x`), but TensorFlow can compute the gradient with respect to any number of non-scalar tensors simultaneously."
      ]
    },
    {
      "cell_type": "markdown",
      "metadata": {
        "id": "ECK3I9bUMk_r"
      },
      "source": [
        "Refer to the [Autodiff guide](autodiff.ipynb) for details."
      ]
    },
    {
      "cell_type": "markdown",
      "metadata": {
        "id": "VglUM4M3KhNz"
      },
      "source": [
        "## Graphs and tf.function\n",
        "\n",
        "While you can use TensorFlow interactively like any Python library, TensorFlow also provides tools for:\n",
        "\n",
        "* **Performance optimization**: to speed up training and inference.\n",
        "* **Export**: so you can save your model when it's done training.\n",
        "\n",
        "These require that you use `tf.function` to separate your pure-TensorFlow code from Python."
      ]
    },
    {
      "cell_type": "code",
      "execution_count": 20,
      "metadata": {
        "id": "VitACyZWKJD_"
      },
      "outputs": [],
      "source": [
        "@tf.function\n",
        "def my_func(x):\n",
        "  print('Tracing.\\n')\n",
        "  return tf.reduce_sum(x)"
      ]
    },
    {
      "cell_type": "markdown",
      "metadata": {
        "id": "fBYDh-huNUBZ"
      },
      "source": [
        "The first time you run the `tf.function`, although it executes in Python, it captures a complete, optimized graph representing the TensorFlow computations done within the function."
      ]
    },
    {
      "cell_type": "code",
      "execution_count": 21,
      "metadata": {
        "id": "vkOFSEkoM1bd",
        "colab": {
          "base_uri": "https://localhost:8080/"
        },
        "outputId": "19b5aca4-ad90-437c-fc14-598ed2477670"
      },
      "outputs": [
        {
          "output_type": "stream",
          "name": "stdout",
          "text": [
            "Tracing.\n",
            "\n"
          ]
        },
        {
          "output_type": "execute_result",
          "data": {
            "text/plain": [
              "<tf.Tensor: shape=(), dtype=float32, numpy=6.0>"
            ]
          },
          "metadata": {},
          "execution_count": 21
        }
      ],
      "source": [
        "#Although in the example the first example used has a dtype of int32. I used float32 to show that once the data\n",
        "#type is converted to float32 tf does not revert back to a new tf graph. And therefor in none of the examples\n",
        "# \"tracing\" is print\n",
        "x = tf.constant([1.0, 2.0, 3.0])\n",
        "my_func(x)"
      ]
    },
    {
      "cell_type": "markdown",
      "metadata": {
        "id": "a3aWzt-rNsBa"
      },
      "source": [
        "On subsequent calls TensorFlow only executes the optimized graph, skipping any non-TensorFlow steps. Below, note that `my_func` doesn't print _tracing_ since `print` is a Python function, not a TensorFlow function."
      ]
    },
    {
      "cell_type": "code",
      "execution_count": 22,
      "metadata": {
        "id": "23dMHWwwNIoa",
        "colab": {
          "base_uri": "https://localhost:8080/"
        },
        "outputId": "abf83f79-45f4-4772-9440-bb5001ba8450"
      },
      "outputs": [
        {
          "output_type": "stream",
          "name": "stdout",
          "text": [
            "Tracing.\n",
            "\n"
          ]
        },
        {
          "output_type": "execute_result",
          "data": {
            "text/plain": [
              "<tf.Tensor: shape=(), dtype=int32, numpy=27>"
            ]
          },
          "metadata": {},
          "execution_count": 22
        }
      ],
      "source": [
        "x = tf.constant([10, 9, 8])\n",
        "my_func(x)"
      ]
    },
    {
      "cell_type": "markdown",
      "metadata": {
        "id": "nSeTti6zki0n"
      },
      "source": [
        "A graph may not be reusable for inputs with a different _signature_ (`shape` and `dtype`), so a new graph is generated instead:"
      ]
    },
    {
      "cell_type": "code",
      "execution_count": 23,
      "metadata": {
        "id": "OWffqyhqlVPf",
        "colab": {
          "base_uri": "https://localhost:8080/"
        },
        "outputId": "5609dec7-dd6b-46c0-a4a4-4948bbc374c7"
      },
      "outputs": [
        {
          "output_type": "execute_result",
          "data": {
            "text/plain": [
              "<tf.Tensor: shape=(), dtype=float32, numpy=27.3>"
            ]
          },
          "metadata": {},
          "execution_count": 23
        }
      ],
      "source": [
        "x = tf.constant([10.0, 9.1, 8.2], dtype=tf.float32)\n",
        "my_func(x)"
      ]
    },
    {
      "cell_type": "markdown",
      "metadata": {
        "id": "UWknAA_zNTOa"
      },
      "source": [
        "These captured graphs provide two benefits:\n",
        "\n",
        "* In many cases they provide a significant speedup in execution (though not this trivial example).\n",
        "* You can export these graphs, using `tf.saved_model`, to run on other systems like a [server](https://www.tensorflow.org/tfx/serving/docker) or a [mobile device](https://www.tensorflow.org/lite/guide), no Python installation required."
      ]
    },
    {
      "cell_type": "markdown",
      "metadata": {
        "id": "hLUJ6f2eMsA8"
      },
      "source": [
        "Refer to [Intro to graphs](intro_to_graphs.ipynb) for more details."
      ]
    },
    {
      "cell_type": "markdown",
      "metadata": {
        "id": "t_36xPDPPBqp"
      },
      "source": [
        "## Modules, layers, and models"
      ]
    },
    {
      "cell_type": "markdown",
      "metadata": {
        "id": "oDaT7kCpUgnJ"
      },
      "source": [
        "`tf.Module` is a class for managing your `tf.Variable` objects, and the `tf.function` objects that operate on them. The `tf.Module` class is necessary to support two significant features:\n",
        "\n",
        "1. You can save and restore the values of your variables using `tf.train.Checkpoint`. This is useful during training as it is quick to save and restore a model's state.\n",
        "2. You can import and export the `tf.Variable` values _and_ the `tf.function` graphs using `tf.saved_model`. This allows you to run your model independently of the Python program that created it.\n",
        "\n",
        "Here is a complete example exporting a simple `tf.Module` object:"
      ]
    },
    {
      "cell_type": "code",
      "execution_count": 24,
      "metadata": {
        "id": "1MqEcZOqPBDV"
      },
      "outputs": [],
      "source": [
        "class MyModule(tf.Module):\n",
        "  def __init__(self, weights):\n",
        "    self.weight = tf.Variable(weights)\n",
        "\n",
        "  @tf.function\n",
        "  def activation(self, inputs,bias):\n",
        "    print('tracing')\n",
        "    return inputs * self.weight + bias"
      ]
    },
    {
      "cell_type": "code",
      "execution_count": 25,
      "metadata": {
        "id": "la2G82HfVfU0",
        "colab": {
          "base_uri": "https://localhost:8080/"
        },
        "outputId": "24143943-a81e-4d83-f0d4-785489ad0427"
      },
      "outputs": [
        {
          "output_type": "stream",
          "name": "stdout",
          "text": [
            "tracing\n"
          ]
        },
        {
          "output_type": "execute_result",
          "data": {
            "text/plain": [
              "<tf.Tensor: shape=(3,), dtype=int32, numpy=array([ 4,  7, 10], dtype=int32)>"
            ]
          },
          "metadata": {},
          "execution_count": 25
        }
      ],
      "source": [
        "mod = MyModule(weights=3)\n",
        "mod.activation(inputs = tf.constant([1, 2, 3]),bias=tf.constant(1))"
      ]
    },
    {
      "cell_type": "code",
      "source": [
        "# Can verify that it didn't print tracing. \n",
        "mod.activation(inputs = tf.constant([5, 2, 3]),bias=tf.constant(1))"
      ],
      "metadata": {
        "colab": {
          "base_uri": "https://localhost:8080/"
        },
        "id": "sTRPcklMx_gF",
        "outputId": "b61bbc47-066c-4580-e498-8fd4c56797e0"
      },
      "execution_count": 26,
      "outputs": [
        {
          "output_type": "execute_result",
          "data": {
            "text/plain": [
              "<tf.Tensor: shape=(3,), dtype=int32, numpy=array([16,  7, 10], dtype=int32)>"
            ]
          },
          "metadata": {},
          "execution_count": 26
        }
      ]
    },
    {
      "cell_type": "code",
      "execution_count": 27,
      "metadata": {
        "id": "1MlfbEMjVzG4",
        "colab": {
          "base_uri": "https://localhost:8080/"
        },
        "outputId": "6fcadb80-99f4-422e-ae11-c3c94cbb8188"
      },
      "outputs": [
        {
          "output_type": "stream",
          "name": "stdout",
          "text": [
            "tracing\n"
          ]
        }
      ],
      "source": [
        "save_path = './saved'\n",
        "tf.saved_model.save(mod, save_path)"
      ]
    },
    {
      "cell_type": "code",
      "source": [
        "  '''\n",
        "class Dense(tf.Module):\n",
        "  def __init__(self, input_dim, output_size, name=None):\n",
        "    super().__init__(name=name)\n",
        "    self.w = tf.Variable(\n",
        "    tf.random.normal([input_dim, output_size]), name='w')\n",
        "    self.b = tf.Variable(tf.zeros([output_size]), name='b')\n",
        "  def __call__(self, x):\n",
        "    y = tf.matmul(x, self.w) + self.b\n",
        "    return tf.nn.relu(y)\n",
        "  '''"
      ],
      "metadata": {
        "id": "mY2jrD7SwxJd",
        "colab": {
          "base_uri": "https://localhost:8080/",
          "height": 70
        },
        "outputId": "dfa0f3a2-a9a8-47d8-cd73-205ff8fbae0b"
      },
      "execution_count": 28,
      "outputs": [
        {
          "output_type": "execute_result",
          "data": {
            "text/plain": [
              "\"\\nclass Dense(tf.Module):\\ndef __init__(self, input_dim, output_size, name=None):\\n  super().__init__(name=name)\\n  self.w = tf.Variable(\\n  tf.random.normal([input_dim, output_size]), name='w')\\n  self.b = tf.Variable(tf.zeros([output_size]), name='b')\\ndef __call__(self, x):\\n  y = tf.matmul(x, self.w) + self.b\\n  return tf.nn.relu(y)\\n\""
            ],
            "application/vnd.google.colaboratory.intrinsic+json": {
              "type": "string"
            }
          },
          "metadata": {},
          "execution_count": 28
        }
      ]
    },
    {
      "cell_type": "markdown",
      "metadata": {
        "id": "GaSJX7zQXCm4"
      },
      "source": [
        "Save the `Module`:"
      ]
    },
    {
      "cell_type": "markdown",
      "metadata": {
        "id": "LgfoftD4XGJW"
      },
      "source": [
        "The resulting SavedModel is independent of the code that created it. You can load a SavedModel from Python, other language bindings, or [TensorFlow Serving](https://www.tensorflow.org/tfx/serving/docker). You can also convert it to run with [TensorFlow Lite](https://www.tensorflow.org/lite/guide) or [TensorFlow JS](https://www.tensorflow.org/js/guide)."
      ]
    },
    {
      "cell_type": "code",
      "execution_count": 29,
      "metadata": {
        "id": "pWuLOIKBWZYG",
        "colab": {
          "base_uri": "https://localhost:8080/"
        },
        "outputId": "ba57c40f-4254-401e-d9b0-68ca300902d2"
      },
      "outputs": [
        {
          "output_type": "execute_result",
          "data": {
            "text/plain": [
              "<tf.Tensor: shape=(3,), dtype=int32, numpy=array([ 5,  8, 11], dtype=int32)>"
            ]
          },
          "metadata": {},
          "execution_count": 29
        }
      ],
      "source": [
        "reloaded = tf.saved_model.load(save_path)\n",
        "type(reloaded) # Loads the object\n",
        "reloaded.activation(tf.constant([1, 2, 3]),bias=2)"
      ]
    },
    {
      "cell_type": "markdown",
      "metadata": {
        "id": "nxU6P1RGwHyC"
      },
      "source": [
        "The `tf.keras.layers.Layer` and `tf.keras.Model` classes build on `tf.Module` providing additional functionality and convenience methods for building, training, and saving models. Some of these are demonstrated in the next section."
      ]
    },
    {
      "cell_type": "markdown",
      "metadata": {
        "id": "tQzt3yaWMzLf"
      },
      "source": [
        "Refer to [Intro to modules](intro_to_modules.ipynb) for details."
      ]
    },
    {
      "cell_type": "markdown",
      "metadata": {
        "id": "Rk1IEG5aav7X"
      },
      "source": [
        "## Training loops\n",
        "\n",
        "Now put this all together to build a basic model and train it from scratch.\n",
        "\n",
        "First, create some example data. This generates a cloud of points that loosely follows a quadratic curve:"
      ]
    },
    {
      "cell_type": "code",
      "execution_count": 30,
      "metadata": {
        "id": "VcuFr7KPRPzn"
      },
      "outputs": [],
      "source": [
        "import matplotlib\n",
        "from matplotlib import pyplot as plt\n",
        "\n",
        "#controls the figure size. This way we can configure it throughout the session for every figure generated using \n",
        "#matplotlib\n",
        "matplotlib.rcParams['figure.figsize'] = [3, 3]"
      ]
    },
    {
      "cell_type": "code",
      "source": [
        "#               from, to, how many \n",
        "# how many determines the spacing between the two extremities\n",
        "# equivalent to other python functions\n",
        "#x = tf.linspace(-2, 2, 201)\n",
        "\n",
        "#generates 201 random numbers and follows a normal distribution\n",
        "#tf.random.normal(shape=[201])"
      ],
      "metadata": {
        "id": "OWClfHGQqkGl"
      },
      "execution_count": 31,
      "outputs": []
    },
    {
      "cell_type": "code",
      "execution_count": 32,
      "metadata": {
        "id": "sXN9E_xf-GiP",
        "colab": {
          "base_uri": "https://localhost:8080/",
          "height": 291
        },
        "outputId": "a4d50583-e3c6-49bd-f3ce-2a05a25cadef"
      },
      "outputs": [
        {
          "output_type": "display_data",
          "data": {
            "text/plain": [
              "<Figure size 300x300 with 1 Axes>"
            ],
            "image/png": "[encoded data removed]"
          },
          "metadata": {}
        }
      ],
      "source": [
        "x = tf.linspace(-2, 2, 201)\n",
        "x = tf.cast(x, tf.float32)\n",
        "\n",
        "def f(x):\n",
        "  y = x**2 + 2*x - 5\n",
        "  return y\n",
        "\n",
        "# this is done to introduce the jiterriness\n",
        "y = f(x) + tf.random.normal(shape=[201])\n",
        "\n",
        "plt.plot(x.numpy(), y.numpy(), '.', label='Data')\n",
        "plt.plot(x, f(x), label='Ground truth')\n",
        "plt.legend();"
      ]
    },
    {
      "cell_type": "markdown",
      "metadata": {
        "id": "De5LldboSWcW"
      },
      "source": [
        "Create a quadratic model with randomly initialized weights and a bias:"
      ]
    },
    {
      "cell_type": "code",
      "execution_count": 33,
      "metadata": {
        "id": "Pypd0GB4SRhf",
        "colab": {
          "base_uri": "https://localhost:8080/",
          "height": 87
        },
        "outputId": "4552734c-ad18-4d47-f98d-48f51654d895"
      },
      "outputs": [
        {
          "output_type": "execute_result",
          "data": {
            "text/plain": [
              "'\\nclass Model(tf.Module):\\n\\n  def __init__(self):\\n    # Randomly generate weight and bias terms\\n    rand_init = tf.random.uniform(shape=[3], minval=0., maxval=5., seed=22)\\n    # Initialize model parameters\\n    self.w_q = tf.Variable(rand_init[0])\\n    self.w_l = tf.Variable(rand_init[1])\\n    self.b = tf.Variable(rand_init[2])\\n  \\n  @tf.function\\n  def __call__(self, x):\\n    # Quadratic Model : quadratic_weight * x^2 + linear_weight * x + bias\\n    return self.w_q * (x**2) + self.w_l * x + self.b\\n'"
            ],
            "application/vnd.google.colaboratory.intrinsic+json": {
              "type": "string"
            }
          },
          "metadata": {},
          "execution_count": 33
        }
      ],
      "source": [
        "'''\n",
        "class Model(tf.Module):\n",
        "\n",
        "  def __init__(self):\n",
        "    # Randomly generate weight and bias terms\n",
        "    rand_init = tf.random.uniform(shape=[3], minval=0., maxval=5., seed=22)\n",
        "    # Initialize model parameters\n",
        "    self.w_q = tf.Variable(rand_init[0])\n",
        "    self.w_l = tf.Variable(rand_init[1])\n",
        "    self.b = tf.Variable(rand_init[2])\n",
        "  \n",
        "  @tf.function\n",
        "  def __call__(self, x):\n",
        "    # Quadratic Model : quadratic_weight * x^2 + linear_weight * x + bias\n",
        "    return self.w_q * (x**2) + self.w_l * x + self.b\n",
        "'''    "
      ]
    },
    {
      "cell_type": "code",
      "source": [
        "class Model(tf.Module):\n",
        "  def __init__(self, name=None):\n",
        "    super().__init__(name)\n",
        "    self.initialized=tf.random.uniform([3],0.0,5.0)\n",
        "    # without tf.Variables model will not be able to update weights. \n",
        "    self.w_q2=tf.Variable(self.initialized[0])\n",
        "    self.w_q1=tf.Variable(self.initialized[1])\n",
        "    self.b=tf.Variable(self.initialized[2])\n",
        "  @tf.function\n",
        "  def __call__(self,x):\n",
        "    return self.w_q2*(x**2) + self.w_q1*x +self.b"
      ],
      "metadata": {
        "id": "qQccJ3kQtfjm"
      },
      "execution_count": 34,
      "outputs": []
    },
    {
      "cell_type": "markdown",
      "metadata": {
        "id": "36o7VjaesScg"
      },
      "source": [
        "First, observe your model's performance before training:"
      ]
    },
    {
      "cell_type": "code",
      "execution_count": 35,
      "metadata": {
        "id": "GkwToC5BWV1c"
      },
      "outputs": [],
      "source": [
        "quad_model = Model()"
      ]
    },
    {
      "cell_type": "code",
      "source": [
        "quad_model.variables"
      ],
      "metadata": {
        "colab": {
          "base_uri": "https://localhost:8080/"
        },
        "id": "UvT303pp54L1",
        "outputId": "30b33933-5379-4c95-8932-17ada040a597"
      },
      "execution_count": 36,
      "outputs": [
        {
          "output_type": "execute_result",
          "data": {
            "text/plain": [
              "(<tf.Variable 'Variable:0' shape=() dtype=float32, numpy=2.0013785>,\n",
              " <tf.Variable 'Variable:0' shape=() dtype=float32, numpy=3.6825705>,\n",
              " <tf.Variable 'Variable:0' shape=() dtype=float32, numpy=4.055467>)"
            ]
          },
          "metadata": {},
          "execution_count": 36
        }
      ]
    },
    {
      "cell_type": "code",
      "source": [
        "t_v=quad_model.variables[0]\n",
        "# to show that assigning variables like this is just an update to the pointer\n",
        "t_v.assign_sub(2.0)"
      ],
      "metadata": {
        "colab": {
          "base_uri": "https://localhost:8080/"
        },
        "id": "r5brnUxZJrMs",
        "outputId": "b3e77398-62d8-4edb-f5df-a0af6bf554f8"
      },
      "execution_count": 37,
      "outputs": [
        {
          "output_type": "execute_result",
          "data": {
            "text/plain": [
              "<tf.Variable 'UnreadVariable' shape=() dtype=float32, numpy=0.0013785362>"
            ]
          },
          "metadata": {},
          "execution_count": 37
        }
      ]
    },
    {
      "cell_type": "markdown",
      "source": [
        "## Initial random weights:"
      ],
      "metadata": {
        "id": "BpIs45_DNRDG"
      }
    },
    {
      "cell_type": "code",
      "source": [
        "#changes take place here as well. This is optimal since later in the notebook when we will do \n",
        "# weight updates it will be very useful\n",
        "\n",
        "quad_model.variables"
      ],
      "metadata": {
        "colab": {
          "base_uri": "https://localhost:8080/"
        },
        "id": "DTRHQXmVKl8L",
        "outputId": "872cf1de-5322-4465-bae3-22e98d7c3c34"
      },
      "execution_count": 38,
      "outputs": [
        {
          "output_type": "execute_result",
          "data": {
            "text/plain": [
              "(<tf.Variable 'Variable:0' shape=() dtype=float32, numpy=0.0013785362>,\n",
              " <tf.Variable 'Variable:0' shape=() dtype=float32, numpy=3.6825705>,\n",
              " <tf.Variable 'Variable:0' shape=() dtype=float32, numpy=4.055467>)"
            ]
          },
          "metadata": {},
          "execution_count": 38
        }
      ]
    },
    {
      "cell_type": "code",
      "execution_count": 39,
      "metadata": {
        "id": "ReWhH40wTY5F"
      },
      "outputs": [],
      "source": [
        "def plot_preds(x, y, f, model, title):\n",
        "  plt.figure()\n",
        "  plt.plot(x, y, '.', label='Data')\n",
        "  plt.plot(x, f(x), label='Ground truth')\n",
        "  plt.plot(x, model(x), label='Predictions')\n",
        "  plt.title(title)\n",
        "  plt.legend()"
      ]
    },
    {
      "cell_type": "code",
      "execution_count": 40,
      "metadata": {
        "id": "Y0JtXQat-nlk",
        "colab": {
          "base_uri": "https://localhost:8080/",
          "height": 314
        },
        "outputId": "747c1fb6-9a07-4251-e693-529db63dd9a7"
      },
      "outputs": [
        {
          "output_type": "display_data",
          "data": {
            "text/plain": [
              "<Figure size 300x300 with 1 Axes>"
            ],
            "image/png": "[encoded data removed]"
          },
          "metadata": {}
        }
      ],
      "source": [
        "plot_preds(x, y, f, quad_model, 'Before training')"
      ]
    },
    {
      "cell_type": "markdown",
      "metadata": {
        "id": "hLzwD0-ascGf"
      },
      "source": [
        "Now, define a loss for your model:\n",
        "\n",
        "Given that this model is intended to predict continuous values, the mean squared error (MSE) is a good choice for the loss function. Given a vector of predictions, $\\hat{y}$, and a vector of true targets, $y$, the MSE is defined as the mean of the squared differences between the predicted values and the ground truth.\n",
        "\n",
        "$MSE = \\frac{1}{m}\\sum_{i=1}^{m}(\\hat{y}_i -y_i)^2$"
      ]
    },
    {
      "cell_type": "code",
      "execution_count": 41,
      "metadata": {
        "id": "eCtJ1uuCseZd"
      },
      "outputs": [],
      "source": [
        "def mse_loss(y_pred, y):\n",
        "  return tf.reduce_mean(tf.square(y_pred - y))"
      ]
    },
    {
      "cell_type": "markdown",
      "metadata": {
        "id": "7EWyDu3zot2w"
      },
      "source": [
        "Write a basic training loop for the model. The loop will make use of the MSE loss function and its gradients with respect to the input in order to iteratively update the model's parameters. Using mini-batches for training provides both memory efficienciy and faster convergence. The `tf.data.Dataset` API has useful functions for batching and shuffling."
      ]
    },
    {
      "cell_type": "code",
      "execution_count": 42,
      "metadata": {
        "id": "8kX_-zily2Ia"
      },
      "outputs": [],
      "source": [
        "batch_size = 32\n",
        "# similar to a zip function\n",
        "\n",
        "dataset = tf.data.Dataset.from_tensor_slices((x, y))\n",
        "dataset = dataset.shuffle(buffer_size=x.shape[0]).batch(batch_size)"
      ]
    },
    {
      "cell_type": "code",
      "source": [
        "'''\n",
        "for index,elem in enumerate(dataset):\n",
        "  print(elem)\n",
        "'''"
      ],
      "metadata": {
        "colab": {
          "base_uri": "https://localhost:8080/"
        },
        "id": "Eebngajm3UCN",
        "outputId": "aa4ba26f-072f-421c-c913-55c2126e40a9"
      },
      "execution_count": 43,
      "outputs": [
        {
          "output_type": "stream",
          "name": "stdout",
          "text": [
            "(<tf.Tensor: shape=(32,), dtype=float32, numpy=\n",
            "array([-1.58, -1.28,  1.5 ,  1.4 , -1.3 , -1.74,  0.48,  1.92, -0.14,\n",
            "       -0.34, -0.5 , -0.96, -1.26,  1.7 , -1.68,  0.08, -0.72, -1.86,\n",
            "       -1.52,  1.62,  1.72, -0.58,  0.64, -0.68,  1.32, -1.08,  1.54,\n",
            "        1.56, -0.04,  1.76,  0.72,  0.  ], dtype=float32)>, <tf.Tensor: shape=(32,), dtype=float32, numpy=\n",
            "array([-5.948404  , -3.9162624 , -2.195071  ,  0.90288544, -5.243598  ,\n",
            "       -3.9742348 , -2.4066339 ,  2.7126338 , -6.58038   , -6.198973  ,\n",
            "       -5.5510917 , -6.316026  , -5.691313  ,  1.3555737 , -4.5832872 ,\n",
            "       -2.9464207 , -5.303496  , -5.993506  , -4.2616973 ,  1.9501818 ,\n",
            "        1.1733551 , -5.633509  , -2.657319  , -6.480726  , -0.89821357,\n",
            "       -4.7698555 ,  1.6075492 ,  0.83392954, -3.7624109 ,  2.3382711 ,\n",
            "       -4.3754215 , -4.204016  ], dtype=float32)>)\n",
            "(<tf.Tensor: shape=(32,), dtype=float32, numpy=\n",
            "array([ 0.16, -1.54,  1.88, -1.24, -2.  ,  0.58, -0.94, -1.04,  1.9 ,\n",
            "       -0.48, -1.36,  0.5 ,  1.98, -1.64, -1.7 ,  0.4 , -0.8 , -1.9 ,\n",
            "        0.66, -0.32,  1.1 ,  1.38,  0.1 ,  1.42,  1.6 ,  1.26, -1.4 ,\n",
            "        1.34,  1.44,  1.36,  0.78,  1.78], dtype=float32)>, <tf.Tensor: shape=(32,), dtype=float32, numpy=\n",
            "array([-4.730449  , -6.861414  ,  0.8580755 , -6.6095123 , -4.88556   ,\n",
            "       -2.8084226 , -5.0247073 , -6.6976204 ,  2.7035487 , -4.255447  ,\n",
            "       -3.8966708 , -4.740402  ,  4.3105345 , -4.8631124 , -6.1599464 ,\n",
            "       -3.302555  , -4.6671705 , -6.8953447 , -4.281033  , -4.5511794 ,\n",
            "        0.18258417,  0.9918636 , -2.332664  ,  0.98960686, -0.07314944,\n",
            "       -1.8453592 , -7.748578  ,  0.7263671 , -1.6087145 ,  0.71550727,\n",
            "       -3.5750005 ,  2.3977213 ], dtype=float32)>)\n",
            "(<tf.Tensor: shape=(32,), dtype=float32, numpy=\n",
            "array([ 1.24, -1.56,  0.28, -1.18, -0.7 , -1.66, -0.3 ,  0.54, -0.54,\n",
            "       -1.  ,  0.6 , -0.64, -0.08,  0.98, -0.82,  1.68, -0.84, -0.46,\n",
            "        0.36, -1.84,  1.8 , -0.24, -1.98, -0.26,  0.92,  1.46,  0.9 ,\n",
            "       -0.92, -1.76,  1.02,  1.  , -0.78], dtype=float32)>, <tf.Tensor: shape=(32,), dtype=float32, numpy=\n",
            "array([ 0.30735052, -5.1577015 , -3.4318233 , -6.8053412 , -5.021828  ,\n",
            "       -5.2192516 , -7.6430345 , -4.4240294 , -5.362298  , -4.9108176 ,\n",
            "       -3.303426  , -5.856812  , -3.9840424 , -1.5394729 , -7.471231  ,\n",
            "        0.81532544, -5.645825  , -6.0693765 , -5.464354  , -4.4175096 ,\n",
            "        2.477567  , -5.542932  , -6.978737  , -4.3183985 , -3.9668462 ,\n",
            "        0.48603916, -3.2492795 , -5.5344057 , -6.623686  , -1.8648405 ,\n",
            "       -2.145946  , -3.4644532 ], dtype=float32)>)\n",
            "(<tf.Tensor: shape=(32,), dtype=float32, numpy=\n",
            "array([ 1.22,  0.06,  0.56, -0.76, -0.52, -0.06,  1.28, -0.1 , -1.6 ,\n",
            "        1.96, -0.02, -1.78,  1.18,  0.32, -0.9 , -1.02,  0.2 ,  0.42,\n",
            "       -1.16, -1.1 ,  1.58, -0.16,  1.74,  1.12,  0.82, -0.42,  0.52,\n",
            "       -1.94, -1.38,  0.8 , -0.62, -1.22], dtype=float32)>, <tf.Tensor: shape=(32,), dtype=float32, numpy=\n",
            "array([-1.0031831 , -5.7051377 , -4.162699  , -5.6482015 , -4.6942935 ,\n",
            "       -4.0047207 , -0.7664336 , -5.697111  , -5.7546525 ,  3.6850274 ,\n",
            "       -6.200819  , -2.888723  ,  0.0306555 , -4.515015  , -5.4854975 ,\n",
            "       -6.489806  , -3.6209786 , -2.3969963 , -6.144504  , -7.947049  ,\n",
            "       -0.25073773, -5.316022  ,  0.67049634, -2.952777  , -5.1139984 ,\n",
            "       -5.5896144 , -4.7704215 , -5.6962295 , -6.350211  , -3.2928934 ,\n",
            "       -5.2715006 , -6.3218203 ], dtype=float32)>)\n",
            "(<tf.Tensor: shape=(32,), dtype=float32, numpy=\n",
            "array([-1.44,  0.96,  1.52,  0.12,  1.64, -0.2 , -1.82,  1.08, -1.2 ,\n",
            "        0.46, -1.12,  1.04, -1.06, -1.34,  0.88, -1.88,  1.82, -1.5 ,\n",
            "        0.86, -1.8 , -0.28,  0.44,  0.94, -0.74,  0.38,  0.62,  1.14,\n",
            "       -0.22,  0.34, -1.32,  0.02,  0.14], dtype=float32)>, <tf.Tensor: shape=(32,), dtype=float32, numpy=\n",
            "array([-6.0333633, -1.6363084,  1.8221905, -3.7771788, -1.0891454,\n",
            "       -5.036079 , -6.365637 , -2.3485413, -5.270552 , -3.834876 ,\n",
            "       -6.5748525, -3.1342916, -6.6962953, -6.39408  , -2.3572042,\n",
            "       -4.5247765,  2.0815642, -5.393033 , -2.9387138, -6.074466 ,\n",
            "       -6.1469707, -5.289658 , -2.837321 , -5.1592526, -3.461616 ,\n",
            "       -4.628647 , -0.232252 , -5.9147143, -3.0073419, -6.5328536,\n",
            "       -2.9996843, -4.623513 ], dtype=float32)>)\n",
            "(<tf.Tensor: shape=(32,), dtype=float32, numpy=\n",
            "array([ 2.  , -0.36, -1.42, -1.72, -0.4 , -0.56,  1.2 , -1.46, -0.12,\n",
            "        0.74, -0.98,  1.06, -0.66, -0.6 , -1.48,  0.3 ,  0.84,  0.76,\n",
            "        0.04,  0.24,  0.7 , -1.92, -0.86,  0.68,  1.84,  1.16,  1.86,\n",
            "        1.3 , -1.62, -1.14, -0.38,  1.48], dtype=float32)>, <tf.Tensor: shape=(32,), dtype=float32, numpy=\n",
            "array([ 3.754541  , -6.9533863 , -6.354873  , -3.7582302 , -5.1113815 ,\n",
            "       -6.6357064 , -1.2586854 , -7.1108837 , -5.5220222 , -3.5448725 ,\n",
            "       -5.291796  , -0.7487432 , -5.9480953 , -4.993286  , -6.131742  ,\n",
            "       -5.6773443 , -1.9266665 , -3.066037  , -4.6419506 , -3.7593544 ,\n",
            "       -3.3427644 , -4.190063  , -6.3667016 , -3.883223  ,  0.88069415,\n",
            "       -2.2604418 ,  2.2853787 , -1.6368012 , -5.400906  , -6.324579  ,\n",
            "       -5.395487  ,  1.1553954 ], dtype=float32)>)\n",
            "(<tf.Tensor: shape=(9,), dtype=float32, numpy=\n",
            "array([ 1.94,  0.26,  0.18,  1.66,  0.22, -0.18, -1.96, -0.88, -0.44],\n",
            "      dtype=float32)>, <tf.Tensor: shape=(9,), dtype=float32, numpy=\n",
            "array([ 2.7856927 , -5.910479  , -4.025749  ,  0.92205805, -5.3906074 ,\n",
            "       -3.6727624 , -6.4298544 , -6.8508825 , -4.675519  ], dtype=float32)>)\n"
          ]
        }
      ]
    },
    {
      "cell_type": "code",
      "source": [
        "'''\n",
        "for x_batch, y_batch in dataset:\n",
        "  print(\"x batch\",x_batch)\n",
        "  print(\"y batch\",y_batch)\n",
        "'''"
      ],
      "metadata": {
        "colab": {
          "base_uri": "https://localhost:8080/"
        },
        "id": "KqownGl54_Mf",
        "outputId": "c9173c28-b08d-4a34-c341-0f985989487a"
      },
      "execution_count": 44,
      "outputs": [
        {
          "output_type": "stream",
          "name": "stdout",
          "text": [
            "x batch tf.Tensor(\n",
            "[-0.06 -0.32  1.44  0.86 -0.04  1.2   0.22  1.42  0.9  -0.7  -0.84 -1.14\n",
            " -0.36  1.36  0.06 -1.08  0.52 -0.42 -1.4   0.04 -0.16  1.24  1.28 -1.54\n",
            "  0.8  -1.3   0.74  0.62 -0.92  0.88 -0.02  0.78], shape=(32,), dtype=float32)\n",
            "y batch tf.Tensor(\n",
            "[-4.0047207  -4.5511794  -1.6087145  -2.9387138  -3.7624109  -1.2586854\n",
            " -5.3906074   0.98960686 -3.2492795  -5.021828   -5.645825   -6.324579\n",
            " -6.9533863   0.71550727 -5.7051377  -4.7698555  -4.7704215  -5.5896144\n",
            " -7.748578   -4.6419506  -5.316022    0.30735052 -0.7664336  -6.861414\n",
            " -3.2928934  -5.243598   -3.5448725  -4.628647   -5.5344057  -2.3572042\n",
            " -6.200819   -3.5750005 ], shape=(32,), dtype=float32)\n",
            "x batch tf.Tensor(\n",
            "[ 0.72 -0.5  -1.32  0.68 -1.96 -0.54 -0.6   1.12 -1.76  0.14  1.4  -1.62\n",
            " -1.02 -1.92 -0.28  0.98  1.58  1.98 -1.74  1.06 -0.8   0.24 -0.98  0.76\n",
            "  0.2   0.6   0.54  1.16 -1.84  1.54 -0.94  0.92], shape=(32,), dtype=float32)\n",
            "y batch tf.Tensor(\n",
            "[-4.3754215  -5.5510917  -6.5328536  -3.883223   -6.4298544  -5.362298\n",
            " -4.993286   -2.952777   -6.623686   -4.623513    0.90288544 -5.400906\n",
            " -6.489806   -4.190063   -6.1469707  -1.5394729  -0.25073773  4.3105345\n",
            " -3.9742348  -0.7487432  -4.6671705  -3.7593544  -5.291796   -3.066037\n",
            " -3.6209786  -3.303426   -4.4240294  -2.2604418  -4.4175096   1.6075492\n",
            " -5.0247073  -3.9668462 ], shape=(32,), dtype=float32)\n",
            "x batch tf.Tensor(\n",
            "[-1.18  0.66 -1.6   0.42  0.56 -1.16  0.38  1.3   1.8   1.22 -0.58 -0.76\n",
            "  0.32 -1.52 -1.   -1.42  0.44  1.78  0.82  2.    1.72  1.26 -1.82 -0.82\n",
            " -0.2   0.7  -0.08  0.96 -0.56  1.48  0.18 -0.14], shape=(32,), dtype=float32)\n",
            "y batch tf.Tensor(\n",
            "[-6.8053412 -4.281033  -5.7546525 -2.3969963 -4.162699  -6.144504\n",
            " -3.461616  -1.6368012  2.477567  -1.0031831 -5.633509  -5.6482015\n",
            " -4.515015  -4.2616973 -4.9108176 -6.354873  -5.289658   2.3977213\n",
            " -5.1139984  3.754541   1.1733551 -1.8453592 -6.365637  -7.471231\n",
            " -5.036079  -3.3427644 -3.9840424 -1.6363084 -6.6357064  1.1553954\n",
            " -4.025749  -6.58038  ], shape=(32,), dtype=float32)\n",
            "x batch tf.Tensor(\n",
            "[-1.58 -0.4  -0.1  -0.48 -1.24  1.62 -1.22 -0.26  1.46 -0.96  1.34 -0.62\n",
            "  0.28 -0.66  0.    0.84 -0.9   0.16  0.4  -0.74  1.94  1.14  0.34 -0.68\n",
            "  0.36 -1.66 -0.3   1.18 -1.9   0.12 -2.   -1.94], shape=(32,), dtype=float32)\n",
            "y batch tf.Tensor(\n",
            "[-5.948404   -5.1113815  -5.697111   -4.255447   -6.6095123   1.9501818\n",
            " -6.3218203  -4.3183985   0.48603916 -6.316026    0.7263671  -5.2715006\n",
            " -3.4318233  -5.9480953  -4.204016   -1.9266665  -5.4854975  -4.730449\n",
            " -3.302555   -5.1592526   2.7856927  -0.232252   -3.0073419  -6.480726\n",
            " -5.464354   -5.2192516  -7.6430345   0.0306555  -6.8953447  -3.7771788\n",
            " -4.88556    -5.6962295 ], shape=(32,), dtype=float32)\n",
            "x batch tf.Tensor(\n",
            "[ 1.32  1.82 -1.12 -1.46  1.68  1.1  -1.28  1.56 -1.1  -0.38  1.    1.38\n",
            "  0.02 -1.34  1.86  1.52 -1.68 -1.56 -0.24 -1.98  1.66  0.26  1.92 -0.22\n",
            " -1.38  0.1   1.08 -1.72 -0.78 -1.48 -1.26  0.64], shape=(32,), dtype=float32)\n",
            "y batch tf.Tensor(\n",
            "[-0.89821357  2.0815642  -6.5748525  -7.1108837   0.81532544  0.18258417\n",
            " -3.9162624   0.83392954 -7.947049   -5.395487   -2.145946    0.9918636\n",
            " -2.9996843  -6.39408     2.2853787   1.8221905  -4.5832872  -5.1577015\n",
            " -5.542932   -6.978737    0.92205805 -5.910479    2.7126338  -5.9147143\n",
            " -6.350211   -2.332664   -2.3485413  -3.7582302  -3.4644532  -6.131742\n",
            " -5.691313   -2.657319  ], shape=(32,), dtype=float32)\n",
            "x batch tf.Tensor(\n",
            "[-0.64 -1.86 -0.12 -0.86  0.58  0.5   1.76 -0.18  0.48 -1.64 -1.7   1.64\n",
            "  1.9  -1.88  1.74 -1.8  -1.36 -1.5  -0.72 -0.46  0.94  1.6  -1.06 -0.44\n",
            " -0.52  0.08  0.46 -1.44 -0.88  1.02 -1.04  1.96], shape=(32,), dtype=float32)\n",
            "y batch tf.Tensor(\n",
            "[-5.856812   -5.993506   -5.5220222  -6.3667016  -2.8084226  -4.740402\n",
            "  2.3382711  -3.6727624  -2.4066339  -4.8631124  -6.1599464  -1.0891454\n",
            "  2.7035487  -4.5247765   0.67049634 -6.074466   -3.8966708  -5.393033\n",
            " -5.303496   -6.0693765  -2.837321   -0.07314944 -6.6962953  -4.675519\n",
            " -4.6942935  -2.9464207  -3.834876   -6.0333633  -6.8508825  -1.8648405\n",
            " -6.6976204   3.6850274 ], shape=(32,), dtype=float32)\n",
            "x batch tf.Tensor([-0.34 -1.78  1.88  1.7   1.5   1.04  1.84 -1.2   0.3 ], shape=(9,), dtype=float32)\n",
            "y batch tf.Tensor(\n",
            "[-6.198973   -2.888723    0.8580755   1.3555737  -2.195071   -3.1342916\n",
            "  0.88069415 -5.270552   -5.6773443 ], shape=(9,), dtype=float32)\n"
          ]
        }
      ]
    },
    {
      "cell_type": "markdown",
      "source": [
        "## Change the learning rate to 1. You will notice that the algorithm is never able to converge. \n",
        "\n",
        "## Uncomment the print statements below to check how the weights are getting updated at each step"
      ],
      "metadata": {
        "id": "OktAlIdmQiWd"
      }
    },
    {
      "cell_type": "code",
      "execution_count": 45,
      "metadata": {
        "id": "nOaES5gyTDtG",
        "colab": {
          "base_uri": "https://localhost:8080/",
          "height": 559
        },
        "outputId": "936e6e48-ecc4-48f2-d310-4f641040237f"
      },
      "outputs": [
        {
          "output_type": "stream",
          "name": "stdout",
          "text": [
            "Mean squared error for step 0: 35.693\n",
            "Mean squared error for step 10: 2.230\n",
            "Mean squared error for step 20: 1.433\n",
            "Mean squared error for step 30: 1.173\n",
            "Mean squared error for step 40: 1.079\n",
            "Mean squared error for step 50: 1.046\n",
            "Mean squared error for step 60: 1.034\n",
            "Mean squared error for step 70: 1.031\n",
            "Mean squared error for step 80: 1.029\n",
            "Mean squared error for step 90: 1.029\n",
            "\n",
            "\n"
          ]
        },
        {
          "output_type": "execute_result",
          "data": {
            "text/plain": [
              "Text(0.5, 1.0, 'MSE loss vs training iterations')"
            ]
          },
          "metadata": {},
          "execution_count": 45
        },
        {
          "output_type": "display_data",
          "data": {
            "text/plain": [
              "<Figure size 300x300 with 1 Axes>"
            ],
            "image/png": "[encoded data removed]"
          },
          "metadata": {}
        }
      ],
      "source": [
        "# Set training parameters\n",
        "epochs = 100\n",
        "# learning_rate = 1\n",
        "learning_rate = 0.01\n",
        "losses = []\n",
        "\n",
        "# Format training loop\n",
        "for epoch in range(epochs):\n",
        "  for x_batch, y_batch in dataset:\n",
        "    with tf.GradientTape() as tape:\n",
        "      #y=f(x)\n",
        "      batch_loss = mse_loss(quad_model(x_batch), y_batch)\n",
        "      #print(\"Batch Loss\",batch_loss)\n",
        "    # Update parameters with respect to the gradient calculations\n",
        "    #dy/dx\n",
        "    grads = tape.gradient(batch_loss, quad_model.variables)\n",
        "    #print(\"Grads\",grads)\n",
        "    #print(\"Before upating\",quad_model.variables)\n",
        "    #print(grads)\n",
        "    for g,v in zip(grads, quad_model.variables):\n",
        "        # subtracting l*dy/dx. We want to move in the direction of minima based\n",
        "        #on the learning rate. We don't want to get caught by local minima\n",
        "        v.assign_sub(learning_rate*g)\n",
        "      #  print(\"After updating\",quad_model.variables)\n",
        "  # Keep track of model loss per epoch\n",
        "  # loss per each epoch\n",
        "  loss = mse_loss(quad_model(x), y)\n",
        "  losses.append(loss)\n",
        "  if epoch % 10 == 0:\n",
        "    print(f'Mean squared error for step {epoch}: {loss.numpy():0.3f}')\n",
        "\n",
        "# Plot model results\n",
        "print(\"\\n\")\n",
        "plt.plot(range(epochs), losses)\n",
        "plt.xlabel(\"Epoch\")\n",
        "plt.ylabel(\"Mean Squared Error (MSE)\")\n",
        "plt.title('MSE loss vs training iterations')"
      ]
    },
    {
      "cell_type": "markdown",
      "metadata": {
        "id": "dW5B2TTRsvxE"
      },
      "source": [
        "Now, observe your model's performance after training:"
      ]
    },
    {
      "cell_type": "code",
      "execution_count": 46,
      "metadata": {
        "id": "Qcvzyg3eYLh8",
        "colab": {
          "base_uri": "https://localhost:8080/",
          "height": 314
        },
        "outputId": "1e92cf21-d7ca-402f-8111-30ee13a6a119"
      },
      "outputs": [
        {
          "output_type": "display_data",
          "data": {
            "text/plain": [
              "<Figure size 300x300 with 1 Axes>"
            ],
            "image/png": "[encoded data removed]"
          },
          "metadata": {}
        }
      ],
      "source": [
        "plot_preds(x, y, f, quad_model, 'After training')"
      ]
    },
    {
      "cell_type": "markdown",
      "source": [
        "## After final update, the weights are now as follows:"
      ],
      "metadata": {
        "id": "gNog80wGNEP3"
      }
    },
    {
      "cell_type": "code",
      "source": [
        "\n",
        "quad_model.variables"
      ],
      "metadata": {
        "colab": {
          "base_uri": "https://localhost:8080/"
        },
        "id": "pe5fKT1kMsSq",
        "outputId": "089240dc-85d4-4643-c669-71546f56e708"
      },
      "execution_count": 47,
      "outputs": [
        {
          "output_type": "execute_result",
          "data": {
            "text/plain": [
              "(<tf.Variable 'Variable:0' shape=() dtype=float32, numpy=-4.8943386>,\n",
              " <tf.Variable 'Variable:0' shape=() dtype=float32, numpy=1.9841083>,\n",
              " <tf.Variable 'Variable:0' shape=() dtype=float32, numpy=0.97685105>)"
            ]
          },
          "metadata": {},
          "execution_count": 47
        }
      ]
    },
    {
      "cell_type": "markdown",
      "metadata": {
        "id": "hbtmFJIXb6qm"
      },
      "source": [
        "That's working, but remember that implementations of common training utilities are available in the `tf.keras` module. So, consider using those before writing your own. To start with, the `Model.compile` and `Model.fit` methods implement a training loop for you:"
      ]
    },
    {
      "cell_type": "markdown",
      "metadata": {
        "id": "cjx23MiztFmT"
      },
      "source": [
        "Begin by creating a Sequential Model in Keras using `tf.keras.Sequential`. One of the simplest Keras layers is the dense layer, which can be instantiated with `tf.keras.layers.Dense`. The dense layer is able to learn multidimensional linear relationships of the form $\\mathrm{Y} = \\mathrm{W}\\mathrm{X} +  \\vec{b}$. In order to learn a nonlinear equation of the form, $w_1x^2 + w_2x + b$, the dense layer's input should be a data matrix with $x^2$ and $x$ as features. The lambda layer, `tf.keras.layers.Lambda`, can be used to perform this stacking transformation."
      ]
    },
    {
      "cell_type": "markdown",
      "source": [
        "Usually subclassing a layer is preferrable rather than using Lambda Layers. Please see the help on Lambda by copy-pasting the below code\n",
        "\n",
        "***help(tf.keras.layers.Lambda)***"
      ],
      "metadata": {
        "id": "O8cPU-D0ZI9s"
      }
    },
    {
      "cell_type": "code",
      "execution_count": 48,
      "metadata": {
        "id": "5rt8HP2TZhEM"
      },
      "outputs": [],
      "source": [
        "new_model = tf.keras.Sequential([\n",
        "    tf.keras.layers.Lambda(lambda x: tf.stack([x, x**2], axis=1)),\n",
        "    tf.keras.layers.Dense(units=1, kernel_initializer=tf.random.normal)])\n",
        "    # Need to understand from where the weights are being initialized. It could be the property of the parent class\n",
        "    #which could not be overrided\n",
        "    #tf.keras.layers.Dense(units=1,kernel_initializer=None)])"
      ]
    },
    {
      "cell_type": "code",
      "source": [
        "#Error without calling build , or call or compile\n",
        "#new_model.trainable_variables\n",
        "\n",
        "\n",
        "\n",
        "#Compared to previous model here we are \n",
        "\n",
        "# 1. Setting the loss function\n",
        "# 2. How the gradients will be computed\n",
        "new_model.compile(loss=tf.keras.losses.MSE,optimizer=tf.keras.optimizers.SGD(learning_rate=0.01))\n"
      ],
      "metadata": {
        "id": "GII6ySAPcX2c"
      },
      "execution_count": 49,
      "outputs": []
    },
    {
      "cell_type": "markdown",
      "source": [
        "Uncomment to see how weights are initialized"
      ],
      "metadata": {
        "id": "Lb4hx2xve3Sw"
      }
    },
    {
      "cell_type": "code",
      "source": [
        "#new_model.build(input_shape=(None,3))\n",
        "#new_model.trainable_variables"
      ],
      "metadata": {
        "id": "FhnYJOdPdku8"
      },
      "execution_count": 50,
      "outputs": []
    },
    {
      "cell_type": "code",
      "execution_count": 51,
      "metadata": {
        "id": "73kCo1BtP3rQ",
        "colab": {
          "base_uri": "https://localhost:8080/"
        },
        "outputId": "ea7e15e8-bf9b-452b-8c7f-b416781d8392"
      },
      "outputs": [
        {
          "output_type": "stream",
          "name": "stdout",
          "text": [
            "Epoch 1/50\n",
            "7/7 [==============================] - 1s 3ms/step - loss: 20.4653\n",
            "Epoch 2/50\n",
            "7/7 [==============================] - 0s 3ms/step - loss: 15.9999\n",
            "Epoch 3/50\n",
            "7/7 [==============================] - 0s 2ms/step - loss: 12.9937\n",
            "Epoch 4/50\n",
            "7/7 [==============================] - 0s 2ms/step - loss: 10.8026\n",
            "Epoch 5/50\n",
            "7/7 [==============================] - 0s 2ms/step - loss: 9.1889\n",
            "Epoch 6/50\n",
            "7/7 [==============================] - 0s 2ms/step - loss: 8.0037\n",
            "Epoch 7/50\n",
            "7/7 [==============================] - 0s 3ms/step - loss: 7.0506\n",
            "Epoch 8/50\n",
            "7/7 [==============================] - 0s 3ms/step - loss: 6.2677\n",
            "Epoch 9/50\n",
            "7/7 [==============================] - 0s 2ms/step - loss: 5.5925\n",
            "Epoch 10/50\n",
            "7/7 [==============================] - 0s 2ms/step - loss: 5.0672\n",
            "Epoch 11/50\n",
            "7/7 [==============================] - 0s 2ms/step - loss: 4.5934\n",
            "Epoch 12/50\n",
            "7/7 [==============================] - 0s 2ms/step - loss: 4.2062\n",
            "Epoch 13/50\n",
            "7/7 [==============================] - 0s 2ms/step - loss: 3.8482\n",
            "Epoch 14/50\n",
            "7/7 [==============================] - 0s 2ms/step - loss: 3.5384\n",
            "Epoch 15/50\n",
            "7/7 [==============================] - 0s 3ms/step - loss: 3.2787\n",
            "Epoch 16/50\n",
            "7/7 [==============================] - 0s 2ms/step - loss: 3.0488\n",
            "Epoch 17/50\n",
            "7/7 [==============================] - 0s 2ms/step - loss: 2.8566\n",
            "Epoch 18/50\n",
            "7/7 [==============================] - 0s 2ms/step - loss: 2.6720\n",
            "Epoch 19/50\n",
            "7/7 [==============================] - 0s 2ms/step - loss: 2.5082\n",
            "Epoch 20/50\n",
            "7/7 [==============================] - 0s 2ms/step - loss: 2.3529\n",
            "Epoch 21/50\n",
            "7/7 [==============================] - 0s 4ms/step - loss: 2.2143\n",
            "Epoch 22/50\n",
            "7/7 [==============================] - 0s 2ms/step - loss: 2.1029\n",
            "Epoch 23/50\n",
            "7/7 [==============================] - 0s 2ms/step - loss: 1.9891\n",
            "Epoch 24/50\n",
            "7/7 [==============================] - 0s 3ms/step - loss: 1.8886\n",
            "Epoch 25/50\n",
            "7/7 [==============================] - 0s 2ms/step - loss: 1.8002\n",
            "Epoch 26/50\n",
            "7/7 [==============================] - 0s 3ms/step - loss: 1.7263\n",
            "Epoch 27/50\n",
            "7/7 [==============================] - 0s 2ms/step - loss: 1.6566\n",
            "Epoch 28/50\n",
            "7/7 [==============================] - 0s 3ms/step - loss: 1.5982\n",
            "Epoch 29/50\n",
            "7/7 [==============================] - 0s 2ms/step - loss: 1.5370\n",
            "Epoch 30/50\n",
            "7/7 [==============================] - 0s 2ms/step - loss: 1.4848\n",
            "Epoch 31/50\n",
            "7/7 [==============================] - 0s 2ms/step - loss: 1.4435\n",
            "Epoch 32/50\n",
            "7/7 [==============================] - 0s 2ms/step - loss: 1.4015\n",
            "Epoch 33/50\n",
            "7/7 [==============================] - 0s 3ms/step - loss: 1.3678\n",
            "Epoch 34/50\n",
            "7/7 [==============================] - 0s 3ms/step - loss: 1.3343\n",
            "Epoch 35/50\n",
            "7/7 [==============================] - 0s 2ms/step - loss: 1.3060\n",
            "Epoch 36/50\n",
            "7/7 [==============================] - 0s 3ms/step - loss: 1.2755\n",
            "Epoch 37/50\n",
            "7/7 [==============================] - 0s 5ms/step - loss: 1.2559\n",
            "Epoch 38/50\n",
            "7/7 [==============================] - 0s 2ms/step - loss: 1.2313\n",
            "Epoch 39/50\n",
            "7/7 [==============================] - 0s 2ms/step - loss: 1.2086\n",
            "Epoch 40/50\n",
            "7/7 [==============================] - 0s 2ms/step - loss: 1.1908\n",
            "Epoch 41/50\n",
            "7/7 [==============================] - 0s 2ms/step - loss: 1.1758\n",
            "Epoch 42/50\n",
            "7/7 [==============================] - 0s 2ms/step - loss: 1.1637\n",
            "Epoch 43/50\n",
            "7/7 [==============================] - 0s 2ms/step - loss: 1.1526\n",
            "Epoch 44/50\n",
            "7/7 [==============================] - 0s 3ms/step - loss: 1.1445\n",
            "Epoch 45/50\n",
            "7/7 [==============================] - 0s 3ms/step - loss: 1.1322\n",
            "Epoch 46/50\n",
            "7/7 [==============================] - 0s 3ms/step - loss: 1.1214\n",
            "Epoch 47/50\n",
            "7/7 [==============================] - 0s 2ms/step - loss: 1.1103\n",
            "Epoch 48/50\n",
            "7/7 [==============================] - 0s 2ms/step - loss: 1.1031\n",
            "Epoch 49/50\n",
            "7/7 [==============================] - 0s 3ms/step - loss: 1.1001\n",
            "Epoch 50/50\n",
            "7/7 [==============================] - 0s 3ms/step - loss: 1.0885\n"
          ]
        },
        {
          "output_type": "stream",
          "name": "stderr",
          "text": [
            "WARNING:absl:Found untraced functions such as _update_step_xla while saving (showing 1 of 1). These functions will not be directly callable after loading.\n"
          ]
        }
      ],
      "source": [
        "# Compared to the previous model here we are \n",
        "\n",
        "# 1. Running a for loop over the batch. No need to create the dataset\n",
        "# 2. Running several epochs\n",
        "# 3. Fit basically means updating the gradients to find the optimum weight\n",
        "\n",
        "history = new_model.fit(x, y,\n",
        "                        epochs=50,\n",
        "                        batch_size=32,\n",
        "                        verbose=1)\n",
        "\n",
        "new_model.save('./my_new_model')"
      ]
    },
    {
      "cell_type": "markdown",
      "metadata": {
        "id": "u3q5d1SzvzTq"
      },
      "source": [
        "Observe your Keras model's performance after training:"
      ]
    },
    {
      "cell_type": "code",
      "execution_count": 52,
      "metadata": {
        "id": "Mo7zRV7XZjv7",
        "colab": {
          "base_uri": "https://localhost:8080/",
          "height": 333
        },
        "outputId": "759ad149-51db-48f3-e439-7a9b4e3f122b"
      },
      "outputs": [
        {
          "output_type": "display_data",
          "data": {
            "text/plain": [
              "<Figure size 300x300 with 1 Axes>"
            ],
            "image/png": "[encoded data removed]"
          },
          "metadata": {}
        }
      ],
      "source": [
        "plt.plot(history.history['loss'])\n",
        "plt.xlabel('Epoch')\n",
        "plt.ylim([0, max(plt.ylim())])\n",
        "plt.ylabel('Loss [Mean Squared Error]')\n",
        "plt.title('Keras training progress');"
      ]
    },
    {
      "cell_type": "code",
      "execution_count": 53,
      "metadata": {
        "id": "bB44a9YsvnfK",
        "colab": {
          "base_uri": "https://localhost:8080/",
          "height": 314
        },
        "outputId": "abae8099-34f4-468f-c735-fefdb89e1ec6"
      },
      "outputs": [
        {
          "output_type": "display_data",
          "data": {
            "text/plain": [
              "<Figure size 300x300 with 1 Axes>"
            ],
            "image/png": "[encoded data removed]"
          },
          "metadata": {}
        }
      ],
      "source": [
        "plot_preds(x, y, f, new_model, 'After Training: Keras')"
      ]
    },
    {
      "cell_type": "markdown",
      "source": [
        "### My learnings from this \n",
        "\n",
        "\n",
        "1. Create a neural network and have some layers\n",
        "2. Update weights based on some loss function\n",
        "3. Use the keras functionality and it will take care of updating weights\n"
      ],
      "metadata": {
        "id": "RO_rPlw7VL8Y"
      }
    }
  ],
  "metadata": {
    "colab": {
      "provenance": [],
      "include_colab_link": true
    },
    "kernelspec": {
      "display_name": "Python 3",
      "name": "python3"
    }
  },
  "nbformat": 4,
  "nbformat_minor": 0
}