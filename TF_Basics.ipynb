{
  "cells": [
    {
      "cell_type": "markdown",
      "metadata": {
        "id": "view-in-github",
        "colab_type": "text"
      },
      "source": [
        "<a href=\"https://colab.research.google.com/github/aadishchopra/NLP/blob/main/TF_Basics.ipynb\" target=\"_parent\"><img src=\"https://colab.research.google.com/assets/colab-badge.svg\" alt=\"Open In Colab\"/></a>"
      ]
    },
    {
      "cell_type": "markdown",
      "source": [
        "I have modified the code , wrote comments for understanding wherever I thought it required some explanation for beginners. At the end of the runbook I learned how to \n",
        "\n",
        "1. Create a neural network ( dense layers ) \n",
        "2. Update weights based on some loss function\n",
        "3. Use the keras functionality and it will take care of updating weights"
      ],
      "metadata": {
        "id": "DqBqSeuXWSpi"
      }
    },
    {
      "cell_type": "markdown",
      "metadata": {
        "id": "hrXv0rU9sIma"
      },
      "source": [
        "# TensorFlow basics"
      ]
    },
    {
      "cell_type": "markdown",
      "metadata": {
        "id": "gvLegMMvBZYg"
      },
      "source": [
        "## Tensors\n",
        "\n",
        "TensorFlow operates on multidimensional arrays or _tensors_ represented as `tf.Tensor` objects. Here is a two-dimensional tensor:"
      ]
    },
    {
      "cell_type": "code",
      "execution_count": 107,
      "metadata": {
        "id": "6ZqX5RnbBS1f",
        "colab": {
          "base_uri": "https://localhost:8080/"
        },
        "outputId": "18581282-7b43-48d5-cc47-48b4bda405fd"
      },
      "outputs": [
        {
          "output_type": "stream",
          "name": "stdout",
          "text": [
            "tf.Tensor(\n",
            "[[1 2 3]\n",
            " [4 5 6]], shape=(2, 3), dtype=int32)\n",
            "(2, 3)\n",
            "<dtype: 'int32'>\n"
          ]
        }
      ],
      "source": [
        "import tensorflow as tf\n",
        "\n",
        "\n",
        "#notice the dots after the integers. The data type gets changed from float32 to int32\n",
        "x = tf.constant([[1, 2, 3],\n",
        "                 [4, 5, 6]])\n",
        "\n",
        "\n",
        "#help(tf.constant)\n",
        "\n",
        "print(x)\n",
        "print(x.shape)\n",
        "print(x.dtype)"
      ]
    },
    {
      "cell_type": "markdown",
      "metadata": {
        "id": "k-AOMqevQGN4"
      },
      "source": [
        "The most important attributes of a `tf.Tensor` are its `shape` and `dtype`:\n",
        "\n",
        "* `Tensor.shape`: tells you the size of the tensor along each of its axes.\n",
        "* `Tensor.dtype`: tells you the type of all the elements in the tensor."
      ]
    },
    {
      "cell_type": "markdown",
      "metadata": {
        "id": "bUkKeNWZCIJO"
      },
      "source": [
        "TensorFlow implements standard mathematical operations on tensors, as well as many operations specialized for machine learning.\n",
        "\n",
        "For example:"
      ]
    },
    {
      "cell_type": "code",
      "execution_count": 108,
      "metadata": {
        "id": "BM7xXNDsBfN5",
        "colab": {
          "base_uri": "https://localhost:8080/"
        },
        "outputId": "5f6926ee-440c-4f10-98e2-53257c667794"
      },
      "outputs": [
        {
          "output_type": "execute_result",
          "data": {
            "text/plain": [
              "<tf.Tensor: shape=(2, 3), dtype=int32, numpy=\n",
              "array([[ 2,  4,  6],\n",
              "       [ 8, 10, 12]], dtype=int32)>"
            ]
          },
          "metadata": {},
          "execution_count": 108
        }
      ],
      "source": [
        "x + x"
      ]
    },
    {
      "cell_type": "code",
      "execution_count": 109,
      "metadata": {
        "id": "ZLGqscTxB61v",
        "colab": {
          "base_uri": "https://localhost:8080/"
        },
        "outputId": "8c0e5d19-322c-41e2-9532-b465feb9de5a"
      },
      "outputs": [
        {
          "output_type": "execute_result",
          "data": {
            "text/plain": [
              "<tf.Tensor: shape=(2, 3), dtype=int32, numpy=\n",
              "array([[ 5, 10, 15],\n",
              "       [20, 25, 30]], dtype=int32)>"
            ]
          },
          "metadata": {},
          "execution_count": 109
        }
      ],
      "source": [
        "5 * x"
      ]
    },
    {
      "cell_type": "code",
      "execution_count": 110,
      "metadata": {
        "id": "2ImJHd8VfnWq",
        "colab": {
          "base_uri": "https://localhost:8080/"
        },
        "outputId": "f878cb6b-ccf6-4612-e913-f1c26f8b41d4"
      },
      "outputs": [
        {
          "output_type": "execute_result",
          "data": {
            "text/plain": [
              "<tf.Tensor: shape=(2, 2), dtype=int32, numpy=\n",
              "array([[14, 32],\n",
              "       [32, 77]], dtype=int32)>"
            ]
          },
          "metadata": {},
          "execution_count": 110
        }
      ],
      "source": [
        "x @ tf.transpose(x)"
      ]
    },
    {
      "cell_type": "code",
      "source": [
        "# Error\n",
        "# x @ x"
      ],
      "metadata": {
        "id": "cs5h_WVz0dHC"
      },
      "execution_count": 111,
      "outputs": []
    },
    {
      "cell_type": "code",
      "execution_count": 112,
      "metadata": {
        "id": "U9JZD6TYCZWu",
        "colab": {
          "base_uri": "https://localhost:8080/"
        },
        "outputId": "85ab416f-8407-47bd-cb37-7294ff84da08"
      },
      "outputs": [
        {
          "output_type": "execute_result",
          "data": {
            "text/plain": [
              "<tf.Tensor: shape=(2, 9), dtype=int32, numpy=\n",
              "array([[1, 2, 3, 1, 2, 3, 1, 2, 3],\n",
              "       [4, 5, 6, 4, 5, 6, 4, 5, 6]], dtype=int32)>"
            ]
          },
          "metadata": {},
          "execution_count": 112
        }
      ],
      "source": [
        "# like rbind in R\n",
        "\n",
        "tf.concat([x, x, x], axis=0)\n",
        "\n",
        "# axis=1 is for columns\n",
        "tf.concat([x, x, x], axis=1)\n",
        "\n",
        "\n"
      ]
    },
    {
      "cell_type": "code",
      "execution_count": 113,
      "metadata": {
        "id": "seGBLeD9P_PI",
        "colab": {
          "base_uri": "https://localhost:8080/"
        },
        "outputId": "bb0eac6d-e75f-4466-ac97-101773b52286"
      },
      "outputs": [
        {
          "output_type": "execute_result",
          "data": {
            "text/plain": [
              "<tf.Tensor: shape=(2, 3), dtype=float32, numpy=\n",
              "array([[0.09003057, 0.24472848, 0.66524094],\n",
              "       [0.09003057, 0.24472848, 0.66524094]], dtype=float32)>"
            ]
          },
          "metadata": {},
          "execution_count": 113
        }
      ],
      "source": [
        "#Error . \n",
        "x = tf.constant([[1., 2, 3],\n",
        "                 [4, 5, 6]])\n",
        "#softmax = tf.exp(logits) / tf.reduce_sum(tf.exp(logits), axis, keepdims=True)\n",
        "tf.nn.softmax(x, axis=-1)\n"
      ]
    },
    {
      "cell_type": "code",
      "execution_count": 114,
      "metadata": {
        "id": "YZNZRv1ECjf8",
        "colab": {
          "base_uri": "https://localhost:8080/"
        },
        "outputId": "cc274665-a69e-4975-861d-55c5a043e357"
      },
      "outputs": [
        {
          "output_type": "execute_result",
          "data": {
            "text/plain": [
              "<tf.Tensor: shape=(), dtype=float32, numpy=21.0>"
            ]
          },
          "metadata": {},
          "execution_count": 114
        }
      ],
      "source": [
        "tf.reduce_sum(x)"
      ]
    },
    {
      "cell_type": "markdown",
      "metadata": {
        "id": "TNHnIjOVLJfA"
      },
      "source": [
        "Note: Typically, anywhere a TensorFlow function expects a `Tensor` as input, the function will also accept anything that can be converted to a `Tensor` using `tf.convert_to_tensor`. See below for an example."
      ]
    },
    {
      "cell_type": "code",
      "execution_count": 115,
      "metadata": {
        "id": "i_XKgjDsL4GE",
        "colab": {
          "base_uri": "https://localhost:8080/"
        },
        "outputId": "434e9f1e-53e9-4da2-fdf4-8391be3d7629"
      },
      "outputs": [
        {
          "output_type": "execute_result",
          "data": {
            "text/plain": [
              "<tf.Tensor: shape=(3,), dtype=int32, numpy=array([1, 2, 3], dtype=int32)>"
            ]
          },
          "metadata": {},
          "execution_count": 115
        }
      ],
      "source": [
        "tf.convert_to_tensor([1,2,3])"
      ]
    },
    {
      "cell_type": "code",
      "execution_count": 116,
      "metadata": {
        "id": "wTBt-JUqLJDJ",
        "colab": {
          "base_uri": "https://localhost:8080/"
        },
        "outputId": "96a22290-f573-4cad-9fab-71b4313a801e"
      },
      "outputs": [
        {
          "output_type": "execute_result",
          "data": {
            "text/plain": [
              "<tf.Tensor: shape=(), dtype=int32, numpy=6>"
            ]
          },
          "metadata": {},
          "execution_count": 116
        }
      ],
      "source": [
        "tf.reduce_sum([1,2,3])"
      ]
    },
    {
      "cell_type": "markdown",
      "metadata": {
        "id": "8-mi5031DVxz"
      },
      "source": [
        "Running large calculations on CPU can be slow. When properly configured, TensorFlow can use accelerator hardware like GPUs to execute operations very quickly."
      ]
    },
    {
      "cell_type": "code",
      "execution_count": 117,
      "metadata": {
        "id": "m97Gv5H6Dz0G",
        "colab": {
          "base_uri": "https://localhost:8080/"
        },
        "outputId": "f1dade4c-1636-43ec-9f4b-5278a326b1c2"
      },
      "outputs": [
        {
          "output_type": "stream",
          "name": "stdout",
          "text": [
            "TensorFlow **IS NOT** using the GPU\n"
          ]
        }
      ],
      "source": [
        "if tf.config.list_physical_devices('GPU'):\n",
        "  print(\"TensorFlow **IS** using the GPU\")\n",
        "else:\n",
        "  print(\"TensorFlow **IS NOT** using the GPU\")"
      ]
    },
    {
      "cell_type": "code",
      "source": [
        "tf.config.list_physical_devices()"
      ],
      "metadata": {
        "colab": {
          "base_uri": "https://localhost:8080/"
        },
        "id": "x_PSk_1L2zEY",
        "outputId": "105b22aa-13c1-4645-f64b-a2313f2cab42"
      },
      "execution_count": 118,
      "outputs": [
        {
          "output_type": "execute_result",
          "data": {
            "text/plain": [
              "[PhysicalDevice(name='/physical_device:CPU:0', device_type='CPU')]"
            ]
          },
          "metadata": {},
          "execution_count": 118
        }
      ]
    },
    {
      "cell_type": "markdown",
      "metadata": {
        "id": "ln2FkLOqMX92"
      },
      "source": [
        "Refer to the [Tensor guide](tensor.ipynb) for details."
      ]
    },
    {
      "cell_type": "markdown",
      "metadata": {
        "id": "oVbomvMyEIVF"
      },
      "source": [
        "## Variables\n",
        "\n",
        "# **Normal `tf.Tensor` objects are immutable. To store model weights (or other mutable state) in TensorFlow use a `tf.Variable`.**"
      ]
    },
    {
      "cell_type": "code",
      "execution_count": 119,
      "metadata": {
        "id": "SO8_bP4UEzxS"
      },
      "outputs": [],
      "source": [
        "var = tf.Variable([0.0, 0.0, 0.0])"
      ]
    },
    {
      "cell_type": "code",
      "execution_count": 120,
      "metadata": {
        "id": "aDLYFvu5FAFa",
        "colab": {
          "base_uri": "https://localhost:8080/"
        },
        "outputId": "c5a3d72e-7630-4411-c165-ba082b36477b"
      },
      "outputs": [
        {
          "output_type": "execute_result",
          "data": {
            "text/plain": [
              "<tf.Variable 'UnreadVariable' shape=(3,) dtype=float32, numpy=array([1., 2., 3.], dtype=float32)>"
            ]
          },
          "metadata": {},
          "execution_count": 120
        }
      ],
      "source": [
        "var.assign([1, 2, 3])"
      ]
    },
    {
      "cell_type": "code",
      "execution_count": 121,
      "metadata": {
        "id": "9EpiOmxXFDSS",
        "colab": {
          "base_uri": "https://localhost:8080/"
        },
        "outputId": "f312964e-6445-4a69-c429-719624578cc6"
      },
      "outputs": [
        {
          "output_type": "execute_result",
          "data": {
            "text/plain": [
              "<tf.Variable 'UnreadVariable' shape=(3,) dtype=float32, numpy=array([2., 3., 4.], dtype=float32)>"
            ]
          },
          "metadata": {},
          "execution_count": 121
        }
      ],
      "source": [
        "var.assign_add([1, 1, 1])"
      ]
    },
    {
      "cell_type": "markdown",
      "metadata": {
        "id": "tlvTpi1CMedC"
      },
      "source": [
        "Refer to the [Variables guide](variable.ipynb) for details."
      ]
    },
    {
      "cell_type": "markdown",
      "metadata": {
        "id": "rG1Dhv2QFkV3"
      },
      "source": [
        "## Automatic differentiation\n",
        "\n",
        "<a href=\"https://en.wikipedia.org/wiki/Gradient_descent\" class=\"external\">_Gradient descent_</a> and related algorithms are a cornerstone of modern machine learning.\n",
        "\n",
        "To enable this, TensorFlow implements automatic differentiation (autodiff), which uses calculus to compute gradients. Typically you'll use this to calculate the gradient of a model's _error_ or _loss_ with respect to its weights."
      ]
    },
    {
      "cell_type": "code",
      "execution_count": 122,
      "metadata": {
        "id": "cYKOi-z4GY9Y"
      },
      "outputs": [],
      "source": [
        "x = tf.Variable(1.0)\n",
        "\n",
        "def f(x):\n",
        "  y = x**2 + 2*x - 5\n",
        "  return y"
      ]
    },
    {
      "cell_type": "code",
      "source": [
        "x=tf.Variable(10.0)\n",
        "def f(x):\n",
        "  y=x**3 + x - 1\n",
        "  return y\n"
      ],
      "metadata": {
        "id": "KMLBXM1F4q4b"
      },
      "execution_count": 123,
      "outputs": []
    },
    {
      "cell_type": "markdown",
      "metadata": {
        "id": "ozLLop0cHeYl"
      },
      "source": [
        "At `x = 1.0`, `y = f(x) = (1**2 + 2*1 - 5) = -2`.\n",
        "\n",
        "The derivative of `y` is `y' = f'(x) = (2*x + 2) = 4`. TensorFlow can calculate this automatically:"
      ]
    },
    {
      "cell_type": "code",
      "execution_count": 124,
      "metadata": {
        "id": "N02NfWpHGvw8",
        "colab": {
          "base_uri": "https://localhost:8080/"
        },
        "outputId": "32d70a52-851b-4345-9fdf-ddde114007b2"
      },
      "outputs": [
        {
          "output_type": "execute_result",
          "data": {
            "text/plain": [
              "<tf.Tensor: shape=(), dtype=float32, numpy=301.0>"
            ]
          },
          "metadata": {},
          "execution_count": 124
        }
      ],
      "source": [
        "with tf.GradientTape() as tape:\n",
        "  y = f(x)\n",
        "g_x = tape.gradient(y, x)  # g(x) = dy/dx\n",
        "\n",
        "g_x"
      ]
    },
    {
      "cell_type": "markdown",
      "source": [
        "# 2nd order differentiation"
      ],
      "metadata": {
        "id": "d8I90LGHsc1f"
      }
    },
    {
      "cell_type": "code",
      "source": [
        "# Creating my own example with the help of documentation\n",
        "with tf.GradientTape() as tape:\n",
        "  with tf.GradientTape() as tape2:\n",
        "    y=f(x)\n",
        "    g_x=tape.gradient(y, x)  # g(x) = dy/dx\n",
        "g_prime_x=tape2.gradient(g_x, x)  # g(x) = d2y/dx\n",
        "\n",
        "print(\"3x^2+1 = 3*10^2 + 1 is equal to tensor of value 301.0 \",g_x) # 3x^2+1 = 3*10^2 + 1  \n",
        "print(\"6x = 6*10\",g_prime_x)  # 6x = 6*10\n",
        "\n",
        "\n"
      ],
      "metadata": {
        "colab": {
          "base_uri": "https://localhost:8080/"
        },
        "id": "mBBsqhEi5Aj1",
        "outputId": "5321715e-2831-4aa2-b990-691e1b65efd3"
      },
      "execution_count": 72,
      "outputs": [
        {
          "output_type": "stream",
          "name": "stdout",
          "text": [
            "3x^2+1 = 3*10^2 + 1 is equal to tensor of value 301.0  tf.Tensor(301.0, shape=(), dtype=float32)\n",
            "6x = 6*10 tf.Tensor(60.0, shape=(), dtype=float32)\n"
          ]
        }
      ]
    },
    {
      "cell_type": "markdown",
      "metadata": {
        "id": "s-DVYJfcIRPd"
      },
      "source": [
        "This simplified example only takes the derivative with respect to a single scalar (`x`), but TensorFlow can compute the gradient with respect to any number of non-scalar tensors simultaneously."
      ]
    },
    {
      "cell_type": "markdown",
      "metadata": {
        "id": "VglUM4M3KhNz"
      },
      "source": [
        "## Graphs and tf.function\n",
        "\n",
        "While you can use TensorFlow interactively like any Python library, TensorFlow also provides tools for:\n",
        "\n",
        "* **Performance optimization**: to speed up training and inference.\n",
        "* **Export**: so you can save your model when it's done training.\n",
        "\n",
        "These require that you use `tf.function` to separate your pure-TensorFlow code from Python."
      ]
    },
    {
      "cell_type": "code",
      "execution_count": 73,
      "metadata": {
        "id": "VitACyZWKJD_"
      },
      "outputs": [],
      "source": [
        "@tf.function\n",
        "def my_func(x):\n",
        "  print('Tracing.\\n')\n",
        "  return tf.reduce_sum(x)"
      ]
    },
    {
      "cell_type": "markdown",
      "metadata": {
        "id": "fBYDh-huNUBZ"
      },
      "source": [
        "The first time you run the `tf.function`, although it executes in Python, it captures a complete, optimized graph representing the TensorFlow computations done within the function."
      ]
    },
    {
      "cell_type": "code",
      "execution_count": 74,
      "metadata": {
        "id": "vkOFSEkoM1bd",
        "colab": {
          "base_uri": "https://localhost:8080/"
        },
        "outputId": "8d526f0d-f9c4-47cd-e213-2f81b72c4017"
      },
      "outputs": [
        {
          "output_type": "stream",
          "name": "stdout",
          "text": [
            "Tracing.\n",
            "\n"
          ]
        },
        {
          "output_type": "execute_result",
          "data": {
            "text/plain": [
              "<tf.Tensor: shape=(), dtype=float32, numpy=6.0>"
            ]
          },
          "metadata": {},
          "execution_count": 74
        }
      ],
      "source": [
        "#Although in the example the first example used has a dtype of int32. I used float32 to show that once the data\n",
        "#type is converted to float32 tf does not revert back to a new tf graph. And therefor in none of the examples\n",
        "# \"tracing\" is print\n",
        "x = tf.constant([1.0, 2.0, 3.0])\n",
        "my_func(x)"
      ]
    },
    {
      "cell_type": "markdown",
      "metadata": {
        "id": "a3aWzt-rNsBa"
      },
      "source": [
        "On subsequent calls TensorFlow only executes the optimized graph, skipping any non-TensorFlow steps. Below, note that `my_func` doesn't print _tracing_ since `print` is a Python function, not a TensorFlow function."
      ]
    },
    {
      "cell_type": "code",
      "execution_count": 75,
      "metadata": {
        "id": "23dMHWwwNIoa",
        "colab": {
          "base_uri": "https://localhost:8080/"
        },
        "outputId": "a6432e06-d9e8-4254-91c4-c93c7a323443"
      },
      "outputs": [
        {
          "output_type": "stream",
          "name": "stdout",
          "text": [
            "Tracing.\n",
            "\n"
          ]
        },
        {
          "output_type": "execute_result",
          "data": {
            "text/plain": [
              "<tf.Tensor: shape=(), dtype=int32, numpy=27>"
            ]
          },
          "metadata": {},
          "execution_count": 75
        }
      ],
      "source": [
        "x = tf.constant([10, 9, 8])\n",
        "my_func(x)"
      ]
    },
    {
      "cell_type": "markdown",
      "metadata": {
        "id": "nSeTti6zki0n"
      },
      "source": [
        "A graph may not be reusable for inputs with a different _signature_ (`shape` and `dtype`), so a new graph is generated instead:"
      ]
    },
    {
      "cell_type": "code",
      "execution_count": 76,
      "metadata": {
        "id": "OWffqyhqlVPf",
        "colab": {
          "base_uri": "https://localhost:8080/"
        },
        "outputId": "a31db4bb-8e59-4300-b387-0f1eaa6d6a87"
      },
      "outputs": [
        {
          "output_type": "execute_result",
          "data": {
            "text/plain": [
              "<tf.Tensor: shape=(), dtype=float32, numpy=27.3>"
            ]
          },
          "metadata": {},
          "execution_count": 76
        }
      ],
      "source": [
        "x = tf.constant([10.0, 9.1, 8.2], dtype=tf.float32)\n",
        "my_func(x)"
      ]
    },
    {
      "cell_type": "markdown",
      "metadata": {
        "id": "UWknAA_zNTOa"
      },
      "source": [
        "These captured graphs provide two benefits:\n",
        "\n",
        "* In many cases they provide a significant speedup in execution (though not this trivial example).\n",
        "* You can export these graphs, using `tf.saved_model`, to run on other systems like a [server](https://www.tensorflow.org/tfx/serving/docker) or a [mobile device](https://www.tensorflow.org/lite/guide), no Python installation required."
      ]
    },
    {
      "cell_type": "markdown",
      "metadata": {
        "id": "hLUJ6f2eMsA8"
      },
      "source": [
        "Refer to [Intro to graphs](intro_to_graphs.ipynb) for more details."
      ]
    },
    {
      "cell_type": "markdown",
      "metadata": {
        "id": "t_36xPDPPBqp"
      },
      "source": [
        "## Modules, layers, and models"
      ]
    },
    {
      "cell_type": "markdown",
      "metadata": {
        "id": "oDaT7kCpUgnJ"
      },
      "source": [
        "`tf.Module` is a class for managing your `tf.Variable` objects, and the `tf.function` objects that operate on them. The `tf.Module` class is necessary to support two significant features:\n",
        "\n",
        "1. You can save and restore the values of your variables using `tf.train.Checkpoint`. This is useful during training as it is quick to save and restore a model's state.\n",
        "2. You can import and export the `tf.Variable` values _and_ the `tf.function` graphs using `tf.saved_model`. This allows you to run your model independently of the Python program that created it.\n",
        "\n",
        "Here is a complete example exporting a simple `tf.Module` object:"
      ]
    },
    {
      "cell_type": "code",
      "execution_count": 77,
      "metadata": {
        "id": "1MqEcZOqPBDV"
      },
      "outputs": [],
      "source": [
        "class MyModule(tf.Module):\n",
        "  def __init__(self, weights):\n",
        "    self.weight = tf.Variable(weights)\n",
        "\n",
        "  @tf.function\n",
        "  def activation(self, inputs,bias):\n",
        "    print('tracing')\n",
        "    return inputs * self.weight + bias"
      ]
    },
    {
      "cell_type": "code",
      "execution_count": 78,
      "metadata": {
        "id": "la2G82HfVfU0",
        "colab": {
          "base_uri": "https://localhost:8080/"
        },
        "outputId": "2982c436-935d-4aca-890f-4db6b1d40aa0"
      },
      "outputs": [
        {
          "output_type": "stream",
          "name": "stdout",
          "text": [
            "tracing\n"
          ]
        },
        {
          "output_type": "execute_result",
          "data": {
            "text/plain": [
              "<tf.Tensor: shape=(3,), dtype=int32, numpy=array([ 4,  7, 10], dtype=int32)>"
            ]
          },
          "metadata": {},
          "execution_count": 78
        }
      ],
      "source": [
        "mod = MyModule(weights=3)\n",
        "mod.activation(inputs = tf.constant([1, 2, 3]),bias=tf.constant(1))"
      ]
    },
    {
      "cell_type": "code",
      "source": [
        "# Can verify that it didn't print tracing. \n",
        "mod.activation(inputs = tf.constant([5, 2, 3]),bias=tf.constant(1))"
      ],
      "metadata": {
        "colab": {
          "base_uri": "https://localhost:8080/"
        },
        "id": "sTRPcklMx_gF",
        "outputId": "7ebf2f45-79b7-448d-d6dc-b5b793be741f"
      },
      "execution_count": 79,
      "outputs": [
        {
          "output_type": "execute_result",
          "data": {
            "text/plain": [
              "<tf.Tensor: shape=(3,), dtype=int32, numpy=array([16,  7, 10], dtype=int32)>"
            ]
          },
          "metadata": {},
          "execution_count": 79
        }
      ]
    },
    {
      "cell_type": "code",
      "execution_count": 80,
      "metadata": {
        "id": "1MlfbEMjVzG4",
        "colab": {
          "base_uri": "https://localhost:8080/"
        },
        "outputId": "7405199f-4413-4a69-a3e7-c66928acda8f"
      },
      "outputs": [
        {
          "output_type": "stream",
          "name": "stdout",
          "text": [
            "tracing\n"
          ]
        }
      ],
      "source": [
        "save_path = './saved'\n",
        "tf.saved_model.save(mod, save_path)"
      ]
    },
    {
      "cell_type": "code",
      "source": [
        "  '''\n",
        "class Dense(tf.Module):\n",
        "  def __init__(self, input_dim, output_size, name=None):\n",
        "    super().__init__(name=name)\n",
        "    self.w = tf.Variable(\n",
        "    tf.random.normal([input_dim, output_size]), name='w')\n",
        "    self.b = tf.Variable(tf.zeros([output_size]), name='b')\n",
        "  def __call__(self, x):\n",
        "    y = tf.matmul(x, self.w) + self.b\n",
        "    return tf.nn.relu(y)\n",
        "  '''"
      ],
      "metadata": {
        "id": "mY2jrD7SwxJd",
        "colab": {
          "base_uri": "https://localhost:8080/",
          "height": 70
        },
        "outputId": "4ffec445-7970-4bcb-8370-d118847b026a"
      },
      "execution_count": 81,
      "outputs": [
        {
          "output_type": "execute_result",
          "data": {
            "text/plain": [
              "\"\\nclass Dense(tf.Module):\\ndef __init__(self, input_dim, output_size, name=None):\\n  super().__init__(name=name)\\n  self.w = tf.Variable(\\n  tf.random.normal([input_dim, output_size]), name='w')\\n  self.b = tf.Variable(tf.zeros([output_size]), name='b')\\ndef __call__(self, x):\\n  y = tf.matmul(x, self.w) + self.b\\n  return tf.nn.relu(y)\\n\""
            ],
            "application/vnd.google.colaboratory.intrinsic+json": {
              "type": "string"
            }
          },
          "metadata": {},
          "execution_count": 81
        }
      ]
    },
    {
      "cell_type": "markdown",
      "metadata": {
        "id": "GaSJX7zQXCm4"
      },
      "source": [
        "Save the `Module`:"
      ]
    },
    {
      "cell_type": "markdown",
      "metadata": {
        "id": "LgfoftD4XGJW"
      },
      "source": [
        "The resulting SavedModel is independent of the code that created it. You can load a SavedModel from Python, other language bindings, or [TensorFlow Serving](https://www.tensorflow.org/tfx/serving/docker). You can also convert it to run with [TensorFlow Lite](https://www.tensorflow.org/lite/guide) or [TensorFlow JS](https://www.tensorflow.org/js/guide)."
      ]
    },
    {
      "cell_type": "code",
      "execution_count": 82,
      "metadata": {
        "id": "pWuLOIKBWZYG",
        "colab": {
          "base_uri": "https://localhost:8080/"
        },
        "outputId": "86d90cb4-0321-42bb-f2b6-25db2d7f8d83"
      },
      "outputs": [
        {
          "output_type": "execute_result",
          "data": {
            "text/plain": [
              "<tf.Tensor: shape=(3,), dtype=int32, numpy=array([ 5,  8, 11], dtype=int32)>"
            ]
          },
          "metadata": {},
          "execution_count": 82
        }
      ],
      "source": [
        "reloaded = tf.saved_model.load(save_path)\n",
        "type(reloaded) # Loads the object\n",
        "reloaded.activation(tf.constant([1, 2, 3]),bias=2)"
      ]
    },
    {
      "cell_type": "markdown",
      "metadata": {
        "id": "nxU6P1RGwHyC"
      },
      "source": [
        "The `tf.keras.layers.Layer` and `tf.keras.Model` classes build on `tf.Module` providing additional functionality and convenience methods for building, training, and saving models. Some of these are demonstrated in the next section."
      ]
    },
    {
      "cell_type": "markdown",
      "metadata": {
        "id": "tQzt3yaWMzLf"
      },
      "source": [
        "Refer to [Intro to modules](intro_to_modules.ipynb) for details."
      ]
    },
    {
      "cell_type": "markdown",
      "metadata": {
        "id": "Rk1IEG5aav7X"
      },
      "source": [
        "## Training loops\n",
        "\n",
        "Now put this all together to build a basic model and train it from scratch.\n",
        "\n",
        "First, create some example data. This generates a cloud of points that loosely follows a quadratic curve:"
      ]
    },
    {
      "cell_type": "code",
      "execution_count": 83,
      "metadata": {
        "id": "VcuFr7KPRPzn"
      },
      "outputs": [],
      "source": [
        "import matplotlib\n",
        "from matplotlib import pyplot as plt\n",
        "\n",
        "#controls the figure size. This way we can configure it throughout the session for every figure generated using \n",
        "#matplotlib\n",
        "matplotlib.rcParams['figure.figsize'] = [3, 3]"
      ]
    },
    {
      "cell_type": "code",
      "source": [
        "#               from, to, how many \n",
        "# how many determines the spacing between the two extremities\n",
        "# equivalent to other python functions\n",
        "#x = tf.linspace(-2, 2, 201)\n",
        "\n",
        "#generates 201 random numbers and follows a normal distribution\n",
        "#tf.random.normal(shape=[201])"
      ],
      "metadata": {
        "id": "OWClfHGQqkGl"
      },
      "execution_count": 84,
      "outputs": []
    },
    {
      "cell_type": "code",
      "execution_count": 85,
      "metadata": {
        "id": "sXN9E_xf-GiP",
        "colab": {
          "base_uri": "https://localhost:8080/",
          "height": 291
        },
        "outputId": "f45522a9-94aa-48d7-e45f-dfe139be60c9"
      },
      "outputs": [
        {
          "output_type": "display_data",
          "data": {
            "text/plain": [
              "<Figure size 300x300 with 1 Axes>"
            ],
            "image/png": "[encoded data removed]"
          },
          "metadata": {}
        }
      ],
      "source": [
        "x = tf.linspace(-2, 2, 201)\n",
        "x = tf.cast(x, tf.float32)\n",
        "\n",
        "def f(x):\n",
        "  y = x**2 + 2*x - 5\n",
        "  return y\n",
        "\n",
        "# this is done to introduce the jiterriness\n",
        "y = f(x) + tf.random.normal(shape=[201])\n",
        "\n",
        "plt.plot(x.numpy(), y.numpy(), '.', label='Data')\n",
        "plt.plot(x, f(x), label='Ground truth')\n",
        "plt.legend();"
      ]
    },
    {
      "cell_type": "markdown",
      "metadata": {
        "id": "De5LldboSWcW"
      },
      "source": [
        "Create a quadratic model with randomly initialized weights and a bias:"
      ]
    },
    {
      "cell_type": "code",
      "execution_count": 86,
      "metadata": {
        "id": "Pypd0GB4SRhf",
        "colab": {
          "base_uri": "https://localhost:8080/",
          "height": 87
        },
        "outputId": "44ef7cda-39c9-44ca-af9f-d5f02eb4d571"
      },
      "outputs": [
        {
          "output_type": "execute_result",
          "data": {
            "text/plain": [
              "'\\nclass Model(tf.Module):\\n\\n  def __init__(self):\\n    # Randomly generate weight and bias terms\\n    rand_init = tf.random.uniform(shape=[3], minval=0., maxval=5., seed=22)\\n    # Initialize model parameters\\n    self.w_q = tf.Variable(rand_init[0])\\n    self.w_l = tf.Variable(rand_init[1])\\n    self.b = tf.Variable(rand_init[2])\\n  \\n  @tf.function\\n  def __call__(self, x):\\n    # Quadratic Model : quadratic_weight * x^2 + linear_weight * x + bias\\n    return self.w_q * (x**2) + self.w_l * x + self.b\\n'"
            ],
            "application/vnd.google.colaboratory.intrinsic+json": {
              "type": "string"
            }
          },
          "metadata": {},
          "execution_count": 86
        }
      ],
      "source": [
        "'''\n",
        "class Model(tf.Module):\n",
        "\n",
        "  def __init__(self):\n",
        "    # Randomly generate weight and bias terms\n",
        "    rand_init = tf.random.uniform(shape=[3], minval=0., maxval=5., seed=22)\n",
        "    # Initialize model parameters\n",
        "    self.w_q = tf.Variable(rand_init[0])\n",
        "    self.w_l = tf.Variable(rand_init[1])\n",
        "    self.b = tf.Variable(rand_init[2])\n",
        "  \n",
        "  @tf.function\n",
        "  def __call__(self, x):\n",
        "    # Quadratic Model : quadratic_weight * x^2 + linear_weight * x + bias\n",
        "    return self.w_q * (x**2) + self.w_l * x + self.b\n",
        "'''    "
      ]
    },
    {
      "cell_type": "code",
      "source": [
        "class Model(tf.Module):\n",
        "  def __init__(self, name=None):\n",
        "    super().__init__(name)\n",
        "    self.initialized=tf.random.uniform([3],0.0,5.0)\n",
        "    # without tf.Variables model will not be able to update weights. \n",
        "    self.w_q2=tf.Variable(self.initialized[0])\n",
        "    self.w_q1=tf.Variable(self.initialized[1])\n",
        "    self.b=tf.Variable(self.initialized[2])\n",
        "  @tf.function\n",
        "  def __call__(self,x):\n",
        "    return self.w_q2*(x**2) + self.w_q1*x +self.b"
      ],
      "metadata": {
        "id": "qQccJ3kQtfjm"
      },
      "execution_count": 87,
      "outputs": []
    },
    {
      "cell_type": "markdown",
      "metadata": {
        "id": "36o7VjaesScg"
      },
      "source": [
        "First, observe your model's performance before training:"
      ]
    },
    {
      "cell_type": "code",
      "execution_count": 88,
      "metadata": {
        "id": "GkwToC5BWV1c"
      },
      "outputs": [],
      "source": [
        "quad_model = Model()"
      ]
    },
    {
      "cell_type": "code",
      "source": [
        "quad_model.variables"
      ],
      "metadata": {
        "colab": {
          "base_uri": "https://localhost:8080/"
        },
        "id": "UvT303pp54L1",
        "outputId": "08d965d4-2d93-4d4f-a62e-e359c5f92f51"
      },
      "execution_count": 89,
      "outputs": [
        {
          "output_type": "execute_result",
          "data": {
            "text/plain": [
              "(<tf.Variable 'Variable:0' shape=() dtype=float32, numpy=3.4592354>,\n",
              " <tf.Variable 'Variable:0' shape=() dtype=float32, numpy=1.6973615>,\n",
              " <tf.Variable 'Variable:0' shape=() dtype=float32, numpy=1.8598443>)"
            ]
          },
          "metadata": {},
          "execution_count": 89
        }
      ]
    },
    {
      "cell_type": "code",
      "source": [
        "t_v=quad_model.variables[0]\n",
        "# to show that assigning variables like this is just an update to the pointer\n",
        "t_v.assign_sub(2.0)"
      ],
      "metadata": {
        "colab": {
          "base_uri": "https://localhost:8080/"
        },
        "id": "r5brnUxZJrMs",
        "outputId": "77dc780f-f122-4d1b-9b54-250acdccaef5"
      },
      "execution_count": 90,
      "outputs": [
        {
          "output_type": "execute_result",
          "data": {
            "text/plain": [
              "<tf.Variable 'UnreadVariable' shape=() dtype=float32, numpy=1.4592354>"
            ]
          },
          "metadata": {},
          "execution_count": 90
        }
      ]
    },
    {
      "cell_type": "markdown",
      "source": [
        "## Initial random weights:"
      ],
      "metadata": {
        "id": "BpIs45_DNRDG"
      }
    },
    {
      "cell_type": "code",
      "source": [
        "#changes take place here as well. This is optimal since later in the notebook when we will do \n",
        "# weight updates it will be very useful\n",
        "\n",
        "quad_model.variables"
      ],
      "metadata": {
        "colab": {
          "base_uri": "https://localhost:8080/"
        },
        "id": "DTRHQXmVKl8L",
        "outputId": "8a375218-e14b-407e-db4d-6babfbca7bfe"
      },
      "execution_count": 91,
      "outputs": [
        {
          "output_type": "execute_result",
          "data": {
            "text/plain": [
              "(<tf.Variable 'Variable:0' shape=() dtype=float32, numpy=1.4592354>,\n",
              " <tf.Variable 'Variable:0' shape=() dtype=float32, numpy=1.6973615>,\n",
              " <tf.Variable 'Variable:0' shape=() dtype=float32, numpy=1.8598443>)"
            ]
          },
          "metadata": {},
          "execution_count": 91
        }
      ]
    },
    {
      "cell_type": "code",
      "execution_count": 92,
      "metadata": {
        "id": "ReWhH40wTY5F"
      },
      "outputs": [],
      "source": [
        "def plot_preds(x, y, f, model, title):\n",
        "  plt.figure()\n",
        "  plt.plot(x, y, '.', label='Data')\n",
        "  plt.plot(x, f(x), label='Ground truth')\n",
        "  plt.plot(x, model(x), label='Predictions')\n",
        "  plt.title(title)\n",
        "  plt.legend()"
      ]
    },
    {
      "cell_type": "code",
      "execution_count": 93,
      "metadata": {
        "id": "Y0JtXQat-nlk",
        "colab": {
          "base_uri": "https://localhost:8080/",
          "height": 314
        },
        "outputId": "b4ccceed-4741-4927-e118-fa3641032490"
      },
      "outputs": [
        {
          "output_type": "display_data",
          "data": {
            "text/plain": [
              "<Figure size 300x300 with 1 Axes>"
            ],
            "image/png": "[encoded data removed]"
          },
          "metadata": {}
        }
      ],
      "source": [
        "plot_preds(x, y, f, quad_model, 'Before training')"
      ]
    },
    {
      "cell_type": "markdown",
      "metadata": {
        "id": "hLzwD0-ascGf"
      },
      "source": [
        "Now, define a loss for your model:\n",
        "\n",
        "Given that this model is intended to predict continuous values, the mean squared error (MSE) is a good choice for the loss function. Given a vector of predictions, $\\hat{y}$, and a vector of true targets, $y$, the MSE is defined as the mean of the squared differences between the predicted values and the ground truth.\n",
        "\n",
        "$MSE = \\frac{1}{m}\\sum_{i=1}^{m}(\\hat{y}_i -y_i)^2$"
      ]
    },
    {
      "cell_type": "code",
      "execution_count": 94,
      "metadata": {
        "id": "eCtJ1uuCseZd"
      },
      "outputs": [],
      "source": [
        "def mse_loss(y_pred, y):\n",
        "  return tf.reduce_mean(tf.square(y_pred - y))"
      ]
    },
    {
      "cell_type": "markdown",
      "metadata": {
        "id": "7EWyDu3zot2w"
      },
      "source": [
        "Write a basic training loop for the model. The loop will make use of the MSE loss function and its gradients with respect to the input in order to iteratively update the model's parameters. Using mini-batches for training provides both memory efficienciy and faster convergence. The `tf.data.Dataset` API has useful functions for batching and shuffling."
      ]
    },
    {
      "cell_type": "code",
      "execution_count": 95,
      "metadata": {
        "id": "8kX_-zily2Ia"
      },
      "outputs": [],
      "source": [
        "batch_size = 32\n",
        "# similar to a zip function\n",
        "\n",
        "dataset = tf.data.Dataset.from_tensor_slices((x, y))\n",
        "dataset = dataset.shuffle(buffer_size=x.shape[0]).batch(batch_size)"
      ]
    },
    {
      "cell_type": "code",
      "source": [
        "'''\n",
        "for index,elem in enumerate(dataset):\n",
        "  print(elem)\n",
        "'''"
      ],
      "metadata": {
        "colab": {
          "base_uri": "https://localhost:8080/",
          "height": 35
        },
        "id": "Eebngajm3UCN",
        "outputId": "d87e7312-acfa-4b80-a603-8acdb27bbb9d"
      },
      "execution_count": 96,
      "outputs": [
        {
          "output_type": "execute_result",
          "data": {
            "text/plain": [
              "'\\nfor index,elem in enumerate(dataset):\\n  print(elem)\\n'"
            ],
            "application/vnd.google.colaboratory.intrinsic+json": {
              "type": "string"
            }
          },
          "metadata": {},
          "execution_count": 96
        }
      ]
    },
    {
      "cell_type": "code",
      "source": [
        "'''\n",
        "for x_batch, y_batch in dataset:\n",
        "  print(\"x batch\",x_batch)\n",
        "  print(\"y batch\",y_batch)\n",
        "'''"
      ],
      "metadata": {
        "colab": {
          "base_uri": "https://localhost:8080/",
          "height": 35
        },
        "id": "KqownGl54_Mf",
        "outputId": "79289c4c-b216-4ed5-d75d-12a57b7c67b5"
      },
      "execution_count": 97,
      "outputs": [
        {
          "output_type": "execute_result",
          "data": {
            "text/plain": [
              "'\\nfor x_batch, y_batch in dataset:\\n  print(\"x batch\",x_batch)\\n  print(\"y batch\",y_batch)\\n'"
            ],
            "application/vnd.google.colaboratory.intrinsic+json": {
              "type": "string"
            }
          },
          "metadata": {},
          "execution_count": 97
        }
      ]
    },
    {
      "cell_type": "markdown",
      "source": [
        "## Change the learning rate to 1. You will notice that the algorithm is never able to converge. \n",
        "\n",
        "## Uncomment the print statements below to check how the weights are getting updated at each step"
      ],
      "metadata": {
        "id": "OktAlIdmQiWd"
      }
    },
    {
      "cell_type": "code",
      "execution_count": 98,
      "metadata": {
        "id": "nOaES5gyTDtG",
        "colab": {
          "base_uri": "https://localhost:8080/",
          "height": 559
        },
        "outputId": "b90f1219-d318-4ccc-a1c6-1bd49bb778a8"
      },
      "outputs": [
        {
          "output_type": "stream",
          "name": "stdout",
          "text": [
            "Mean squared error for step 0: 27.126\n",
            "Mean squared error for step 10: 4.668\n",
            "Mean squared error for step 20: 2.255\n",
            "Mean squared error for step 30: 1.428\n",
            "Mean squared error for step 40: 1.136\n",
            "Mean squared error for step 50: 1.033\n",
            "Mean squared error for step 60: 1.001\n",
            "Mean squared error for step 70: 0.989\n",
            "Mean squared error for step 80: 0.985\n",
            "Mean squared error for step 90: 0.984\n",
            "\n",
            "\n"
          ]
        },
        {
          "output_type": "execute_result",
          "data": {
            "text/plain": [
              "Text(0.5, 1.0, 'MSE loss vs training iterations')"
            ]
          },
          "metadata": {},
          "execution_count": 98
        },
        {
          "output_type": "display_data",
          "data": {
            "text/plain": [
              "<Figure size 300x300 with 1 Axes>"
            ],
            "image/png": "[encoded data removed]"
          },
          "metadata": {}
        }
      ],
      "source": [
        "# Set training parameters\n",
        "epochs = 100\n",
        "# learning_rate = 1\n",
        "learning_rate = 0.01\n",
        "losses = []\n",
        "\n",
        "# Format training loop\n",
        "for epoch in range(epochs):\n",
        "  for x_batch, y_batch in dataset:\n",
        "    with tf.GradientTape() as tape:\n",
        "      #y=f(x)\n",
        "      batch_loss = mse_loss(quad_model(x_batch), y_batch)\n",
        "      #print(\"Batch Loss\",batch_loss)\n",
        "    # Update parameters with respect to the gradient calculations\n",
        "    #dy/dx\n",
        "    grads = tape.gradient(batch_loss, quad_model.variables)\n",
        "    #print(\"Grads\",grads)\n",
        "    #print(\"Before upating\",quad_model.variables)\n",
        "    #print(grads)\n",
        "    for g,v in zip(grads, quad_model.variables):\n",
        "        # subtracting l*dy/dx. We want to move in the direction of minima based\n",
        "        #on the learning rate. We don't want to get caught by local minima\n",
        "        v.assign_sub(learning_rate*g)\n",
        "      #  print(\"After updating\",quad_model.variables)\n",
        "  # Keep track of model loss per epoch\n",
        "  # loss per each epoch\n",
        "  loss = mse_loss(quad_model(x), y)\n",
        "  losses.append(loss)\n",
        "  if epoch % 10 == 0:\n",
        "    print(f'Mean squared error for step {epoch}: {loss.numpy():0.3f}')\n",
        "\n",
        "# Plot model results\n",
        "print(\"\\n\")\n",
        "plt.plot(range(epochs), losses)\n",
        "plt.xlabel(\"Epoch\")\n",
        "plt.ylabel(\"Mean Squared Error (MSE)\")\n",
        "plt.title('MSE loss vs training iterations')"
      ]
    },
    {
      "cell_type": "markdown",
      "metadata": {
        "id": "dW5B2TTRsvxE"
      },
      "source": [
        "Now, observe your model's performance after training:"
      ]
    },
    {
      "cell_type": "code",
      "execution_count": 99,
      "metadata": {
        "id": "Qcvzyg3eYLh8",
        "colab": {
          "base_uri": "https://localhost:8080/",
          "height": 314
        },
        "outputId": "56895df2-63e5-4db7-f313-ce968f9cfed7"
      },
      "outputs": [
        {
          "output_type": "display_data",
          "data": {
            "text/plain": [
              "<Figure size 300x300 with 1 Axes>"
            ],
            "image/png": "[encoded data removed]"
          },
          "metadata": {}
        }
      ],
      "source": [
        "plot_preds(x, y, f, quad_model, 'After training')"
      ]
    },
    {
      "cell_type": "markdown",
      "source": [
        "## After final update, the weights are now as follows:"
      ],
      "metadata": {
        "id": "gNog80wGNEP3"
      }
    },
    {
      "cell_type": "code",
      "source": [
        "\n",
        "quad_model.variables"
      ],
      "metadata": {
        "colab": {
          "base_uri": "https://localhost:8080/"
        },
        "id": "pe5fKT1kMsSq",
        "outputId": "e97172e8-4312-43ff-9424-b1bc72febd8a"
      },
      "execution_count": 100,
      "outputs": [
        {
          "output_type": "execute_result",
          "data": {
            "text/plain": [
              "(<tf.Variable 'Variable:0' shape=() dtype=float32, numpy=-5.1084237>,\n",
              " <tf.Variable 'Variable:0' shape=() dtype=float32, numpy=2.0037322>,\n",
              " <tf.Variable 'Variable:0' shape=() dtype=float32, numpy=1.0393754>)"
            ]
          },
          "metadata": {},
          "execution_count": 100
        }
      ]
    },
    {
      "cell_type": "markdown",
      "metadata": {
        "id": "hbtmFJIXb6qm"
      },
      "source": [
        "That's working, but remember that implementations of common training utilities are available in the `tf.keras` module. So, consider using those before writing your own. To start with, the `Model.compile` and `Model.fit` methods implement a training loop for you:"
      ]
    },
    {
      "cell_type": "markdown",
      "metadata": {
        "id": "cjx23MiztFmT"
      },
      "source": [
        "Begin by creating a Sequential Model in Keras using `tf.keras.Sequential`. One of the simplest Keras layers is the dense layer, which can be instantiated with `tf.keras.layers.Dense`. The dense layer is able to learn multidimensional linear relationships of the form $\\mathrm{Y} = \\mathrm{W}\\mathrm{X} +  \\vec{b}$. In order to learn a nonlinear equation of the form, $w_1x^2 + w_2x + b$, the dense layer's input should be a data matrix with $x^2$ and $x$ as features. The lambda layer, `tf.keras.layers.Lambda`, can be used to perform this stacking transformation."
      ]
    },
    {
      "cell_type": "markdown",
      "source": [
        "Usually subclassing a layer is preferrable rather than using Lambda Layers. Please see the help on Lambda by copy-pasting the below code\n",
        "\n",
        "***help(tf.keras.layers.Lambda)***"
      ],
      "metadata": {
        "id": "O8cPU-D0ZI9s"
      }
    },
    {
      "cell_type": "code",
      "execution_count": 101,
      "metadata": {
        "id": "5rt8HP2TZhEM"
      },
      "outputs": [],
      "source": [
        "new_model = tf.keras.Sequential([\n",
        "    tf.keras.layers.Lambda(lambda x: tf.stack([x, x**2], axis=1)),\n",
        "    tf.keras.layers.Dense(units=1, kernel_initializer=tf.random.normal)])\n",
        "    # Need to understand from where the weights are being initialized. It could be the property of the parent class\n",
        "    #which could not be overrided\n",
        "    #tf.keras.layers.Dense(units=1,kernel_initializer=None)])"
      ]
    },
    {
      "cell_type": "code",
      "source": [
        "#Error without calling build , or call or compile\n",
        "#new_model.trainable_variables\n",
        "\n",
        "\n",
        "\n",
        "#Compared to previous model here we are \n",
        "\n",
        "# 1. Setting the loss function\n",
        "# 2. How the gradients will be computed\n",
        "new_model.compile(loss=tf.keras.losses.MSE,optimizer=tf.keras.optimizers.SGD(learning_rate=0.01))\n"
      ],
      "metadata": {
        "id": "GII6ySAPcX2c"
      },
      "execution_count": 102,
      "outputs": []
    },
    {
      "cell_type": "markdown",
      "source": [
        "Uncomment to see how weights are initialized"
      ],
      "metadata": {
        "id": "Lb4hx2xve3Sw"
      }
    },
    {
      "cell_type": "code",
      "source": [
        "#new_model.build(input_shape=(None,3))\n",
        "#new_model.trainable_variables"
      ],
      "metadata": {
        "id": "FhnYJOdPdku8"
      },
      "execution_count": 103,
      "outputs": []
    },
    {
      "cell_type": "code",
      "execution_count": 104,
      "metadata": {
        "id": "73kCo1BtP3rQ",
        "colab": {
          "base_uri": "https://localhost:8080/"
        },
        "outputId": "678f4d4d-64f2-4866-b519-f0b4dbfa83ba"
      },
      "outputs": [
        {
          "output_type": "stream",
          "name": "stdout",
          "text": [
            "Epoch 1/50\n",
            "7/7 [==============================] - 0s 4ms/step - loss: 15.6859\n",
            "Epoch 2/50\n",
            "7/7 [==============================] - 0s 2ms/step - loss: 13.5981\n",
            "Epoch 3/50\n",
            "7/7 [==============================] - 0s 3ms/step - loss: 11.9034\n",
            "Epoch 4/50\n",
            "7/7 [==============================] - 0s 3ms/step - loss: 10.5158\n",
            "Epoch 5/50\n",
            "7/7 [==============================] - 0s 2ms/step - loss: 9.3146\n",
            "Epoch 6/50\n",
            "7/7 [==============================] - 0s 3ms/step - loss: 8.3601\n",
            "Epoch 7/50\n",
            "7/7 [==============================] - 0s 2ms/step - loss: 7.5079\n",
            "Epoch 8/50\n",
            "7/7 [==============================] - 0s 2ms/step - loss: 6.7987\n",
            "Epoch 9/50\n",
            "7/7 [==============================] - 0s 2ms/step - loss: 6.1639\n",
            "Epoch 10/50\n",
            "7/7 [==============================] - 0s 2ms/step - loss: 5.6073\n",
            "Epoch 11/50\n",
            "7/7 [==============================] - 0s 3ms/step - loss: 5.1313\n",
            "Epoch 12/50\n",
            "7/7 [==============================] - 0s 3ms/step - loss: 4.7312\n",
            "Epoch 13/50\n",
            "7/7 [==============================] - 0s 2ms/step - loss: 4.3387\n",
            "Epoch 14/50\n",
            "7/7 [==============================] - 0s 2ms/step - loss: 4.0107\n",
            "Epoch 15/50\n",
            "7/7 [==============================] - 0s 2ms/step - loss: 3.7052\n",
            "Epoch 16/50\n",
            "7/7 [==============================] - 0s 3ms/step - loss: 3.4311\n",
            "Epoch 17/50\n",
            "7/7 [==============================] - 0s 3ms/step - loss: 3.1869\n",
            "Epoch 18/50\n",
            "7/7 [==============================] - 0s 3ms/step - loss: 2.9526\n",
            "Epoch 19/50\n",
            "7/7 [==============================] - 0s 4ms/step - loss: 2.7532\n",
            "Epoch 20/50\n",
            "7/7 [==============================] - 0s 2ms/step - loss: 2.5826\n",
            "Epoch 21/50\n",
            "7/7 [==============================] - 0s 3ms/step - loss: 2.4291\n",
            "Epoch 22/50\n",
            "7/7 [==============================] - 0s 4ms/step - loss: 2.2879\n",
            "Epoch 23/50\n",
            "7/7 [==============================] - 0s 2ms/step - loss: 2.1585\n",
            "Epoch 24/50\n",
            "7/7 [==============================] - 0s 2ms/step - loss: 2.0392\n",
            "Epoch 25/50\n",
            "7/7 [==============================] - 0s 3ms/step - loss: 1.9408\n",
            "Epoch 26/50\n",
            "7/7 [==============================] - 0s 3ms/step - loss: 1.8516\n",
            "Epoch 27/50\n",
            "7/7 [==============================] - 0s 3ms/step - loss: 1.7649\n",
            "Epoch 28/50\n",
            "7/7 [==============================] - 0s 2ms/step - loss: 1.6837\n",
            "Epoch 29/50\n",
            "7/7 [==============================] - 0s 3ms/step - loss: 1.6116\n",
            "Epoch 30/50\n",
            "7/7 [==============================] - 0s 3ms/step - loss: 1.5443\n",
            "Epoch 31/50\n",
            "7/7 [==============================] - 0s 4ms/step - loss: 1.4901\n",
            "Epoch 32/50\n",
            "7/7 [==============================] - 0s 3ms/step - loss: 1.4367\n",
            "Epoch 33/50\n",
            "7/7 [==============================] - 0s 3ms/step - loss: 1.3938\n",
            "Epoch 34/50\n",
            "7/7 [==============================] - 0s 4ms/step - loss: 1.3509\n",
            "Epoch 35/50\n",
            "7/7 [==============================] - 0s 3ms/step - loss: 1.3215\n",
            "Epoch 36/50\n",
            "7/7 [==============================] - 0s 3ms/step - loss: 1.2817\n",
            "Epoch 37/50\n",
            "7/7 [==============================] - 0s 3ms/step - loss: 1.2478\n",
            "Epoch 38/50\n",
            "7/7 [==============================] - 0s 3ms/step - loss: 1.2211\n",
            "Epoch 39/50\n",
            "7/7 [==============================] - 0s 3ms/step - loss: 1.1979\n",
            "Epoch 40/50\n",
            "7/7 [==============================] - 0s 3ms/step - loss: 1.1783\n",
            "Epoch 41/50\n",
            "7/7 [==============================] - 0s 3ms/step - loss: 1.1620\n",
            "Epoch 42/50\n",
            "7/7 [==============================] - 0s 3ms/step - loss: 1.1420\n",
            "Epoch 43/50\n",
            "7/7 [==============================] - 0s 3ms/step - loss: 1.1276\n",
            "Epoch 44/50\n",
            "7/7 [==============================] - 0s 3ms/step - loss: 1.1164\n",
            "Epoch 45/50\n",
            "7/7 [==============================] - 0s 3ms/step - loss: 1.0987\n",
            "Epoch 46/50\n",
            "7/7 [==============================] - 0s 3ms/step - loss: 1.0889\n",
            "Epoch 47/50\n",
            "7/7 [==============================] - 0s 2ms/step - loss: 1.0808\n",
            "Epoch 48/50\n",
            "7/7 [==============================] - 0s 3ms/step - loss: 1.0701\n",
            "Epoch 49/50\n",
            "7/7 [==============================] - 0s 3ms/step - loss: 1.0622\n",
            "Epoch 50/50\n",
            "7/7 [==============================] - 0s 3ms/step - loss: 1.0526\n"
          ]
        },
        {
          "output_type": "stream",
          "name": "stderr",
          "text": [
            "WARNING:absl:Found untraced functions such as _update_step_xla while saving (showing 1 of 1). These functions will not be directly callable after loading.\n"
          ]
        }
      ],
      "source": [
        "# Compared to the previous model here we are \n",
        "\n",
        "# 1. Running a for loop over the batch. No need to create the dataset\n",
        "# 2. Running several epochs\n",
        "# 3. Fit basically means updating the gradients to find the optimum weight\n",
        "\n",
        "history = new_model.fit(x, y,\n",
        "                        epochs=50,\n",
        "                        batch_size=32,\n",
        "                        verbose=1)\n",
        "\n",
        "new_model.save('./my_new_model')"
      ]
    },
    {
      "cell_type": "markdown",
      "metadata": {
        "id": "u3q5d1SzvzTq"
      },
      "source": [
        "Observe your Keras model's performance after training:"
      ]
    },
    {
      "cell_type": "code",
      "execution_count": 105,
      "metadata": {
        "id": "Mo7zRV7XZjv7",
        "colab": {
          "base_uri": "https://localhost:8080/",
          "height": 333
        },
        "outputId": "b8f6c35f-a887-417f-e813-007fae4a5633"
      },
      "outputs": [
        {
          "output_type": "display_data",
          "data": {
            "text/plain": [
              "<Figure size 300x300 with 1 Axes>"
            ],
            "image/png": "[encoded data removed]"
          },
          "metadata": {}
        }
      ],
      "source": [
        "plt.plot(history.history['loss'])\n",
        "plt.xlabel('Epoch')\n",
        "plt.ylim([0, max(plt.ylim())])\n",
        "plt.ylabel('Loss [Mean Squared Error]')\n",
        "plt.title('Keras training progress');"
      ]
    },
    {
      "cell_type": "code",
      "execution_count": 106,
      "metadata": {
        "id": "bB44a9YsvnfK",
        "colab": {
          "base_uri": "https://localhost:8080/",
          "height": 314
        },
        "outputId": "649c511e-6308-4477-e8bc-3be69a4801db"
      },
      "outputs": [
        {
          "output_type": "display_data",
          "data": {
            "text/plain": [
              "<Figure size 300x300 with 1 Axes>"
            ],
            "image/png": "[encoded data removed]"
          },
          "metadata": {}
        }
      ],
      "source": [
        "plot_preds(x, y, f, new_model, 'After Training: Keras')"
      ]
    },
    {
      "cell_type": "markdown",
      "source": [
        "### My learnings from this \n",
        "\n",
        "\n",
        "1. Create a neural network and have some layers\n",
        "2. Update weights based on some loss function\n",
        "3. Use the keras functionality and it will take care of updating weights\n"
      ],
      "metadata": {
        "id": "RO_rPlw7VL8Y"
      }
    }
  ],
  "metadata": {
    "colab": {
      "provenance": [],
      "include_colab_link": true
    },
    "kernelspec": {
      "display_name": "Python 3",
      "name": "python3"
    }
  },
  "nbformat": 4,
  "nbformat_minor": 0
}