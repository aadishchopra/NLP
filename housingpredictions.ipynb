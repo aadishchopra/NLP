{
 "cells": [
  {
   "cell_type": "markdown",
   "id": "99e14c6d",
   "metadata": {
    "papermill": {
     "duration": 0.008494,
     "end_time": "2023-05-03T22:05:24.241530",
     "exception": false,
     "start_time": "2023-05-03T22:05:24.233036",
     "status": "completed"
    },
    "tags": []
   },
   "source": [
    "## Steps I am planning \n",
    "\n",
    "1. EDA\n",
    "2. Checking data type of columns\n",
    "3. Measuring correlation\n",
    "4. Doing univariate and bivariate analysis"
   ]
  },
  {
   "cell_type": "markdown",
   "id": "3a44ee72",
   "metadata": {
    "papermill": {
     "duration": 0.007102,
     "end_time": "2023-05-03T22:05:24.256179",
     "exception": false,
     "start_time": "2023-05-03T22:05:24.249077",
     "status": "completed"
    },
    "tags": []
   },
   "source": [
    "#### Install package dependencies"
   ]
  },
  {
   "cell_type": "code",
   "execution_count": 1,
   "id": "1d33ead5",
   "metadata": {
    "execution": {
     "iopub.execute_input": "2023-05-03T22:05:24.272663Z",
     "iopub.status.busy": "2023-05-03T22:05:24.272162Z",
     "iopub.status.idle": "2023-05-03T22:05:34.010377Z",
     "shell.execute_reply": "2023-05-03T22:05:34.009267Z"
    },
    "papermill": {
     "duration": 9.749653,
     "end_time": "2023-05-03T22:05:34.013048",
     "exception": false,
     "start_time": "2023-05-03T22:05:24.263395",
     "status": "completed"
    },
    "tags": []
   },
   "outputs": [],
   "source": [
    "import numpy as np\n",
    "import pandas as pd\n",
    "from matplotlib import pyplot as plt\n",
    "import seaborn as sns\n",
    "from pandas_profiling import ProfileReport\n",
    "from sklearn import preprocessing\n",
    "import tensorflow as tf\n",
    "from sklearn.experimental import enable_iterative_imputer\n",
    "from sklearn.impute import IterativeImputer\n",
    "from sklearn.model_selection import train_test_split"
   ]
  },
  {
   "cell_type": "code",
   "execution_count": 2,
   "id": "4e775ca9",
   "metadata": {
    "_cell_guid": "b1076dfc-b9ad-4769-8c92-a6c4dae69d19",
    "_uuid": "8f2839f25d086af736a60e9eeb907d3b93b6e0e5",
    "execution": {
     "iopub.execute_input": "2023-05-03T22:05:34.029587Z",
     "iopub.status.busy": "2023-05-03T22:05:34.028899Z",
     "iopub.status.idle": "2023-05-03T22:05:34.063836Z",
     "shell.execute_reply": "2023-05-03T22:05:34.062944Z"
    },
    "papermill": {
     "duration": 0.045546,
     "end_time": "2023-05-03T22:05:34.066178",
     "exception": false,
     "start_time": "2023-05-03T22:05:34.020632",
     "status": "completed"
    },
    "tags": []
   },
   "outputs": [],
   "source": [
    "df=pd.read_csv('/kaggle/input/house-prices-advanced-regression-techniques/train.csv')"
   ]
  },
  {
   "cell_type": "code",
   "execution_count": 3,
   "id": "cedfaf3b",
   "metadata": {
    "execution": {
     "iopub.execute_input": "2023-05-03T22:05:34.083291Z",
     "iopub.status.busy": "2023-05-03T22:05:34.081574Z",
     "iopub.status.idle": "2023-05-03T22:05:34.111464Z",
     "shell.execute_reply": "2023-05-03T22:05:34.110481Z"
    },
    "papermill": {
     "duration": 0.040739,
     "end_time": "2023-05-03T22:05:34.114096",
     "exception": false,
     "start_time": "2023-05-03T22:05:34.073357",
     "status": "completed"
    },
    "tags": []
   },
   "outputs": [
    {
     "data": {
      "text/html": [
       "<div>\n",
       "<style scoped>\n",
       "    .dataframe tbody tr th:only-of-type {\n",
       "        vertical-align: middle;\n",
       "    }\n",
       "\n",
       "    .dataframe tbody tr th {\n",
       "        vertical-align: top;\n",
       "    }\n",
       "\n",
       "    .dataframe thead th {\n",
       "        text-align: right;\n",
       "    }\n",
       "</style>\n",
       "<table border=\"1\" class=\"dataframe\">\n",
       "  <thead>\n",
       "    <tr style=\"text-align: right;\">\n",
       "      <th></th>\n",
       "      <th>Id</th>\n",
       "      <th>MSSubClass</th>\n",
       "      <th>MSZoning</th>\n",
       "      <th>LotFrontage</th>\n",
       "      <th>LotArea</th>\n",
       "      <th>Street</th>\n",
       "      <th>Alley</th>\n",
       "      <th>LotShape</th>\n",
       "      <th>LandContour</th>\n",
       "      <th>Utilities</th>\n",
       "      <th>...</th>\n",
       "      <th>PoolArea</th>\n",
       "      <th>PoolQC</th>\n",
       "      <th>Fence</th>\n",
       "      <th>MiscFeature</th>\n",
       "      <th>MiscVal</th>\n",
       "      <th>MoSold</th>\n",
       "      <th>YrSold</th>\n",
       "      <th>SaleType</th>\n",
       "      <th>SaleCondition</th>\n",
       "      <th>SalePrice</th>\n",
       "    </tr>\n",
       "  </thead>\n",
       "  <tbody>\n",
       "    <tr>\n",
       "      <th>0</th>\n",
       "      <td>1</td>\n",
       "      <td>60</td>\n",
       "      <td>RL</td>\n",
       "      <td>65.0</td>\n",
       "      <td>8450</td>\n",
       "      <td>Pave</td>\n",
       "      <td>NaN</td>\n",
       "      <td>Reg</td>\n",
       "      <td>Lvl</td>\n",
       "      <td>AllPub</td>\n",
       "      <td>...</td>\n",
       "      <td>0</td>\n",
       "      <td>NaN</td>\n",
       "      <td>NaN</td>\n",
       "      <td>NaN</td>\n",
       "      <td>0</td>\n",
       "      <td>2</td>\n",
       "      <td>2008</td>\n",
       "      <td>WD</td>\n",
       "      <td>Normal</td>\n",
       "      <td>208500</td>\n",
       "    </tr>\n",
       "    <tr>\n",
       "      <th>1</th>\n",
       "      <td>2</td>\n",
       "      <td>20</td>\n",
       "      <td>RL</td>\n",
       "      <td>80.0</td>\n",
       "      <td>9600</td>\n",
       "      <td>Pave</td>\n",
       "      <td>NaN</td>\n",
       "      <td>Reg</td>\n",
       "      <td>Lvl</td>\n",
       "      <td>AllPub</td>\n",
       "      <td>...</td>\n",
       "      <td>0</td>\n",
       "      <td>NaN</td>\n",
       "      <td>NaN</td>\n",
       "      <td>NaN</td>\n",
       "      <td>0</td>\n",
       "      <td>5</td>\n",
       "      <td>2007</td>\n",
       "      <td>WD</td>\n",
       "      <td>Normal</td>\n",
       "      <td>181500</td>\n",
       "    </tr>\n",
       "    <tr>\n",
       "      <th>2</th>\n",
       "      <td>3</td>\n",
       "      <td>60</td>\n",
       "      <td>RL</td>\n",
       "      <td>68.0</td>\n",
       "      <td>11250</td>\n",
       "      <td>Pave</td>\n",
       "      <td>NaN</td>\n",
       "      <td>IR1</td>\n",
       "      <td>Lvl</td>\n",
       "      <td>AllPub</td>\n",
       "      <td>...</td>\n",
       "      <td>0</td>\n",
       "      <td>NaN</td>\n",
       "      <td>NaN</td>\n",
       "      <td>NaN</td>\n",
       "      <td>0</td>\n",
       "      <td>9</td>\n",
       "      <td>2008</td>\n",
       "      <td>WD</td>\n",
       "      <td>Normal</td>\n",
       "      <td>223500</td>\n",
       "    </tr>\n",
       "    <tr>\n",
       "      <th>3</th>\n",
       "      <td>4</td>\n",
       "      <td>70</td>\n",
       "      <td>RL</td>\n",
       "      <td>60.0</td>\n",
       "      <td>9550</td>\n",
       "      <td>Pave</td>\n",
       "      <td>NaN</td>\n",
       "      <td>IR1</td>\n",
       "      <td>Lvl</td>\n",
       "      <td>AllPub</td>\n",
       "      <td>...</td>\n",
       "      <td>0</td>\n",
       "      <td>NaN</td>\n",
       "      <td>NaN</td>\n",
       "      <td>NaN</td>\n",
       "      <td>0</td>\n",
       "      <td>2</td>\n",
       "      <td>2006</td>\n",
       "      <td>WD</td>\n",
       "      <td>Abnorml</td>\n",
       "      <td>140000</td>\n",
       "    </tr>\n",
       "    <tr>\n",
       "      <th>4</th>\n",
       "      <td>5</td>\n",
       "      <td>60</td>\n",
       "      <td>RL</td>\n",
       "      <td>84.0</td>\n",
       "      <td>14260</td>\n",
       "      <td>Pave</td>\n",
       "      <td>NaN</td>\n",
       "      <td>IR1</td>\n",
       "      <td>Lvl</td>\n",
       "      <td>AllPub</td>\n",
       "      <td>...</td>\n",
       "      <td>0</td>\n",
       "      <td>NaN</td>\n",
       "      <td>NaN</td>\n",
       "      <td>NaN</td>\n",
       "      <td>0</td>\n",
       "      <td>12</td>\n",
       "      <td>2008</td>\n",
       "      <td>WD</td>\n",
       "      <td>Normal</td>\n",
       "      <td>250000</td>\n",
       "    </tr>\n",
       "  </tbody>\n",
       "</table>\n",
       "<p>5 rows × 81 columns</p>\n",
       "</div>"
      ],
      "text/plain": [
       "   Id  MSSubClass MSZoning  LotFrontage  LotArea Street Alley LotShape  \\\n",
       "0   1          60       RL         65.0     8450   Pave   NaN      Reg   \n",
       "1   2          20       RL         80.0     9600   Pave   NaN      Reg   \n",
       "2   3          60       RL         68.0    11250   Pave   NaN      IR1   \n",
       "3   4          70       RL         60.0     9550   Pave   NaN      IR1   \n",
       "4   5          60       RL         84.0    14260   Pave   NaN      IR1   \n",
       "\n",
       "  LandContour Utilities  ... PoolArea PoolQC Fence MiscFeature MiscVal MoSold  \\\n",
       "0         Lvl    AllPub  ...        0    NaN   NaN         NaN       0      2   \n",
       "1         Lvl    AllPub  ...        0    NaN   NaN         NaN       0      5   \n",
       "2         Lvl    AllPub  ...        0    NaN   NaN         NaN       0      9   \n",
       "3         Lvl    AllPub  ...        0    NaN   NaN         NaN       0      2   \n",
       "4         Lvl    AllPub  ...        0    NaN   NaN         NaN       0     12   \n",
       "\n",
       "  YrSold  SaleType  SaleCondition  SalePrice  \n",
       "0   2008        WD         Normal     208500  \n",
       "1   2007        WD         Normal     181500  \n",
       "2   2008        WD         Normal     223500  \n",
       "3   2006        WD        Abnorml     140000  \n",
       "4   2008        WD         Normal     250000  \n",
       "\n",
       "[5 rows x 81 columns]"
      ]
     },
     "execution_count": 3,
     "metadata": {},
     "output_type": "execute_result"
    }
   ],
   "source": [
    "df.head()"
   ]
  },
  {
   "cell_type": "markdown",
   "id": "24ce80cd",
   "metadata": {
    "papermill": {
     "duration": 0.008441,
     "end_time": "2023-05-03T22:05:34.130166",
     "exception": false,
     "start_time": "2023-05-03T22:05:34.121725",
     "status": "completed"
    },
    "tags": []
   },
   "source": [
    "### EDA\n",
    "\n",
    "1. Check data types\n",
    "2. Check nulls\n"
   ]
  },
  {
   "cell_type": "code",
   "execution_count": 4,
   "id": "9da9de9b",
   "metadata": {
    "execution": {
     "iopub.execute_input": "2023-05-03T22:05:34.146187Z",
     "iopub.status.busy": "2023-05-03T22:05:34.145910Z",
     "iopub.status.idle": "2023-05-03T22:05:34.245195Z",
     "shell.execute_reply": "2023-05-03T22:05:34.244263Z"
    },
    "papermill": {
     "duration": 0.109801,
     "end_time": "2023-05-03T22:05:34.247436",
     "exception": false,
     "start_time": "2023-05-03T22:05:34.137635",
     "status": "completed"
    },
    "tags": []
   },
   "outputs": [
    {
     "data": {
      "text/html": [
       "<div>\n",
       "<style scoped>\n",
       "    .dataframe tbody tr th:only-of-type {\n",
       "        vertical-align: middle;\n",
       "    }\n",
       "\n",
       "    .dataframe tbody tr th {\n",
       "        vertical-align: top;\n",
       "    }\n",
       "\n",
       "    .dataframe thead th {\n",
       "        text-align: right;\n",
       "    }\n",
       "</style>\n",
       "<table border=\"1\" class=\"dataframe\">\n",
       "  <thead>\n",
       "    <tr style=\"text-align: right;\">\n",
       "      <th></th>\n",
       "      <th>Id</th>\n",
       "      <th>MSSubClass</th>\n",
       "      <th>LotFrontage</th>\n",
       "      <th>LotArea</th>\n",
       "      <th>OverallQual</th>\n",
       "      <th>OverallCond</th>\n",
       "      <th>YearBuilt</th>\n",
       "      <th>YearRemodAdd</th>\n",
       "      <th>MasVnrArea</th>\n",
       "      <th>BsmtFinSF1</th>\n",
       "      <th>...</th>\n",
       "      <th>WoodDeckSF</th>\n",
       "      <th>OpenPorchSF</th>\n",
       "      <th>EnclosedPorch</th>\n",
       "      <th>3SsnPorch</th>\n",
       "      <th>ScreenPorch</th>\n",
       "      <th>PoolArea</th>\n",
       "      <th>MiscVal</th>\n",
       "      <th>MoSold</th>\n",
       "      <th>YrSold</th>\n",
       "      <th>SalePrice</th>\n",
       "    </tr>\n",
       "  </thead>\n",
       "  <tbody>\n",
       "    <tr>\n",
       "      <th>count</th>\n",
       "      <td>1460.000000</td>\n",
       "      <td>1460.000000</td>\n",
       "      <td>1201.000000</td>\n",
       "      <td>1460.000000</td>\n",
       "      <td>1460.000000</td>\n",
       "      <td>1460.000000</td>\n",
       "      <td>1460.000000</td>\n",
       "      <td>1460.000000</td>\n",
       "      <td>1452.000000</td>\n",
       "      <td>1460.000000</td>\n",
       "      <td>...</td>\n",
       "      <td>1460.000000</td>\n",
       "      <td>1460.000000</td>\n",
       "      <td>1460.000000</td>\n",
       "      <td>1460.000000</td>\n",
       "      <td>1460.000000</td>\n",
       "      <td>1460.000000</td>\n",
       "      <td>1460.000000</td>\n",
       "      <td>1460.000000</td>\n",
       "      <td>1460.000000</td>\n",
       "      <td>1460.000000</td>\n",
       "    </tr>\n",
       "    <tr>\n",
       "      <th>mean</th>\n",
       "      <td>730.500000</td>\n",
       "      <td>56.897260</td>\n",
       "      <td>70.049958</td>\n",
       "      <td>10516.828082</td>\n",
       "      <td>6.099315</td>\n",
       "      <td>5.575342</td>\n",
       "      <td>1971.267808</td>\n",
       "      <td>1984.865753</td>\n",
       "      <td>103.685262</td>\n",
       "      <td>443.639726</td>\n",
       "      <td>...</td>\n",
       "      <td>94.244521</td>\n",
       "      <td>46.660274</td>\n",
       "      <td>21.954110</td>\n",
       "      <td>3.409589</td>\n",
       "      <td>15.060959</td>\n",
       "      <td>2.758904</td>\n",
       "      <td>43.489041</td>\n",
       "      <td>6.321918</td>\n",
       "      <td>2007.815753</td>\n",
       "      <td>180921.195890</td>\n",
       "    </tr>\n",
       "    <tr>\n",
       "      <th>std</th>\n",
       "      <td>421.610009</td>\n",
       "      <td>42.300571</td>\n",
       "      <td>24.284752</td>\n",
       "      <td>9981.264932</td>\n",
       "      <td>1.382997</td>\n",
       "      <td>1.112799</td>\n",
       "      <td>30.202904</td>\n",
       "      <td>20.645407</td>\n",
       "      <td>181.066207</td>\n",
       "      <td>456.098091</td>\n",
       "      <td>...</td>\n",
       "      <td>125.338794</td>\n",
       "      <td>66.256028</td>\n",
       "      <td>61.119149</td>\n",
       "      <td>29.317331</td>\n",
       "      <td>55.757415</td>\n",
       "      <td>40.177307</td>\n",
       "      <td>496.123024</td>\n",
       "      <td>2.703626</td>\n",
       "      <td>1.328095</td>\n",
       "      <td>79442.502883</td>\n",
       "    </tr>\n",
       "    <tr>\n",
       "      <th>min</th>\n",
       "      <td>1.000000</td>\n",
       "      <td>20.000000</td>\n",
       "      <td>21.000000</td>\n",
       "      <td>1300.000000</td>\n",
       "      <td>1.000000</td>\n",
       "      <td>1.000000</td>\n",
       "      <td>1872.000000</td>\n",
       "      <td>1950.000000</td>\n",
       "      <td>0.000000</td>\n",
       "      <td>0.000000</td>\n",
       "      <td>...</td>\n",
       "      <td>0.000000</td>\n",
       "      <td>0.000000</td>\n",
       "      <td>0.000000</td>\n",
       "      <td>0.000000</td>\n",
       "      <td>0.000000</td>\n",
       "      <td>0.000000</td>\n",
       "      <td>0.000000</td>\n",
       "      <td>1.000000</td>\n",
       "      <td>2006.000000</td>\n",
       "      <td>34900.000000</td>\n",
       "    </tr>\n",
       "    <tr>\n",
       "      <th>25%</th>\n",
       "      <td>365.750000</td>\n",
       "      <td>20.000000</td>\n",
       "      <td>59.000000</td>\n",
       "      <td>7553.500000</td>\n",
       "      <td>5.000000</td>\n",
       "      <td>5.000000</td>\n",
       "      <td>1954.000000</td>\n",
       "      <td>1967.000000</td>\n",
       "      <td>0.000000</td>\n",
       "      <td>0.000000</td>\n",
       "      <td>...</td>\n",
       "      <td>0.000000</td>\n",
       "      <td>0.000000</td>\n",
       "      <td>0.000000</td>\n",
       "      <td>0.000000</td>\n",
       "      <td>0.000000</td>\n",
       "      <td>0.000000</td>\n",
       "      <td>0.000000</td>\n",
       "      <td>5.000000</td>\n",
       "      <td>2007.000000</td>\n",
       "      <td>129975.000000</td>\n",
       "    </tr>\n",
       "    <tr>\n",
       "      <th>50%</th>\n",
       "      <td>730.500000</td>\n",
       "      <td>50.000000</td>\n",
       "      <td>69.000000</td>\n",
       "      <td>9478.500000</td>\n",
       "      <td>6.000000</td>\n",
       "      <td>5.000000</td>\n",
       "      <td>1973.000000</td>\n",
       "      <td>1994.000000</td>\n",
       "      <td>0.000000</td>\n",
       "      <td>383.500000</td>\n",
       "      <td>...</td>\n",
       "      <td>0.000000</td>\n",
       "      <td>25.000000</td>\n",
       "      <td>0.000000</td>\n",
       "      <td>0.000000</td>\n",
       "      <td>0.000000</td>\n",
       "      <td>0.000000</td>\n",
       "      <td>0.000000</td>\n",
       "      <td>6.000000</td>\n",
       "      <td>2008.000000</td>\n",
       "      <td>163000.000000</td>\n",
       "    </tr>\n",
       "    <tr>\n",
       "      <th>75%</th>\n",
       "      <td>1095.250000</td>\n",
       "      <td>70.000000</td>\n",
       "      <td>80.000000</td>\n",
       "      <td>11601.500000</td>\n",
       "      <td>7.000000</td>\n",
       "      <td>6.000000</td>\n",
       "      <td>2000.000000</td>\n",
       "      <td>2004.000000</td>\n",
       "      <td>166.000000</td>\n",
       "      <td>712.250000</td>\n",
       "      <td>...</td>\n",
       "      <td>168.000000</td>\n",
       "      <td>68.000000</td>\n",
       "      <td>0.000000</td>\n",
       "      <td>0.000000</td>\n",
       "      <td>0.000000</td>\n",
       "      <td>0.000000</td>\n",
       "      <td>0.000000</td>\n",
       "      <td>8.000000</td>\n",
       "      <td>2009.000000</td>\n",
       "      <td>214000.000000</td>\n",
       "    </tr>\n",
       "    <tr>\n",
       "      <th>max</th>\n",
       "      <td>1460.000000</td>\n",
       "      <td>190.000000</td>\n",
       "      <td>313.000000</td>\n",
       "      <td>215245.000000</td>\n",
       "      <td>10.000000</td>\n",
       "      <td>9.000000</td>\n",
       "      <td>2010.000000</td>\n",
       "      <td>2010.000000</td>\n",
       "      <td>1600.000000</td>\n",
       "      <td>5644.000000</td>\n",
       "      <td>...</td>\n",
       "      <td>857.000000</td>\n",
       "      <td>547.000000</td>\n",
       "      <td>552.000000</td>\n",
       "      <td>508.000000</td>\n",
       "      <td>480.000000</td>\n",
       "      <td>738.000000</td>\n",
       "      <td>15500.000000</td>\n",
       "      <td>12.000000</td>\n",
       "      <td>2010.000000</td>\n",
       "      <td>755000.000000</td>\n",
       "    </tr>\n",
       "  </tbody>\n",
       "</table>\n",
       "<p>8 rows × 38 columns</p>\n",
       "</div>"
      ],
      "text/plain": [
       "                Id   MSSubClass  LotFrontage        LotArea  OverallQual  \\\n",
       "count  1460.000000  1460.000000  1201.000000    1460.000000  1460.000000   \n",
       "mean    730.500000    56.897260    70.049958   10516.828082     6.099315   \n",
       "std     421.610009    42.300571    24.284752    9981.264932     1.382997   \n",
       "min       1.000000    20.000000    21.000000    1300.000000     1.000000   \n",
       "25%     365.750000    20.000000    59.000000    7553.500000     5.000000   \n",
       "50%     730.500000    50.000000    69.000000    9478.500000     6.000000   \n",
       "75%    1095.250000    70.000000    80.000000   11601.500000     7.000000   \n",
       "max    1460.000000   190.000000   313.000000  215245.000000    10.000000   \n",
       "\n",
       "       OverallCond    YearBuilt  YearRemodAdd   MasVnrArea   BsmtFinSF1  ...  \\\n",
       "count  1460.000000  1460.000000   1460.000000  1452.000000  1460.000000  ...   \n",
       "mean      5.575342  1971.267808   1984.865753   103.685262   443.639726  ...   \n",
       "std       1.112799    30.202904     20.645407   181.066207   456.098091  ...   \n",
       "min       1.000000  1872.000000   1950.000000     0.000000     0.000000  ...   \n",
       "25%       5.000000  1954.000000   1967.000000     0.000000     0.000000  ...   \n",
       "50%       5.000000  1973.000000   1994.000000     0.000000   383.500000  ...   \n",
       "75%       6.000000  2000.000000   2004.000000   166.000000   712.250000  ...   \n",
       "max       9.000000  2010.000000   2010.000000  1600.000000  5644.000000  ...   \n",
       "\n",
       "        WoodDeckSF  OpenPorchSF  EnclosedPorch    3SsnPorch  ScreenPorch  \\\n",
       "count  1460.000000  1460.000000    1460.000000  1460.000000  1460.000000   \n",
       "mean     94.244521    46.660274      21.954110     3.409589    15.060959   \n",
       "std     125.338794    66.256028      61.119149    29.317331    55.757415   \n",
       "min       0.000000     0.000000       0.000000     0.000000     0.000000   \n",
       "25%       0.000000     0.000000       0.000000     0.000000     0.000000   \n",
       "50%       0.000000    25.000000       0.000000     0.000000     0.000000   \n",
       "75%     168.000000    68.000000       0.000000     0.000000     0.000000   \n",
       "max     857.000000   547.000000     552.000000   508.000000   480.000000   \n",
       "\n",
       "          PoolArea       MiscVal       MoSold       YrSold      SalePrice  \n",
       "count  1460.000000   1460.000000  1460.000000  1460.000000    1460.000000  \n",
       "mean      2.758904     43.489041     6.321918  2007.815753  180921.195890  \n",
       "std      40.177307    496.123024     2.703626     1.328095   79442.502883  \n",
       "min       0.000000      0.000000     1.000000  2006.000000   34900.000000  \n",
       "25%       0.000000      0.000000     5.000000  2007.000000  129975.000000  \n",
       "50%       0.000000      0.000000     6.000000  2008.000000  163000.000000  \n",
       "75%       0.000000      0.000000     8.000000  2009.000000  214000.000000  \n",
       "max     738.000000  15500.000000    12.000000  2010.000000  755000.000000  \n",
       "\n",
       "[8 rows x 38 columns]"
      ]
     },
     "execution_count": 4,
     "metadata": {},
     "output_type": "execute_result"
    }
   ],
   "source": [
    "df.describe()"
   ]
  },
  {
   "cell_type": "code",
   "execution_count": 5,
   "id": "6e566295",
   "metadata": {
    "execution": {
     "iopub.execute_input": "2023-05-03T22:05:34.264728Z",
     "iopub.status.busy": "2023-05-03T22:05:34.264297Z",
     "iopub.status.idle": "2023-05-03T22:05:34.285670Z",
     "shell.execute_reply": "2023-05-03T22:05:34.284562Z"
    },
    "papermill": {
     "duration": 0.032247,
     "end_time": "2023-05-03T22:05:34.287873",
     "exception": false,
     "start_time": "2023-05-03T22:05:34.255626",
     "status": "completed"
    },
    "tags": []
   },
   "outputs": [
    {
     "name": "stdout",
     "output_type": "stream",
     "text": [
      "<class 'pandas.core.frame.DataFrame'>\n",
      "RangeIndex: 1460 entries, 0 to 1459\n",
      "Data columns (total 81 columns):\n",
      " #   Column         Non-Null Count  Dtype  \n",
      "---  ------         --------------  -----  \n",
      " 0   Id             1460 non-null   int64  \n",
      " 1   MSSubClass     1460 non-null   int64  \n",
      " 2   MSZoning       1460 non-null   object \n",
      " 3   LotFrontage    1201 non-null   float64\n",
      " 4   LotArea        1460 non-null   int64  \n",
      " 5   Street         1460 non-null   object \n",
      " 6   Alley          91 non-null     object \n",
      " 7   LotShape       1460 non-null   object \n",
      " 8   LandContour    1460 non-null   object \n",
      " 9   Utilities      1460 non-null   object \n",
      " 10  LotConfig      1460 non-null   object \n",
      " 11  LandSlope      1460 non-null   object \n",
      " 12  Neighborhood   1460 non-null   object \n",
      " 13  Condition1     1460 non-null   object \n",
      " 14  Condition2     1460 non-null   object \n",
      " 15  BldgType       1460 non-null   object \n",
      " 16  HouseStyle     1460 non-null   object \n",
      " 17  OverallQual    1460 non-null   int64  \n",
      " 18  OverallCond    1460 non-null   int64  \n",
      " 19  YearBuilt      1460 non-null   int64  \n",
      " 20  YearRemodAdd   1460 non-null   int64  \n",
      " 21  RoofStyle      1460 non-null   object \n",
      " 22  RoofMatl       1460 non-null   object \n",
      " 23  Exterior1st    1460 non-null   object \n",
      " 24  Exterior2nd    1460 non-null   object \n",
      " 25  MasVnrType     1452 non-null   object \n",
      " 26  MasVnrArea     1452 non-null   float64\n",
      " 27  ExterQual      1460 non-null   object \n",
      " 28  ExterCond      1460 non-null   object \n",
      " 29  Foundation     1460 non-null   object \n",
      " 30  BsmtQual       1423 non-null   object \n",
      " 31  BsmtCond       1423 non-null   object \n",
      " 32  BsmtExposure   1422 non-null   object \n",
      " 33  BsmtFinType1   1423 non-null   object \n",
      " 34  BsmtFinSF1     1460 non-null   int64  \n",
      " 35  BsmtFinType2   1422 non-null   object \n",
      " 36  BsmtFinSF2     1460 non-null   int64  \n",
      " 37  BsmtUnfSF      1460 non-null   int64  \n",
      " 38  TotalBsmtSF    1460 non-null   int64  \n",
      " 39  Heating        1460 non-null   object \n",
      " 40  HeatingQC      1460 non-null   object \n",
      " 41  CentralAir     1460 non-null   object \n",
      " 42  Electrical     1459 non-null   object \n",
      " 43  1stFlrSF       1460 non-null   int64  \n",
      " 44  2ndFlrSF       1460 non-null   int64  \n",
      " 45  LowQualFinSF   1460 non-null   int64  \n",
      " 46  GrLivArea      1460 non-null   int64  \n",
      " 47  BsmtFullBath   1460 non-null   int64  \n",
      " 48  BsmtHalfBath   1460 non-null   int64  \n",
      " 49  FullBath       1460 non-null   int64  \n",
      " 50  HalfBath       1460 non-null   int64  \n",
      " 51  BedroomAbvGr   1460 non-null   int64  \n",
      " 52  KitchenAbvGr   1460 non-null   int64  \n",
      " 53  KitchenQual    1460 non-null   object \n",
      " 54  TotRmsAbvGrd   1460 non-null   int64  \n",
      " 55  Functional     1460 non-null   object \n",
      " 56  Fireplaces     1460 non-null   int64  \n",
      " 57  FireplaceQu    770 non-null    object \n",
      " 58  GarageType     1379 non-null   object \n",
      " 59  GarageYrBlt    1379 non-null   float64\n",
      " 60  GarageFinish   1379 non-null   object \n",
      " 61  GarageCars     1460 non-null   int64  \n",
      " 62  GarageArea     1460 non-null   int64  \n",
      " 63  GarageQual     1379 non-null   object \n",
      " 64  GarageCond     1379 non-null   object \n",
      " 65  PavedDrive     1460 non-null   object \n",
      " 66  WoodDeckSF     1460 non-null   int64  \n",
      " 67  OpenPorchSF    1460 non-null   int64  \n",
      " 68  EnclosedPorch  1460 non-null   int64  \n",
      " 69  3SsnPorch      1460 non-null   int64  \n",
      " 70  ScreenPorch    1460 non-null   int64  \n",
      " 71  PoolArea       1460 non-null   int64  \n",
      " 72  PoolQC         7 non-null      object \n",
      " 73  Fence          281 non-null    object \n",
      " 74  MiscFeature    54 non-null     object \n",
      " 75  MiscVal        1460 non-null   int64  \n",
      " 76  MoSold         1460 non-null   int64  \n",
      " 77  YrSold         1460 non-null   int64  \n",
      " 78  SaleType       1460 non-null   object \n",
      " 79  SaleCondition  1460 non-null   object \n",
      " 80  SalePrice      1460 non-null   int64  \n",
      "dtypes: float64(3), int64(35), object(43)\n",
      "memory usage: 924.0+ KB\n"
     ]
    }
   ],
   "source": [
    "df.info()"
   ]
  },
  {
   "cell_type": "code",
   "execution_count": 6,
   "id": "4579e684",
   "metadata": {
    "execution": {
     "iopub.execute_input": "2023-05-03T22:05:34.306443Z",
     "iopub.status.busy": "2023-05-03T22:05:34.305471Z",
     "iopub.status.idle": "2023-05-03T22:05:34.309983Z",
     "shell.execute_reply": "2023-05-03T22:05:34.308950Z"
    },
    "papermill": {
     "duration": 0.016093,
     "end_time": "2023-05-03T22:05:34.312246",
     "exception": false,
     "start_time": "2023-05-03T22:05:34.296153",
     "status": "completed"
    },
    "tags": []
   },
   "outputs": [],
   "source": [
    "#profile = ProfileReport(df, title=\"Pandas Profiling Report\")\n",
    "#profile.to_notebook_iframe()\n",
    "# Uncomment to generate. This takes up some resources so be cautious\n",
    "#profile.to_file(\"df_report.html\")"
   ]
  },
  {
   "cell_type": "markdown",
   "id": "805e0c81",
   "metadata": {
    "papermill": {
     "duration": 0.007713,
     "end_time": "2023-05-03T22:05:34.328384",
     "exception": false,
     "start_time": "2023-05-03T22:05:34.320671",
     "status": "completed"
    },
    "tags": []
   },
   "source": [
    "Let us check the distribution of the sale price"
   ]
  },
  {
   "cell_type": "code",
   "execution_count": 7,
   "id": "31a3e7ec",
   "metadata": {
    "execution": {
     "iopub.execute_input": "2023-05-03T22:05:34.345913Z",
     "iopub.status.busy": "2023-05-03T22:05:34.345564Z",
     "iopub.status.idle": "2023-05-03T22:05:34.693697Z",
     "shell.execute_reply": "2023-05-03T22:05:34.692727Z"
    },
    "papermill": {
     "duration": 0.359601,
     "end_time": "2023-05-03T22:05:34.695920",
     "exception": false,
     "start_time": "2023-05-03T22:05:34.336319",
     "status": "completed"
    },
    "tags": []
   },
   "outputs": [
    {
     "data": {
      "text/plain": [
       "<AxesSubplot:xlabel='SalePrice', ylabel='Count'>"
      ]
     },
     "execution_count": 7,
     "metadata": {},
     "output_type": "execute_result"
    },
    {
     "data": {
      "image/png": "[encoded data removed]",
      "text/plain": [
       "<Figure size 640x480 with 1 Axes>"
      ]
     },
     "metadata": {},
     "output_type": "display_data"
    }
   ],
   "source": [
    "df['SalePrice'].describe()\n",
    "sns.histplot(df['SalePrice'],kde=True)"
   ]
  },
  {
   "cell_type": "code",
   "execution_count": 8,
   "id": "a79ce4c5",
   "metadata": {
    "execution": {
     "iopub.execute_input": "2023-05-03T22:05:34.715494Z",
     "iopub.status.busy": "2023-05-03T22:05:34.714535Z",
     "iopub.status.idle": "2023-05-03T22:05:34.722256Z",
     "shell.execute_reply": "2023-05-03T22:05:34.721167Z"
    },
    "papermill": {
     "duration": 0.019524,
     "end_time": "2023-05-03T22:05:34.724534",
     "exception": false,
     "start_time": "2023-05-03T22:05:34.705010",
     "status": "completed"
    },
    "tags": []
   },
   "outputs": [
    {
     "data": {
      "text/plain": [
       "0    WD\n",
       "1    WD\n",
       "2    WD\n",
       "3    WD\n",
       "4    WD\n",
       "Name: SaleType, dtype: object"
      ]
     },
     "execution_count": 8,
     "metadata": {},
     "output_type": "execute_result"
    }
   ],
   "source": [
    "df['SaleType'].head()"
   ]
  },
  {
   "cell_type": "markdown",
   "id": "fd81c452",
   "metadata": {
    "papermill": {
     "duration": 0.008379,
     "end_time": "2023-05-03T22:05:34.741408",
     "exception": false,
     "start_time": "2023-05-03T22:05:34.733029",
     "status": "completed"
    },
    "tags": []
   },
   "source": [
    "Based on the type of algo used we may need to apply some sort of transformation. \n",
    "For example, if we are applying linear regression then we need to normalize the output variable."
   ]
  },
  {
   "cell_type": "markdown",
   "id": "f032aace",
   "metadata": {
    "papermill": {
     "duration": 0.008275,
     "end_time": "2023-05-03T22:05:34.758309",
     "exception": false,
     "start_time": "2023-05-03T22:05:34.750034",
     "status": "completed"
    },
    "tags": []
   },
   "source": [
    "Some columns can be paired together . This is called feature engineering. \n",
    "\n",
    "For example : \n",
    "\n",
    "1st Floor SF and 2nd Floor SF can be summed together to create a new variable. \n"
   ]
  },
  {
   "cell_type": "code",
   "execution_count": 9,
   "id": "1ddf4fe6",
   "metadata": {
    "execution": {
     "iopub.execute_input": "2023-05-03T22:05:34.777183Z",
     "iopub.status.busy": "2023-05-03T22:05:34.776640Z",
     "iopub.status.idle": "2023-05-03T22:05:34.790700Z",
     "shell.execute_reply": "2023-05-03T22:05:34.789646Z"
    },
    "papermill": {
     "duration": 0.025542,
     "end_time": "2023-05-03T22:05:34.792768",
     "exception": false,
     "start_time": "2023-05-03T22:05:34.767226",
     "status": "completed"
    },
    "tags": []
   },
   "outputs": [
    {
     "data": {
      "text/plain": [
       "LotFrontage      259\n",
       "Alley           1369\n",
       "MasVnrType         8\n",
       "MasVnrArea         8\n",
       "BsmtQual          37\n",
       "BsmtCond          37\n",
       "BsmtExposure      38\n",
       "BsmtFinType1      37\n",
       "BsmtFinType2      38\n",
       "Electrical         1\n",
       "FireplaceQu      690\n",
       "GarageType        81\n",
       "GarageYrBlt       81\n",
       "GarageFinish      81\n",
       "GarageQual        81\n",
       "GarageCond        81\n",
       "PoolQC          1453\n",
       "Fence           1179\n",
       "MiscFeature     1406\n",
       "dtype: int64"
      ]
     },
     "execution_count": 9,
     "metadata": {},
     "output_type": "execute_result"
    }
   ],
   "source": [
    "#df.columns[df.isna().any()].tolist()\n",
    "\n",
    "nan_columns=df.columns[df.isna().sum() > 0]\n",
    "df[nan_columns].isna().sum()\n"
   ]
  },
  {
   "cell_type": "markdown",
   "id": "49cbb1a5",
   "metadata": {
    "papermill": {
     "duration": 0.008747,
     "end_time": "2023-05-03T22:05:34.810535",
     "exception": false,
     "start_time": "2023-05-03T22:05:34.801788",
     "status": "completed"
    },
    "tags": []
   },
   "source": [
    "1. Based on above will be removing MiscFeature,Fence,PoolQC,FireplaceQu,Alley      \n",
    "2. Impute LotFrontage by mean"
   ]
  },
  {
   "cell_type": "code",
   "execution_count": 10,
   "id": "ee43fa1c",
   "metadata": {
    "execution": {
     "iopub.execute_input": "2023-05-03T22:05:34.830314Z",
     "iopub.status.busy": "2023-05-03T22:05:34.829307Z",
     "iopub.status.idle": "2023-05-03T22:05:34.836234Z",
     "shell.execute_reply": "2023-05-03T22:05:34.835268Z"
    },
    "papermill": {
     "duration": 0.01902,
     "end_time": "2023-05-03T22:05:34.838355",
     "exception": false,
     "start_time": "2023-05-03T22:05:34.819335",
     "status": "completed"
    },
    "tags": []
   },
   "outputs": [],
   "source": [
    "#1\n",
    "df.drop(['MiscFeature','Fence','PoolQC','FireplaceQu','Alley'],axis=1,inplace=True)\n",
    "#2\n",
    "# Imputation is done after the categorical columns have been dummy encoded\n",
    "\n"
   ]
  },
  {
   "cell_type": "code",
   "execution_count": 11,
   "id": "3aa8b7f3",
   "metadata": {
    "execution": {
     "iopub.execute_input": "2023-05-03T22:05:34.857105Z",
     "iopub.status.busy": "2023-05-03T22:05:34.856542Z",
     "iopub.status.idle": "2023-05-03T22:05:34.862520Z",
     "shell.execute_reply": "2023-05-03T22:05:34.861562Z"
    },
    "papermill": {
     "duration": 0.017508,
     "end_time": "2023-05-03T22:05:34.864619",
     "exception": false,
     "start_time": "2023-05-03T22:05:34.847111",
     "status": "completed"
    },
    "tags": []
   },
   "outputs": [
    {
     "data": {
      "text/plain": [
       "'\\nnan_columns.tolist()\\ndf.drop(nan_columns.tolist(),axis=1,inplace=True)\\n'"
      ]
     },
     "execution_count": 11,
     "metadata": {},
     "output_type": "execute_result"
    }
   ],
   "source": [
    "'''\n",
    "nan_columns.tolist()\n",
    "df.drop(nan_columns.tolist(),axis=1,inplace=True)\n",
    "'''"
   ]
  },
  {
   "cell_type": "code",
   "execution_count": 12,
   "id": "970f32a0",
   "metadata": {
    "execution": {
     "iopub.execute_input": "2023-05-03T22:05:34.883608Z",
     "iopub.status.busy": "2023-05-03T22:05:34.882676Z",
     "iopub.status.idle": "2023-05-03T22:05:34.888079Z",
     "shell.execute_reply": "2023-05-03T22:05:34.887172Z"
    },
    "papermill": {
     "duration": 0.016935,
     "end_time": "2023-05-03T22:05:34.890174",
     "exception": false,
     "start_time": "2023-05-03T22:05:34.873239",
     "status": "completed"
    },
    "tags": []
   },
   "outputs": [],
   "source": [
    "cols=[col for col in df.columns if col not in ['SalePrice','Id']]\n",
    "y=df['SalePrice']"
   ]
  },
  {
   "cell_type": "code",
   "execution_count": 13,
   "id": "e720e3f2",
   "metadata": {
    "execution": {
     "iopub.execute_input": "2023-05-03T22:05:34.912603Z",
     "iopub.status.busy": "2023-05-03T22:05:34.911718Z",
     "iopub.status.idle": "2023-05-03T22:05:34.917796Z",
     "shell.execute_reply": "2023-05-03T22:05:34.916918Z"
    },
    "papermill": {
     "duration": 0.02087,
     "end_time": "2023-05-03T22:05:34.919875",
     "exception": false,
     "start_time": "2023-05-03T22:05:34.899005",
     "status": "completed"
    },
    "tags": []
   },
   "outputs": [],
   "source": [
    "x=df[cols]"
   ]
  },
  {
   "cell_type": "markdown",
   "id": "4674c984",
   "metadata": {
    "papermill": {
     "duration": 0.008836,
     "end_time": "2023-05-03T22:05:34.937350",
     "exception": false,
     "start_time": "2023-05-03T22:05:34.928514",
     "status": "completed"
    },
    "tags": []
   },
   "source": [
    "#### Need to morph input so that the neural networks accepts it as an argument\n",
    "\n",
    "1. Find categorical variables. Do either 1-hot encoding or dummy encoding\n"
   ]
  },
  {
   "cell_type": "code",
   "execution_count": 14,
   "id": "6933588a",
   "metadata": {
    "execution": {
     "iopub.execute_input": "2023-05-03T22:05:34.956647Z",
     "iopub.status.busy": "2023-05-03T22:05:34.955830Z",
     "iopub.status.idle": "2023-05-03T22:05:34.963313Z",
     "shell.execute_reply": "2023-05-03T22:05:34.962400Z"
    },
    "papermill": {
     "duration": 0.01929,
     "end_time": "2023-05-03T22:05:34.965327",
     "exception": false,
     "start_time": "2023-05-03T22:05:34.946037",
     "status": "completed"
    },
    "tags": []
   },
   "outputs": [],
   "source": [
    "categorical_cols=[i for i in df.columns if df[i].dtype=='object']"
   ]
  },
  {
   "cell_type": "code",
   "execution_count": 15,
   "id": "46822368",
   "metadata": {
    "execution": {
     "iopub.execute_input": "2023-05-03T22:05:34.984147Z",
     "iopub.status.busy": "2023-05-03T22:05:34.983327Z",
     "iopub.status.idle": "2023-05-03T22:05:35.021503Z",
     "shell.execute_reply": "2023-05-03T22:05:35.020614Z"
    },
    "papermill": {
     "duration": 0.049624,
     "end_time": "2023-05-03T22:05:35.023541",
     "exception": false,
     "start_time": "2023-05-03T22:05:34.973917",
     "status": "completed"
    },
    "tags": []
   },
   "outputs": [
    {
     "data": {
      "text/plain": [
       "MSZoning           4\n",
       "LotFrontage      227\n",
       "Alley           1352\n",
       "Utilities          2\n",
       "Exterior1st        1\n",
       "Exterior2nd        1\n",
       "MasVnrType        16\n",
       "MasVnrArea        15\n",
       "BsmtQual          44\n",
       "BsmtCond          45\n",
       "BsmtExposure      44\n",
       "BsmtFinType1      42\n",
       "BsmtFinSF1         1\n",
       "BsmtFinType2      42\n",
       "BsmtFinSF2         1\n",
       "BsmtUnfSF          1\n",
       "TotalBsmtSF        1\n",
       "BsmtFullBath       2\n",
       "BsmtHalfBath       2\n",
       "KitchenQual        1\n",
       "Functional         2\n",
       "FireplaceQu      730\n",
       "GarageType        76\n",
       "GarageYrBlt       78\n",
       "GarageFinish      78\n",
       "GarageCars         1\n",
       "GarageArea         1\n",
       "GarageQual        78\n",
       "GarageCond        78\n",
       "PoolQC          1456\n",
       "Fence           1169\n",
       "MiscFeature     1408\n",
       "SaleType           1\n",
       "dtype: int64"
      ]
     },
     "execution_count": 15,
     "metadata": {},
     "output_type": "execute_result"
    }
   ],
   "source": [
    "df_test=pd.read_csv('/kaggle/input/house-prices-advanced-regression-techniques/test.csv')\n",
    "df_test_copy=df_test.copy()\n",
    "nan_columns=df_test.columns[df_test.isna().sum() > 0]\n",
    "df_test[nan_columns].isna().sum()"
   ]
  },
  {
   "cell_type": "markdown",
   "id": "adf21d71",
   "metadata": {
    "papermill": {
     "duration": 0.008544,
     "end_time": "2023-05-03T22:05:35.041030",
     "exception": false,
     "start_time": "2023-05-03T22:05:35.032486",
     "status": "completed"
    },
    "tags": []
   },
   "source": [
    "Test data also has similar distribution in terms of nulls so I will apply same null handling techniques as I applied on the train data frame"
   ]
  },
  {
   "cell_type": "code",
   "execution_count": 16,
   "id": "6f28c08e",
   "metadata": {
    "execution": {
     "iopub.execute_input": "2023-05-03T22:05:35.059895Z",
     "iopub.status.busy": "2023-05-03T22:05:35.059621Z",
     "iopub.status.idle": "2023-05-03T22:05:35.098100Z",
     "shell.execute_reply": "2023-05-03T22:05:35.097168Z"
    },
    "papermill": {
     "duration": 0.050517,
     "end_time": "2023-05-03T22:05:35.100338",
     "exception": false,
     "start_time": "2023-05-03T22:05:35.049821",
     "status": "completed"
    },
    "tags": []
   },
   "outputs": [],
   "source": [
    "\n",
    "df_test.drop(['MiscFeature','Fence','PoolQC','FireplaceQu','Alley','Id'],axis=1,inplace=True)\n",
    "categorical_cols=[i for i in df_test.columns if df_test[i].dtype=='object']\n",
    "df_test=pd.get_dummies(data=df_test,columns=categorical_cols)\n",
    "\n",
    "\n",
    "\n",
    "\n",
    "\n"
   ]
  },
  {
   "cell_type": "code",
   "execution_count": 17,
   "id": "4cd2219d",
   "metadata": {
    "execution": {
     "iopub.execute_input": "2023-05-03T22:05:35.119676Z",
     "iopub.status.busy": "2023-05-03T22:05:35.119388Z",
     "iopub.status.idle": "2023-05-03T22:05:35.153607Z",
     "shell.execute_reply": "2023-05-03T22:05:35.152754Z"
    },
    "papermill": {
     "duration": 0.046276,
     "end_time": "2023-05-03T22:05:35.155655",
     "exception": false,
     "start_time": "2023-05-03T22:05:35.109379",
     "status": "completed"
    },
    "tags": []
   },
   "outputs": [],
   "source": [
    "x=pd.get_dummies(data=x,columns=categorical_cols)\n",
    "x_drop=set(x.columns)-set(df_test.columns)\n",
    "x_drop=list(x_drop)\n",
    "x.drop(x_drop,axis=1,inplace=True)"
   ]
  },
  {
   "cell_type": "code",
   "execution_count": 18,
   "id": "e5387af3",
   "metadata": {
    "execution": {
     "iopub.execute_input": "2023-05-03T22:05:35.174424Z",
     "iopub.status.busy": "2023-05-03T22:05:35.174165Z",
     "iopub.status.idle": "2023-05-03T22:05:51.158496Z",
     "shell.execute_reply": "2023-05-03T22:05:51.157059Z"
    },
    "papermill": {
     "duration": 15.997893,
     "end_time": "2023-05-03T22:05:51.162538",
     "exception": false,
     "start_time": "2023-05-03T22:05:35.164645",
     "status": "completed"
    },
    "tags": []
   },
   "outputs": [],
   "source": [
    "imp = IterativeImputer(max_iter=10, random_state=0)\n",
    "x_reshaped=imp.fit_transform(x)"
   ]
  },
  {
   "cell_type": "markdown",
   "id": "ce73e970",
   "metadata": {
    "papermill": {
     "duration": 0.022586,
     "end_time": "2023-05-03T22:05:51.208939",
     "exception": false,
     "start_time": "2023-05-03T22:05:51.186353",
     "status": "completed"
    },
    "tags": []
   },
   "source": [
    "Standardized the features of the neural network\n",
    "\n"
   ]
  },
  {
   "cell_type": "code",
   "execution_count": 19,
   "id": "4cc0e758",
   "metadata": {
    "execution": {
     "iopub.execute_input": "2023-05-03T22:05:51.257437Z",
     "iopub.status.busy": "2023-05-03T22:05:51.256884Z",
     "iopub.status.idle": "2023-05-03T22:05:51.267914Z",
     "shell.execute_reply": "2023-05-03T22:05:51.266647Z"
    },
    "papermill": {
     "duration": 0.038735,
     "end_time": "2023-05-03T22:05:51.271287",
     "exception": false,
     "start_time": "2023-05-03T22:05:51.232552",
     "status": "completed"
    },
    "tags": []
   },
   "outputs": [],
   "source": [
    "min_max_scaler = preprocessing.MinMaxScaler()\n",
    "x_scaled = min_max_scaler.fit_transform(x_reshaped)"
   ]
  },
  {
   "cell_type": "code",
   "execution_count": 20,
   "id": "3260564a",
   "metadata": {
    "execution": {
     "iopub.execute_input": "2023-05-03T22:05:51.297162Z",
     "iopub.status.busy": "2023-05-03T22:05:51.296877Z",
     "iopub.status.idle": "2023-05-03T22:05:51.302453Z",
     "shell.execute_reply": "2023-05-03T22:05:51.301461Z"
    },
    "papermill": {
     "duration": 0.017566,
     "end_time": "2023-05-03T22:05:51.304849",
     "exception": false,
     "start_time": "2023-05-03T22:05:51.287283",
     "status": "completed"
    },
    "tags": []
   },
   "outputs": [],
   "source": [
    "y=np.array(y)\n",
    "y=y.reshape(-1, 1)\n",
    "min_max_scaler_y = preprocessing.MinMaxScaler()\n",
    "y = min_max_scaler_y.fit_transform(y)"
   ]
  },
  {
   "cell_type": "code",
   "execution_count": 21,
   "id": "4979a7fe",
   "metadata": {
    "execution": {
     "iopub.execute_input": "2023-05-03T22:05:51.325175Z",
     "iopub.status.busy": "2023-05-03T22:05:51.324061Z",
     "iopub.status.idle": "2023-05-03T22:05:51.331342Z",
     "shell.execute_reply": "2023-05-03T22:05:51.330283Z"
    },
    "papermill": {
     "duration": 0.020002,
     "end_time": "2023-05-03T22:05:51.333872",
     "exception": false,
     "start_time": "2023-05-03T22:05:51.313870",
     "status": "completed"
    },
    "tags": []
   },
   "outputs": [
    {
     "data": {
      "text/plain": [
       "array([[0.24107763],\n",
       "       [0.20358284],\n",
       "       [0.26190807],\n",
       "       ...,\n",
       "       [0.321622  ],\n",
       "       [0.14890293],\n",
       "       [0.15636717]])"
      ]
     },
     "execution_count": 21,
     "metadata": {},
     "output_type": "execute_result"
    }
   ],
   "source": [
    "y"
   ]
  },
  {
   "cell_type": "code",
   "execution_count": 22,
   "id": "7b4bdad4",
   "metadata": {
    "execution": {
     "iopub.execute_input": "2023-05-03T22:05:51.353129Z",
     "iopub.status.busy": "2023-05-03T22:05:51.352862Z",
     "iopub.status.idle": "2023-05-03T22:06:52.559399Z",
     "shell.execute_reply": "2023-05-03T22:06:52.557861Z"
    },
    "papermill": {
     "duration": 61.220943,
     "end_time": "2023-05-03T22:06:52.563932",
     "exception": false,
     "start_time": "2023-05-03T22:05:51.342989",
     "status": "completed"
    },
    "tags": []
   },
   "outputs": [],
   "source": [
    "df_test_reshaped=imp.fit_transform(df_test)\n",
    "df_test_scaled = min_max_scaler.fit_transform(df_test_reshaped)"
   ]
  },
  {
   "cell_type": "markdown",
   "id": "bb41d935",
   "metadata": {
    "papermill": {
     "duration": 0.021847,
     "end_time": "2023-05-03T22:06:52.609652",
     "exception": false,
     "start_time": "2023-05-03T22:06:52.587805",
     "status": "completed"
    },
    "tags": []
   },
   "source": [
    "### Validation split \n",
    "\n",
    "1. Required if you are doing hyperparameter tuning\n",
    "2. Before putting model into production you need a sense of how your algorithm is doing"
   ]
  },
  {
   "cell_type": "code",
   "execution_count": 23,
   "id": "e7c4ebd3",
   "metadata": {
    "execution": {
     "iopub.execute_input": "2023-05-03T22:06:52.658269Z",
     "iopub.status.busy": "2023-05-03T22:06:52.657536Z",
     "iopub.status.idle": "2023-05-03T22:06:52.669037Z",
     "shell.execute_reply": "2023-05-03T22:06:52.667753Z"
    },
    "papermill": {
     "duration": 0.039961,
     "end_time": "2023-05-03T22:06:52.672997",
     "exception": false,
     "start_time": "2023-05-03T22:06:52.633036",
     "status": "completed"
    },
    "tags": []
   },
   "outputs": [],
   "source": [
    "x_train,y_val,x_test,y_val_test=train_test_split(x_scaled,y,test_size=0.2)"
   ]
  },
  {
   "cell_type": "markdown",
   "id": "c89015e5",
   "metadata": {
    "papermill": {
     "duration": 0.00861,
     "end_time": "2023-05-03T22:06:52.692650",
     "exception": false,
     "start_time": "2023-05-03T22:06:52.684040",
     "status": "completed"
    },
    "tags": []
   },
   "source": [
    "#### Building a neural network. There are two ways to build a tensorflow model \n",
    "\n",
    "* A. You can use the sequential approach or the pipeline approach as I like to call it\n",
    "* B. You can extend a tensorflow model class and then define the layers, dropout or the callbacks in the build method.\n",
    "\n"
   ]
  },
  {
   "cell_type": "code",
   "execution_count": 24,
   "id": "50674912",
   "metadata": {
    "execution": {
     "iopub.execute_input": "2023-05-03T22:06:52.711703Z",
     "iopub.status.busy": "2023-05-03T22:06:52.711092Z",
     "iopub.status.idle": "2023-05-03T22:07:06.814758Z",
     "shell.execute_reply": "2023-05-03T22:07:06.813771Z"
    },
    "papermill": {
     "duration": 14.115645,
     "end_time": "2023-05-03T22:07:06.817095",
     "exception": false,
     "start_time": "2023-05-03T22:06:52.701450",
     "status": "completed"
    },
    "tags": []
   },
   "outputs": [
    {
     "name": "stdout",
     "output_type": "stream",
     "text": [
      "Epoch 1/20\n",
      "73/73 [==============================] - 5s 11ms/step - loss: 1.1854 - mse: 1.1854 - mae: 0.8538 - val_loss: 0.0395 - val_mse: 0.0395 - val_mae: 0.1581\n",
      "Epoch 2/20\n",
      "73/73 [==============================] - 0s 4ms/step - loss: 0.5496 - mse: 0.5496 - mae: 0.5866 - val_loss: 0.0931 - val_mse: 0.0931 - val_mae: 0.2558\n",
      "Epoch 3/20\n",
      "73/73 [==============================] - 0s 4ms/step - loss: 0.3306 - mse: 0.3306 - mae: 0.4575 - val_loss: 0.0885 - val_mse: 0.0885 - val_mae: 0.2526\n",
      "Epoch 4/20\n",
      "73/73 [==============================] - 0s 4ms/step - loss: 0.2680 - mse: 0.2680 - mae: 0.4064 - val_loss: 0.0513 - val_mse: 0.0513 - val_mae: 0.1785\n",
      "Epoch 5/20\n",
      "73/73 [==============================] - 0s 4ms/step - loss: 0.1892 - mse: 0.1892 - mae: 0.3467 - val_loss: 0.0458 - val_mse: 0.0458 - val_mae: 0.1740\n",
      "Epoch 6/20\n",
      "73/73 [==============================] - 0s 4ms/step - loss: 0.1470 - mse: 0.1470 - mae: 0.3042 - val_loss: 0.0390 - val_mse: 0.0390 - val_mae: 0.1593\n",
      "Epoch 7/20\n",
      "73/73 [==============================] - 0s 4ms/step - loss: 0.1160 - mse: 0.1160 - mae: 0.2657 - val_loss: 0.0239 - val_mse: 0.0239 - val_mae: 0.1186\n",
      "Epoch 8/20\n",
      "73/73 [==============================] - 0s 4ms/step - loss: 0.1004 - mse: 0.1004 - mae: 0.2491 - val_loss: 0.0204 - val_mse: 0.0204 - val_mae: 0.1125\n",
      "Epoch 9/20\n",
      "73/73 [==============================] - 0s 4ms/step - loss: 0.0818 - mse: 0.0818 - mae: 0.2250 - val_loss: 0.0144 - val_mse: 0.0144 - val_mae: 0.0912\n",
      "Epoch 10/20\n",
      "73/73 [==============================] - 0s 4ms/step - loss: 0.0692 - mse: 0.0692 - mae: 0.2036 - val_loss: 0.0131 - val_mse: 0.0131 - val_mae: 0.0860\n",
      "Epoch 11/20\n",
      "73/73 [==============================] - 0s 4ms/step - loss: 0.0593 - mse: 0.0593 - mae: 0.1868 - val_loss: 0.0110 - val_mse: 0.0110 - val_mae: 0.0795\n",
      "Epoch 12/20\n",
      "73/73 [==============================] - 0s 6ms/step - loss: 0.0473 - mse: 0.0473 - mae: 0.1700 - val_loss: 0.0089 - val_mse: 0.0089 - val_mae: 0.0722\n",
      "Epoch 13/20\n",
      "73/73 [==============================] - 0s 4ms/step - loss: 0.0433 - mse: 0.0433 - mae: 0.1633 - val_loss: 0.0090 - val_mse: 0.0090 - val_mae: 0.0703\n",
      "Epoch 14/20\n",
      "73/73 [==============================] - 0s 4ms/step - loss: 0.0354 - mse: 0.0354 - mae: 0.1435 - val_loss: 0.0065 - val_mse: 0.0065 - val_mae: 0.0594\n",
      "Epoch 15/20\n",
      "73/73 [==============================] - 0s 4ms/step - loss: 0.0322 - mse: 0.0322 - mae: 0.1391 - val_loss: 0.0064 - val_mse: 0.0064 - val_mae: 0.0599\n",
      "Epoch 16/20\n",
      "73/73 [==============================] - 0s 4ms/step - loss: 0.0252 - mse: 0.0252 - mae: 0.1227 - val_loss: 0.0058 - val_mse: 0.0058 - val_mae: 0.0550\n",
      "Epoch 17/20\n",
      "73/73 [==============================] - 0s 4ms/step - loss: 0.0227 - mse: 0.0227 - mae: 0.1152 - val_loss: 0.0054 - val_mse: 0.0054 - val_mae: 0.0502\n",
      "Epoch 18/20\n",
      "73/73 [==============================] - 0s 4ms/step - loss: 0.0202 - mse: 0.0202 - mae: 0.1089 - val_loss: 0.0046 - val_mse: 0.0046 - val_mae: 0.0492\n",
      "Epoch 19/20\n",
      "73/73 [==============================] - 0s 4ms/step - loss: 0.0180 - mse: 0.0180 - mae: 0.1054 - val_loss: 0.0044 - val_mse: 0.0044 - val_mae: 0.0464\n",
      "Epoch 20/20\n",
      "73/73 [==============================] - 0s 4ms/step - loss: 0.0149 - mse: 0.0149 - mae: 0.0943 - val_loss: 0.0040 - val_mse: 0.0040 - val_mae: 0.0450\n"
     ]
    }
   ],
   "source": [
    "# Add a dropout layer\n",
    "\n",
    "model=tf.keras.Sequential()\n",
    "model.add(tf.keras.layers.Dense(300,activation='relu'))\n",
    "model.add(tf.keras.layers.Dropout(0.1))\n",
    "model.add(tf.keras.layers.BatchNormalization())\n",
    "model.add(tf.keras.layers.Dense(60,'relu'))\n",
    "model.add(tf.keras.layers.BatchNormalization())\n",
    "model.add(tf.keras.layers.Dropout(0.1))          \n",
    "model.add(tf.keras.layers.Dense(1,activation='linear'))\n",
    "model.compile(optimizer=tf.keras.optimizers.Adam(learning_rate=1e-3), loss='mse',metrics=['mse','mae'])\n",
    "hist=model.fit(x_train, x_test, batch_size=16, epochs=20,validation_data=(y_val,y_val_test))\n",
    "\n",
    "#model.summary()\n",
    "# This builds the model for the first time\n"
   ]
  },
  {
   "cell_type": "code",
   "execution_count": 25,
   "id": "a6c02d5e",
   "metadata": {
    "execution": {
     "iopub.execute_input": "2023-05-03T22:07:06.853118Z",
     "iopub.status.busy": "2023-05-03T22:07:06.852234Z",
     "iopub.status.idle": "2023-05-03T22:07:07.121752Z",
     "shell.execute_reply": "2023-05-03T22:07:07.120757Z"
    },
    "papermill": {
     "duration": 0.290654,
     "end_time": "2023-05-03T22:07:07.124677",
     "exception": false,
     "start_time": "2023-05-03T22:07:06.834023",
     "status": "completed"
    },
    "tags": []
   },
   "outputs": [
    {
     "name": "stdout",
     "output_type": "stream",
     "text": [
      "46/46 [==============================] - 0s 2ms/step\n"
     ]
    }
   ],
   "source": [
    "test_output=model.predict(df_test_scaled)"
   ]
  },
  {
   "cell_type": "code",
   "execution_count": 26,
   "id": "791a80e6",
   "metadata": {
    "execution": {
     "iopub.execute_input": "2023-05-03T22:07:07.159824Z",
     "iopub.status.busy": "2023-05-03T22:07:07.159280Z",
     "iopub.status.idle": "2023-05-03T22:07:07.167607Z",
     "shell.execute_reply": "2023-05-03T22:07:07.166478Z"
    },
    "papermill": {
     "duration": 0.028484,
     "end_time": "2023-05-03T22:07:07.169875",
     "exception": false,
     "start_time": "2023-05-03T22:07:07.141391",
     "status": "completed"
    },
    "tags": []
   },
   "outputs": [
    {
     "data": {
      "text/plain": [
       "array([[0.10697097],\n",
       "       [0.25197378],\n",
       "       [0.22197476],\n",
       "       ...,\n",
       "       [0.16094601],\n",
       "       [0.17034611],\n",
       "       [0.22357932]], dtype=float32)"
      ]
     },
     "execution_count": 26,
     "metadata": {},
     "output_type": "execute_result"
    }
   ],
   "source": [
    "test_output"
   ]
  },
  {
   "cell_type": "code",
   "execution_count": 27,
   "id": "e3fe90ff",
   "metadata": {
    "execution": {
     "iopub.execute_input": "2023-05-03T22:07:07.204763Z",
     "iopub.status.busy": "2023-05-03T22:07:07.204467Z",
     "iopub.status.idle": "2023-05-03T22:07:07.209685Z",
     "shell.execute_reply": "2023-05-03T22:07:07.208514Z"
    },
    "papermill": {
     "duration": 0.024884,
     "end_time": "2023-05-03T22:07:07.211914",
     "exception": false,
     "start_time": "2023-05-03T22:07:07.187030",
     "status": "completed"
    },
    "tags": []
   },
   "outputs": [],
   "source": [
    "scaled_output=min_max_scaler_y.inverse_transform(test_output)"
   ]
  },
  {
   "cell_type": "code",
   "execution_count": 28,
   "id": "7d713bff",
   "metadata": {
    "execution": {
     "iopub.execute_input": "2023-05-03T22:07:07.245982Z",
     "iopub.status.busy": "2023-05-03T22:07:07.245704Z",
     "iopub.status.idle": "2023-05-03T22:07:07.254403Z",
     "shell.execute_reply": "2023-05-03T22:07:07.253318Z"
    },
    "papermill": {
     "duration": 0.028338,
     "end_time": "2023-05-03T22:07:07.256651",
     "exception": false,
     "start_time": "2023-05-03T22:07:07.228313",
     "status": "completed"
    },
    "tags": []
   },
   "outputs": [
    {
     "data": {
      "text/plain": [
       "0       1461\n",
       "1       1462\n",
       "2       1463\n",
       "3       1464\n",
       "4       1465\n",
       "        ... \n",
       "1454    2915\n",
       "1455    2916\n",
       "1456    2917\n",
       "1457    2918\n",
       "1458    2919\n",
       "Name: Id, Length: 1459, dtype: int64"
      ]
     },
     "execution_count": 28,
     "metadata": {},
     "output_type": "execute_result"
    }
   ],
   "source": [
    "#scaled_output\n",
    "df_test_copy['Id']"
   ]
  },
  {
   "cell_type": "code",
   "execution_count": 29,
   "id": "de487a55",
   "metadata": {
    "execution": {
     "iopub.execute_input": "2023-05-03T22:07:07.291555Z",
     "iopub.status.busy": "2023-05-03T22:07:07.290776Z",
     "iopub.status.idle": "2023-05-03T22:07:07.295986Z",
     "shell.execute_reply": "2023-05-03T22:07:07.295017Z"
    },
    "papermill": {
     "duration": 0.024666,
     "end_time": "2023-05-03T22:07:07.298010",
     "exception": false,
     "start_time": "2023-05-03T22:07:07.273344",
     "status": "completed"
    },
    "tags": []
   },
   "outputs": [],
   "source": [
    "submission_df=pd.DataFrame(scaled_output,columns=['SalePrice'],index=df_test_copy['Id'])"
   ]
  },
  {
   "cell_type": "code",
   "execution_count": 30,
   "id": "79ff8ad8",
   "metadata": {
    "execution": {
     "iopub.execute_input": "2023-05-03T22:07:07.332303Z",
     "iopub.status.busy": "2023-05-03T22:07:07.332042Z",
     "iopub.status.idle": "2023-05-03T22:07:07.340998Z",
     "shell.execute_reply": "2023-05-03T22:07:07.340121Z"
    },
    "papermill": {
     "duration": 0.028901,
     "end_time": "2023-05-03T22:07:07.343352",
     "exception": false,
     "start_time": "2023-05-03T22:07:07.314451",
     "status": "completed"
    },
    "tags": []
   },
   "outputs": [],
   "source": [
    "submission_df.to_csv('submission.csv')"
   ]
  }
 ],
 "metadata": {
  "kernelspec": {
   "display_name": "Python 3",
   "language": "python",
   "name": "python3"
  },
  "language_info": {
   "codemirror_mode": {
    "name": "ipython",
    "version": 3
   },
   "file_extension": ".py",
   "mimetype": "text/x-python",
   "name": "python",
   "nbconvert_exporter": "python",
   "pygments_lexer": "ipython3",
   "version": "3.7.12"
  },
  "papermill": {
   "default_parameters": {},
   "duration": 114.813065,
   "end_time": "2023-05-03T22:07:10.181040",
   "environment_variables": {},
   "exception": null,
   "input_path": "__notebook__.ipynb",
   "output_path": "__notebook__.ipynb",
   "parameters": {},
   "start_time": "2023-05-03T22:05:15.367975",
   "version": "2.4.0"
  }
 },
 "nbformat": 4,
 "nbformat_minor": 5
}
